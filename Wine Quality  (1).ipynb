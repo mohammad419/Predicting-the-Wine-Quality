{
 "cells": [
  {
   "cell_type": "markdown",
   "metadata": {},
   "source": [
    "## Data Science Classification Project: Predicting The Quality of Wine\n",
    "\n",
    "### Loading Required Libraries"
   ]
  },
  {
   "cell_type": "code",
   "execution_count": 1,
   "metadata": {},
   "outputs": [],
   "source": [
    "import numpy as np\n",
    "import pandas as pd\n",
    "import seaborn as sns\n",
    "import matplotlib.pyplot as plt"
   ]
  },
  {
   "cell_type": "code",
   "execution_count": 2,
   "metadata": {},
   "outputs": [],
   "source": [
    "from sklearn.model_selection import cross_val_score\n",
    "from sklearn.metrics import log_loss\n",
    "from xgboost import XGBClassifier, XGBRFClassifier\n",
    "from sklearn.ensemble import ExtraTreesClassifier, RandomForestClassifier\n",
    "from lightgbm import LGBMClassifier\n",
    "from bayes_opt import BayesianOptimization\n",
    "from bayes_opt.util import Colours"
   ]
  },
  {
   "cell_type": "code",
   "execution_count": 3,
   "metadata": {},
   "outputs": [],
   "source": [
    "data = pd.read_csv(r'E:/Data_Sets/winequality.csv')"
   ]
  },
  {
   "cell_type": "markdown",
   "metadata": {},
   "source": [
    "# Exploratory Data Analysis"
   ]
  },
  {
   "cell_type": "code",
   "execution_count": 5,
   "metadata": {},
   "outputs": [
    {
     "name": "stdout",
     "output_type": "stream",
     "text": [
      "<class 'pandas.core.frame.DataFrame'>\n",
      "RangeIndex: 6497 entries, 0 to 6496\n",
      "Data columns (total 13 columns):\n",
      " #   Column                Non-Null Count  Dtype  \n",
      "---  ------                --------------  -----  \n",
      " 0   type                  6497 non-null   object \n",
      " 1   fixed acidity         6487 non-null   float64\n",
      " 2   volatile acidity      6489 non-null   float64\n",
      " 3   citric acid           6494 non-null   float64\n",
      " 4   residual sugar        6495 non-null   float64\n",
      " 5   chlorides             6495 non-null   float64\n",
      " 6   free sulfur dioxide   6497 non-null   float64\n",
      " 7   total sulfur dioxide  6497 non-null   float64\n",
      " 8   density               6497 non-null   float64\n",
      " 9   pH                    6488 non-null   float64\n",
      " 10  sulphates             6493 non-null   float64\n",
      " 11  alcohol               6497 non-null   float64\n",
      " 12  quality               6497 non-null   int64  \n",
      "dtypes: float64(11), int64(1), object(1)\n",
      "memory usage: 660.0+ KB\n"
     ]
    }
   ],
   "source": [
    "data.info()"
   ]
  },
  {
   "cell_type": "code",
   "execution_count": 6,
   "metadata": {},
   "outputs": [
    {
     "data": {
      "text/plain": [
       "type                     0\n",
       "fixed acidity           10\n",
       "volatile acidity         8\n",
       "citric acid              3\n",
       "residual sugar           2\n",
       "chlorides                2\n",
       "free sulfur dioxide      0\n",
       "total sulfur dioxide     0\n",
       "density                  0\n",
       "pH                       9\n",
       "sulphates                4\n",
       "alcohol                  0\n",
       "quality                  0\n",
       "dtype: int64"
      ]
     },
     "execution_count": 6,
     "metadata": {},
     "output_type": "execute_result"
    }
   ],
   "source": [
    "data.isnull().sum()"
   ]
  },
  {
   "cell_type": "code",
   "execution_count": 7,
   "metadata": {},
   "outputs": [
    {
     "data": {
      "text/plain": [
       "array(['white', 'red'], dtype=object)"
      ]
     },
     "execution_count": 7,
     "metadata": {},
     "output_type": "execute_result"
    }
   ],
   "source": [
    "data['type'].unique()"
   ]
  },
  {
   "cell_type": "code",
   "execution_count": 8,
   "metadata": {},
   "outputs": [],
   "source": [
    "A = pd.get_dummies(data['type'])"
   ]
  },
  {
   "cell_type": "code",
   "execution_count": 9,
   "metadata": {},
   "outputs": [
    {
     "data": {
      "text/html": [
       "<div>\n",
       "<style scoped>\n",
       "    .dataframe tbody tr th:only-of-type {\n",
       "        vertical-align: middle;\n",
       "    }\n",
       "\n",
       "    .dataframe tbody tr th {\n",
       "        vertical-align: top;\n",
       "    }\n",
       "\n",
       "    .dataframe thead th {\n",
       "        text-align: right;\n",
       "    }\n",
       "</style>\n",
       "<table border=\"1\" class=\"dataframe\">\n",
       "  <thead>\n",
       "    <tr style=\"text-align: right;\">\n",
       "      <th></th>\n",
       "      <th>red</th>\n",
       "      <th>white</th>\n",
       "    </tr>\n",
       "  </thead>\n",
       "  <tbody>\n",
       "    <tr>\n",
       "      <th>0</th>\n",
       "      <td>0</td>\n",
       "      <td>1</td>\n",
       "    </tr>\n",
       "    <tr>\n",
       "      <th>1</th>\n",
       "      <td>0</td>\n",
       "      <td>1</td>\n",
       "    </tr>\n",
       "    <tr>\n",
       "      <th>2</th>\n",
       "      <td>0</td>\n",
       "      <td>1</td>\n",
       "    </tr>\n",
       "    <tr>\n",
       "      <th>3</th>\n",
       "      <td>0</td>\n",
       "      <td>1</td>\n",
       "    </tr>\n",
       "    <tr>\n",
       "      <th>4</th>\n",
       "      <td>0</td>\n",
       "      <td>1</td>\n",
       "    </tr>\n",
       "  </tbody>\n",
       "</table>\n",
       "</div>"
      ],
      "text/plain": [
       "   red  white\n",
       "0    0      1\n",
       "1    0      1\n",
       "2    0      1\n",
       "3    0      1\n",
       "4    0      1"
      ]
     },
     "execution_count": 9,
     "metadata": {},
     "output_type": "execute_result"
    }
   ],
   "source": [
    "A.head()"
   ]
  },
  {
   "cell_type": "code",
   "execution_count": 10,
   "metadata": {},
   "outputs": [],
   "source": [
    "d1 = pd.concat([A,data], axis=1)"
   ]
  },
  {
   "cell_type": "code",
   "execution_count": 11,
   "metadata": {},
   "outputs": [
    {
     "data": {
      "text/html": [
       "<div>\n",
       "<style scoped>\n",
       "    .dataframe tbody tr th:only-of-type {\n",
       "        vertical-align: middle;\n",
       "    }\n",
       "\n",
       "    .dataframe tbody tr th {\n",
       "        vertical-align: top;\n",
       "    }\n",
       "\n",
       "    .dataframe thead th {\n",
       "        text-align: right;\n",
       "    }\n",
       "</style>\n",
       "<table border=\"1\" class=\"dataframe\">\n",
       "  <thead>\n",
       "    <tr style=\"text-align: right;\">\n",
       "      <th></th>\n",
       "      <th>red</th>\n",
       "      <th>white</th>\n",
       "      <th>type</th>\n",
       "      <th>fixed acidity</th>\n",
       "      <th>volatile acidity</th>\n",
       "      <th>citric acid</th>\n",
       "      <th>residual sugar</th>\n",
       "      <th>chlorides</th>\n",
       "      <th>free sulfur dioxide</th>\n",
       "      <th>total sulfur dioxide</th>\n",
       "      <th>density</th>\n",
       "      <th>pH</th>\n",
       "      <th>sulphates</th>\n",
       "      <th>alcohol</th>\n",
       "      <th>quality</th>\n",
       "    </tr>\n",
       "  </thead>\n",
       "  <tbody>\n",
       "    <tr>\n",
       "      <th>0</th>\n",
       "      <td>0</td>\n",
       "      <td>1</td>\n",
       "      <td>white</td>\n",
       "      <td>7.0</td>\n",
       "      <td>0.27</td>\n",
       "      <td>0.36</td>\n",
       "      <td>20.7</td>\n",
       "      <td>0.045</td>\n",
       "      <td>45.0</td>\n",
       "      <td>170.0</td>\n",
       "      <td>1.0010</td>\n",
       "      <td>3.00</td>\n",
       "      <td>0.45</td>\n",
       "      <td>8.8</td>\n",
       "      <td>6</td>\n",
       "    </tr>\n",
       "    <tr>\n",
       "      <th>1</th>\n",
       "      <td>0</td>\n",
       "      <td>1</td>\n",
       "      <td>white</td>\n",
       "      <td>6.3</td>\n",
       "      <td>0.30</td>\n",
       "      <td>0.34</td>\n",
       "      <td>1.6</td>\n",
       "      <td>0.049</td>\n",
       "      <td>14.0</td>\n",
       "      <td>132.0</td>\n",
       "      <td>0.9940</td>\n",
       "      <td>3.30</td>\n",
       "      <td>0.49</td>\n",
       "      <td>9.5</td>\n",
       "      <td>6</td>\n",
       "    </tr>\n",
       "    <tr>\n",
       "      <th>2</th>\n",
       "      <td>0</td>\n",
       "      <td>1</td>\n",
       "      <td>white</td>\n",
       "      <td>8.1</td>\n",
       "      <td>0.28</td>\n",
       "      <td>0.40</td>\n",
       "      <td>6.9</td>\n",
       "      <td>0.050</td>\n",
       "      <td>30.0</td>\n",
       "      <td>97.0</td>\n",
       "      <td>0.9951</td>\n",
       "      <td>3.26</td>\n",
       "      <td>0.44</td>\n",
       "      <td>10.1</td>\n",
       "      <td>6</td>\n",
       "    </tr>\n",
       "    <tr>\n",
       "      <th>3</th>\n",
       "      <td>0</td>\n",
       "      <td>1</td>\n",
       "      <td>white</td>\n",
       "      <td>7.2</td>\n",
       "      <td>0.23</td>\n",
       "      <td>0.32</td>\n",
       "      <td>8.5</td>\n",
       "      <td>0.058</td>\n",
       "      <td>47.0</td>\n",
       "      <td>186.0</td>\n",
       "      <td>0.9956</td>\n",
       "      <td>3.19</td>\n",
       "      <td>0.40</td>\n",
       "      <td>9.9</td>\n",
       "      <td>6</td>\n",
       "    </tr>\n",
       "    <tr>\n",
       "      <th>4</th>\n",
       "      <td>0</td>\n",
       "      <td>1</td>\n",
       "      <td>white</td>\n",
       "      <td>7.2</td>\n",
       "      <td>0.23</td>\n",
       "      <td>0.32</td>\n",
       "      <td>8.5</td>\n",
       "      <td>0.058</td>\n",
       "      <td>47.0</td>\n",
       "      <td>186.0</td>\n",
       "      <td>0.9956</td>\n",
       "      <td>3.19</td>\n",
       "      <td>0.40</td>\n",
       "      <td>9.9</td>\n",
       "      <td>6</td>\n",
       "    </tr>\n",
       "  </tbody>\n",
       "</table>\n",
       "</div>"
      ],
      "text/plain": [
       "   red  white   type  fixed acidity  volatile acidity  citric acid  \\\n",
       "0    0      1  white            7.0              0.27         0.36   \n",
       "1    0      1  white            6.3              0.30         0.34   \n",
       "2    0      1  white            8.1              0.28         0.40   \n",
       "3    0      1  white            7.2              0.23         0.32   \n",
       "4    0      1  white            7.2              0.23         0.32   \n",
       "\n",
       "   residual sugar  chlorides  free sulfur dioxide  total sulfur dioxide  \\\n",
       "0            20.7      0.045                 45.0                 170.0   \n",
       "1             1.6      0.049                 14.0                 132.0   \n",
       "2             6.9      0.050                 30.0                  97.0   \n",
       "3             8.5      0.058                 47.0                 186.0   \n",
       "4             8.5      0.058                 47.0                 186.0   \n",
       "\n",
       "   density    pH  sulphates  alcohol  quality  \n",
       "0   1.0010  3.00       0.45      8.8        6  \n",
       "1   0.9940  3.30       0.49      9.5        6  \n",
       "2   0.9951  3.26       0.44     10.1        6  \n",
       "3   0.9956  3.19       0.40      9.9        6  \n",
       "4   0.9956  3.19       0.40      9.9        6  "
      ]
     },
     "execution_count": 11,
     "metadata": {},
     "output_type": "execute_result"
    }
   ],
   "source": [
    "d1.head()"
   ]
  },
  {
   "cell_type": "code",
   "execution_count": 12,
   "metadata": {},
   "outputs": [],
   "source": [
    "d1.drop(['type'], inplace=True, axis=1)"
   ]
  },
  {
   "cell_type": "code",
   "execution_count": 13,
   "metadata": {},
   "outputs": [
    {
     "data": {
      "text/html": [
       "<div>\n",
       "<style scoped>\n",
       "    .dataframe tbody tr th:only-of-type {\n",
       "        vertical-align: middle;\n",
       "    }\n",
       "\n",
       "    .dataframe tbody tr th {\n",
       "        vertical-align: top;\n",
       "    }\n",
       "\n",
       "    .dataframe thead th {\n",
       "        text-align: right;\n",
       "    }\n",
       "</style>\n",
       "<table border=\"1\" class=\"dataframe\">\n",
       "  <thead>\n",
       "    <tr style=\"text-align: right;\">\n",
       "      <th></th>\n",
       "      <th>red</th>\n",
       "      <th>white</th>\n",
       "      <th>fixed acidity</th>\n",
       "      <th>volatile acidity</th>\n",
       "      <th>citric acid</th>\n",
       "      <th>residual sugar</th>\n",
       "      <th>chlorides</th>\n",
       "      <th>free sulfur dioxide</th>\n",
       "      <th>total sulfur dioxide</th>\n",
       "      <th>density</th>\n",
       "      <th>pH</th>\n",
       "      <th>sulphates</th>\n",
       "      <th>alcohol</th>\n",
       "      <th>quality</th>\n",
       "    </tr>\n",
       "  </thead>\n",
       "  <tbody>\n",
       "    <tr>\n",
       "      <th>0</th>\n",
       "      <td>0</td>\n",
       "      <td>1</td>\n",
       "      <td>7.0</td>\n",
       "      <td>0.27</td>\n",
       "      <td>0.36</td>\n",
       "      <td>20.7</td>\n",
       "      <td>0.045</td>\n",
       "      <td>45.0</td>\n",
       "      <td>170.0</td>\n",
       "      <td>1.0010</td>\n",
       "      <td>3.00</td>\n",
       "      <td>0.45</td>\n",
       "      <td>8.8</td>\n",
       "      <td>6</td>\n",
       "    </tr>\n",
       "    <tr>\n",
       "      <th>1</th>\n",
       "      <td>0</td>\n",
       "      <td>1</td>\n",
       "      <td>6.3</td>\n",
       "      <td>0.30</td>\n",
       "      <td>0.34</td>\n",
       "      <td>1.6</td>\n",
       "      <td>0.049</td>\n",
       "      <td>14.0</td>\n",
       "      <td>132.0</td>\n",
       "      <td>0.9940</td>\n",
       "      <td>3.30</td>\n",
       "      <td>0.49</td>\n",
       "      <td>9.5</td>\n",
       "      <td>6</td>\n",
       "    </tr>\n",
       "    <tr>\n",
       "      <th>2</th>\n",
       "      <td>0</td>\n",
       "      <td>1</td>\n",
       "      <td>8.1</td>\n",
       "      <td>0.28</td>\n",
       "      <td>0.40</td>\n",
       "      <td>6.9</td>\n",
       "      <td>0.050</td>\n",
       "      <td>30.0</td>\n",
       "      <td>97.0</td>\n",
       "      <td>0.9951</td>\n",
       "      <td>3.26</td>\n",
       "      <td>0.44</td>\n",
       "      <td>10.1</td>\n",
       "      <td>6</td>\n",
       "    </tr>\n",
       "    <tr>\n",
       "      <th>3</th>\n",
       "      <td>0</td>\n",
       "      <td>1</td>\n",
       "      <td>7.2</td>\n",
       "      <td>0.23</td>\n",
       "      <td>0.32</td>\n",
       "      <td>8.5</td>\n",
       "      <td>0.058</td>\n",
       "      <td>47.0</td>\n",
       "      <td>186.0</td>\n",
       "      <td>0.9956</td>\n",
       "      <td>3.19</td>\n",
       "      <td>0.40</td>\n",
       "      <td>9.9</td>\n",
       "      <td>6</td>\n",
       "    </tr>\n",
       "    <tr>\n",
       "      <th>4</th>\n",
       "      <td>0</td>\n",
       "      <td>1</td>\n",
       "      <td>7.2</td>\n",
       "      <td>0.23</td>\n",
       "      <td>0.32</td>\n",
       "      <td>8.5</td>\n",
       "      <td>0.058</td>\n",
       "      <td>47.0</td>\n",
       "      <td>186.0</td>\n",
       "      <td>0.9956</td>\n",
       "      <td>3.19</td>\n",
       "      <td>0.40</td>\n",
       "      <td>9.9</td>\n",
       "      <td>6</td>\n",
       "    </tr>\n",
       "  </tbody>\n",
       "</table>\n",
       "</div>"
      ],
      "text/plain": [
       "   red  white  fixed acidity  volatile acidity  citric acid  residual sugar  \\\n",
       "0    0      1            7.0              0.27         0.36            20.7   \n",
       "1    0      1            6.3              0.30         0.34             1.6   \n",
       "2    0      1            8.1              0.28         0.40             6.9   \n",
       "3    0      1            7.2              0.23         0.32             8.5   \n",
       "4    0      1            7.2              0.23         0.32             8.5   \n",
       "\n",
       "   chlorides  free sulfur dioxide  total sulfur dioxide  density    pH  \\\n",
       "0      0.045                 45.0                 170.0   1.0010  3.00   \n",
       "1      0.049                 14.0                 132.0   0.9940  3.30   \n",
       "2      0.050                 30.0                  97.0   0.9951  3.26   \n",
       "3      0.058                 47.0                 186.0   0.9956  3.19   \n",
       "4      0.058                 47.0                 186.0   0.9956  3.19   \n",
       "\n",
       "   sulphates  alcohol  quality  \n",
       "0       0.45      8.8        6  \n",
       "1       0.49      9.5        6  \n",
       "2       0.44     10.1        6  \n",
       "3       0.40      9.9        6  \n",
       "4       0.40      9.9        6  "
      ]
     },
     "execution_count": 13,
     "metadata": {},
     "output_type": "execute_result"
    }
   ],
   "source": [
    "d1.head()"
   ]
  },
  {
   "cell_type": "code",
   "execution_count": 14,
   "metadata": {},
   "outputs": [
    {
     "data": {
      "text/plain": [
       "red                     0\n",
       "white                   0\n",
       "fixed acidity           0\n",
       "volatile acidity        0\n",
       "citric acid             0\n",
       "residual sugar          0\n",
       "chlorides               0\n",
       "free sulfur dioxide     0\n",
       "total sulfur dioxide    0\n",
       "density                 0\n",
       "pH                      0\n",
       "sulphates               0\n",
       "alcohol                 0\n",
       "quality                 0\n",
       "dtype: int64"
      ]
     },
     "execution_count": 14,
     "metadata": {},
     "output_type": "execute_result"
    }
   ],
   "source": [
    "d2 = d1.dropna()\n",
    "d2.isnull().sum()"
   ]
  },
  {
   "cell_type": "code",
   "execution_count": 15,
   "metadata": {},
   "outputs": [
    {
     "name": "stdout",
     "output_type": "stream",
     "text": [
      "<class 'pandas.core.frame.DataFrame'>\n",
      "Int64Index: 6463 entries, 0 to 6496\n",
      "Data columns (total 14 columns):\n",
      " #   Column                Non-Null Count  Dtype  \n",
      "---  ------                --------------  -----  \n",
      " 0   red                   6463 non-null   uint8  \n",
      " 1   white                 6463 non-null   uint8  \n",
      " 2   fixed acidity         6463 non-null   float64\n",
      " 3   volatile acidity      6463 non-null   float64\n",
      " 4   citric acid           6463 non-null   float64\n",
      " 5   residual sugar        6463 non-null   float64\n",
      " 6   chlorides             6463 non-null   float64\n",
      " 7   free sulfur dioxide   6463 non-null   float64\n",
      " 8   total sulfur dioxide  6463 non-null   float64\n",
      " 9   density               6463 non-null   float64\n",
      " 10  pH                    6463 non-null   float64\n",
      " 11  sulphates             6463 non-null   float64\n",
      " 12  alcohol               6463 non-null   float64\n",
      " 13  quality               6463 non-null   int64  \n",
      "dtypes: float64(11), int64(1), uint8(2)\n",
      "memory usage: 669.0 KB\n"
     ]
    }
   ],
   "source": [
    "d2.info()"
   ]
  },
  {
   "cell_type": "code",
   "execution_count": 16,
   "metadata": {},
   "outputs": [
    {
     "data": {
      "text/html": [
       "<div>\n",
       "<style scoped>\n",
       "    .dataframe tbody tr th:only-of-type {\n",
       "        vertical-align: middle;\n",
       "    }\n",
       "\n",
       "    .dataframe tbody tr th {\n",
       "        vertical-align: top;\n",
       "    }\n",
       "\n",
       "    .dataframe thead th {\n",
       "        text-align: right;\n",
       "    }\n",
       "</style>\n",
       "<table border=\"1\" class=\"dataframe\">\n",
       "  <thead>\n",
       "    <tr style=\"text-align: right;\">\n",
       "      <th></th>\n",
       "      <th>red</th>\n",
       "      <th>white</th>\n",
       "      <th>fixed acidity</th>\n",
       "      <th>volatile acidity</th>\n",
       "      <th>citric acid</th>\n",
       "      <th>residual sugar</th>\n",
       "      <th>chlorides</th>\n",
       "      <th>free sulfur dioxide</th>\n",
       "      <th>total sulfur dioxide</th>\n",
       "      <th>density</th>\n",
       "      <th>pH</th>\n",
       "      <th>sulphates</th>\n",
       "      <th>alcohol</th>\n",
       "      <th>quality</th>\n",
       "    </tr>\n",
       "  </thead>\n",
       "  <tbody>\n",
       "    <tr>\n",
       "      <th>count</th>\n",
       "      <td>6463.000000</td>\n",
       "      <td>6463.000000</td>\n",
       "      <td>6463.000000</td>\n",
       "      <td>6463.000000</td>\n",
       "      <td>6463.000000</td>\n",
       "      <td>6463.000000</td>\n",
       "      <td>6463.000000</td>\n",
       "      <td>6463.000000</td>\n",
       "      <td>6463.000000</td>\n",
       "      <td>6463.000000</td>\n",
       "      <td>6463.000000</td>\n",
       "      <td>6463.000000</td>\n",
       "      <td>6463.000000</td>\n",
       "      <td>6463.000000</td>\n",
       "    </tr>\n",
       "    <tr>\n",
       "      <th>mean</th>\n",
       "      <td>0.246480</td>\n",
       "      <td>0.753520</td>\n",
       "      <td>7.217755</td>\n",
       "      <td>0.339589</td>\n",
       "      <td>0.318758</td>\n",
       "      <td>5.443958</td>\n",
       "      <td>0.056056</td>\n",
       "      <td>30.516865</td>\n",
       "      <td>115.694492</td>\n",
       "      <td>0.994698</td>\n",
       "      <td>3.218332</td>\n",
       "      <td>0.531150</td>\n",
       "      <td>10.492825</td>\n",
       "      <td>5.818505</td>\n",
       "    </tr>\n",
       "    <tr>\n",
       "      <th>std</th>\n",
       "      <td>0.430995</td>\n",
       "      <td>0.430995</td>\n",
       "      <td>1.297913</td>\n",
       "      <td>0.164639</td>\n",
       "      <td>0.145252</td>\n",
       "      <td>4.756852</td>\n",
       "      <td>0.035076</td>\n",
       "      <td>17.758815</td>\n",
       "      <td>56.526736</td>\n",
       "      <td>0.003001</td>\n",
       "      <td>0.160650</td>\n",
       "      <td>0.148913</td>\n",
       "      <td>1.193128</td>\n",
       "      <td>0.873286</td>\n",
       "    </tr>\n",
       "    <tr>\n",
       "      <th>min</th>\n",
       "      <td>0.000000</td>\n",
       "      <td>0.000000</td>\n",
       "      <td>3.800000</td>\n",
       "      <td>0.080000</td>\n",
       "      <td>0.000000</td>\n",
       "      <td>0.600000</td>\n",
       "      <td>0.009000</td>\n",
       "      <td>1.000000</td>\n",
       "      <td>6.000000</td>\n",
       "      <td>0.987110</td>\n",
       "      <td>2.720000</td>\n",
       "      <td>0.220000</td>\n",
       "      <td>8.000000</td>\n",
       "      <td>3.000000</td>\n",
       "    </tr>\n",
       "    <tr>\n",
       "      <th>25%</th>\n",
       "      <td>0.000000</td>\n",
       "      <td>1.000000</td>\n",
       "      <td>6.400000</td>\n",
       "      <td>0.230000</td>\n",
       "      <td>0.250000</td>\n",
       "      <td>1.800000</td>\n",
       "      <td>0.038000</td>\n",
       "      <td>17.000000</td>\n",
       "      <td>77.000000</td>\n",
       "      <td>0.992330</td>\n",
       "      <td>3.110000</td>\n",
       "      <td>0.430000</td>\n",
       "      <td>9.500000</td>\n",
       "      <td>5.000000</td>\n",
       "    </tr>\n",
       "    <tr>\n",
       "      <th>50%</th>\n",
       "      <td>0.000000</td>\n",
       "      <td>1.000000</td>\n",
       "      <td>7.000000</td>\n",
       "      <td>0.290000</td>\n",
       "      <td>0.310000</td>\n",
       "      <td>3.000000</td>\n",
       "      <td>0.047000</td>\n",
       "      <td>29.000000</td>\n",
       "      <td>118.000000</td>\n",
       "      <td>0.994890</td>\n",
       "      <td>3.210000</td>\n",
       "      <td>0.510000</td>\n",
       "      <td>10.300000</td>\n",
       "      <td>6.000000</td>\n",
       "    </tr>\n",
       "    <tr>\n",
       "      <th>75%</th>\n",
       "      <td>0.000000</td>\n",
       "      <td>1.000000</td>\n",
       "      <td>7.700000</td>\n",
       "      <td>0.400000</td>\n",
       "      <td>0.390000</td>\n",
       "      <td>8.100000</td>\n",
       "      <td>0.065000</td>\n",
       "      <td>41.000000</td>\n",
       "      <td>156.000000</td>\n",
       "      <td>0.997000</td>\n",
       "      <td>3.320000</td>\n",
       "      <td>0.600000</td>\n",
       "      <td>11.300000</td>\n",
       "      <td>6.000000</td>\n",
       "    </tr>\n",
       "    <tr>\n",
       "      <th>max</th>\n",
       "      <td>1.000000</td>\n",
       "      <td>1.000000</td>\n",
       "      <td>15.900000</td>\n",
       "      <td>1.580000</td>\n",
       "      <td>1.660000</td>\n",
       "      <td>65.800000</td>\n",
       "      <td>0.611000</td>\n",
       "      <td>289.000000</td>\n",
       "      <td>440.000000</td>\n",
       "      <td>1.038980</td>\n",
       "      <td>4.010000</td>\n",
       "      <td>2.000000</td>\n",
       "      <td>14.900000</td>\n",
       "      <td>9.000000</td>\n",
       "    </tr>\n",
       "  </tbody>\n",
       "</table>\n",
       "</div>"
      ],
      "text/plain": [
       "               red        white  fixed acidity  volatile acidity  citric acid  \\\n",
       "count  6463.000000  6463.000000    6463.000000       6463.000000  6463.000000   \n",
       "mean      0.246480     0.753520       7.217755          0.339589     0.318758   \n",
       "std       0.430995     0.430995       1.297913          0.164639     0.145252   \n",
       "min       0.000000     0.000000       3.800000          0.080000     0.000000   \n",
       "25%       0.000000     1.000000       6.400000          0.230000     0.250000   \n",
       "50%       0.000000     1.000000       7.000000          0.290000     0.310000   \n",
       "75%       0.000000     1.000000       7.700000          0.400000     0.390000   \n",
       "max       1.000000     1.000000      15.900000          1.580000     1.660000   \n",
       "\n",
       "       residual sugar    chlorides  free sulfur dioxide  total sulfur dioxide  \\\n",
       "count     6463.000000  6463.000000          6463.000000           6463.000000   \n",
       "mean         5.443958     0.056056            30.516865            115.694492   \n",
       "std          4.756852     0.035076            17.758815             56.526736   \n",
       "min          0.600000     0.009000             1.000000              6.000000   \n",
       "25%          1.800000     0.038000            17.000000             77.000000   \n",
       "50%          3.000000     0.047000            29.000000            118.000000   \n",
       "75%          8.100000     0.065000            41.000000            156.000000   \n",
       "max         65.800000     0.611000           289.000000            440.000000   \n",
       "\n",
       "           density           pH    sulphates      alcohol      quality  \n",
       "count  6463.000000  6463.000000  6463.000000  6463.000000  6463.000000  \n",
       "mean      0.994698     3.218332     0.531150    10.492825     5.818505  \n",
       "std       0.003001     0.160650     0.148913     1.193128     0.873286  \n",
       "min       0.987110     2.720000     0.220000     8.000000     3.000000  \n",
       "25%       0.992330     3.110000     0.430000     9.500000     5.000000  \n",
       "50%       0.994890     3.210000     0.510000    10.300000     6.000000  \n",
       "75%       0.997000     3.320000     0.600000    11.300000     6.000000  \n",
       "max       1.038980     4.010000     2.000000    14.900000     9.000000  "
      ]
     },
     "execution_count": 16,
     "metadata": {},
     "output_type": "execute_result"
    }
   ],
   "source": [
    "d2.describe()"
   ]
  },
  {
   "cell_type": "code",
   "execution_count": 17,
   "metadata": {},
   "outputs": [
    {
     "data": {
      "text/plain": [
       "Text(0, 0.5, 'Frequency')"
      ]
     },
     "execution_count": 17,
     "metadata": {},
     "output_type": "execute_result"
    },
    {
     "data": {
      "image/png": "[encoded data removed]",
      "text/plain": [
       "<Figure size 432x288 with 1 Axes>"
      ]
     },
     "metadata": {
      "needs_background": "light"
     },
     "output_type": "display_data"
    }
   ],
   "source": [
    "count_classes = pd.value_counts(d2['quality'], sort = True)\n",
    "\n",
    "count_classes.plot(kind = 'bar', rot=0)\n",
    "\n",
    "plt.title(\"Wine Quality Class Distribution\")\n",
    "\n",
    "plt.xlabel(\"Class\")\n",
    "\n",
    "plt.ylabel(\"Frequency\")"
   ]
  },
  {
   "cell_type": "markdown",
   "metadata": {},
   "source": [
    "# Feature Engineering"
   ]
  },
  {
   "cell_type": "code",
   "execution_count": 18,
   "metadata": {},
   "outputs": [
    {
     "data": {
      "text/plain": [
       "array([6, 5, 7, 8, 4, 3, 9], dtype=int64)"
      ]
     },
     "execution_count": 18,
     "metadata": {},
     "output_type": "execute_result"
    }
   ],
   "source": [
    "d2['quality'].unique()"
   ]
  },
  {
   "cell_type": "code",
   "execution_count": 19,
   "metadata": {},
   "outputs": [
    {
     "name": "stderr",
     "output_type": "stream",
     "text": [
      "C:\\Users\\AAA\\anaconda3\\lib\\site-packages\\ipykernel_launcher.py:5: SettingWithCopyWarning: \n",
      "A value is trying to be set on a copy of a slice from a DataFrame.\n",
      "Try using .loc[row_indexer,col_indexer] = value instead\n",
      "\n",
      "See the caveats in the documentation: https://pandas.pydata.org/pandas-docs/stable/user_guide/indexing.html#returning-a-view-versus-a-copy\n",
      "  \"\"\"\n"
     ]
    }
   ],
   "source": [
    "#Making binary classificaion for the response variable.\n",
    "#Dividing wine as good and bad by giving the limit for the quality\n",
    "bins = (2, 6, 9)\n",
    "group_names = ['bad', 'good']\n",
    "d2['quality'] = pd.cut(d2['quality'], bins = bins, labels = group_names)"
   ]
  },
  {
   "cell_type": "code",
   "execution_count": 20,
   "metadata": {},
   "outputs": [
    {
     "data": {
      "text/html": [
       "<div>\n",
       "<style scoped>\n",
       "    .dataframe tbody tr th:only-of-type {\n",
       "        vertical-align: middle;\n",
       "    }\n",
       "\n",
       "    .dataframe tbody tr th {\n",
       "        vertical-align: top;\n",
       "    }\n",
       "\n",
       "    .dataframe thead th {\n",
       "        text-align: right;\n",
       "    }\n",
       "</style>\n",
       "<table border=\"1\" class=\"dataframe\">\n",
       "  <thead>\n",
       "    <tr style=\"text-align: right;\">\n",
       "      <th></th>\n",
       "      <th>red</th>\n",
       "      <th>white</th>\n",
       "      <th>fixed acidity</th>\n",
       "      <th>volatile acidity</th>\n",
       "      <th>citric acid</th>\n",
       "      <th>residual sugar</th>\n",
       "      <th>chlorides</th>\n",
       "      <th>free sulfur dioxide</th>\n",
       "      <th>total sulfur dioxide</th>\n",
       "      <th>density</th>\n",
       "      <th>pH</th>\n",
       "      <th>sulphates</th>\n",
       "      <th>alcohol</th>\n",
       "      <th>quality</th>\n",
       "    </tr>\n",
       "  </thead>\n",
       "  <tbody>\n",
       "    <tr>\n",
       "      <th>0</th>\n",
       "      <td>0</td>\n",
       "      <td>1</td>\n",
       "      <td>7.0</td>\n",
       "      <td>0.27</td>\n",
       "      <td>0.36</td>\n",
       "      <td>20.7</td>\n",
       "      <td>0.045</td>\n",
       "      <td>45.0</td>\n",
       "      <td>170.0</td>\n",
       "      <td>1.0010</td>\n",
       "      <td>3.00</td>\n",
       "      <td>0.45</td>\n",
       "      <td>8.8</td>\n",
       "      <td>bad</td>\n",
       "    </tr>\n",
       "    <tr>\n",
       "      <th>1</th>\n",
       "      <td>0</td>\n",
       "      <td>1</td>\n",
       "      <td>6.3</td>\n",
       "      <td>0.30</td>\n",
       "      <td>0.34</td>\n",
       "      <td>1.6</td>\n",
       "      <td>0.049</td>\n",
       "      <td>14.0</td>\n",
       "      <td>132.0</td>\n",
       "      <td>0.9940</td>\n",
       "      <td>3.30</td>\n",
       "      <td>0.49</td>\n",
       "      <td>9.5</td>\n",
       "      <td>bad</td>\n",
       "    </tr>\n",
       "    <tr>\n",
       "      <th>2</th>\n",
       "      <td>0</td>\n",
       "      <td>1</td>\n",
       "      <td>8.1</td>\n",
       "      <td>0.28</td>\n",
       "      <td>0.40</td>\n",
       "      <td>6.9</td>\n",
       "      <td>0.050</td>\n",
       "      <td>30.0</td>\n",
       "      <td>97.0</td>\n",
       "      <td>0.9951</td>\n",
       "      <td>3.26</td>\n",
       "      <td>0.44</td>\n",
       "      <td>10.1</td>\n",
       "      <td>bad</td>\n",
       "    </tr>\n",
       "    <tr>\n",
       "      <th>3</th>\n",
       "      <td>0</td>\n",
       "      <td>1</td>\n",
       "      <td>7.2</td>\n",
       "      <td>0.23</td>\n",
       "      <td>0.32</td>\n",
       "      <td>8.5</td>\n",
       "      <td>0.058</td>\n",
       "      <td>47.0</td>\n",
       "      <td>186.0</td>\n",
       "      <td>0.9956</td>\n",
       "      <td>3.19</td>\n",
       "      <td>0.40</td>\n",
       "      <td>9.9</td>\n",
       "      <td>bad</td>\n",
       "    </tr>\n",
       "    <tr>\n",
       "      <th>4</th>\n",
       "      <td>0</td>\n",
       "      <td>1</td>\n",
       "      <td>7.2</td>\n",
       "      <td>0.23</td>\n",
       "      <td>0.32</td>\n",
       "      <td>8.5</td>\n",
       "      <td>0.058</td>\n",
       "      <td>47.0</td>\n",
       "      <td>186.0</td>\n",
       "      <td>0.9956</td>\n",
       "      <td>3.19</td>\n",
       "      <td>0.40</td>\n",
       "      <td>9.9</td>\n",
       "      <td>bad</td>\n",
       "    </tr>\n",
       "  </tbody>\n",
       "</table>\n",
       "</div>"
      ],
      "text/plain": [
       "   red  white  fixed acidity  volatile acidity  citric acid  residual sugar  \\\n",
       "0    0      1            7.0              0.27         0.36            20.7   \n",
       "1    0      1            6.3              0.30         0.34             1.6   \n",
       "2    0      1            8.1              0.28         0.40             6.9   \n",
       "3    0      1            7.2              0.23         0.32             8.5   \n",
       "4    0      1            7.2              0.23         0.32             8.5   \n",
       "\n",
       "   chlorides  free sulfur dioxide  total sulfur dioxide  density    pH  \\\n",
       "0      0.045                 45.0                 170.0   1.0010  3.00   \n",
       "1      0.049                 14.0                 132.0   0.9940  3.30   \n",
       "2      0.050                 30.0                  97.0   0.9951  3.26   \n",
       "3      0.058                 47.0                 186.0   0.9956  3.19   \n",
       "4      0.058                 47.0                 186.0   0.9956  3.19   \n",
       "\n",
       "   sulphates  alcohol quality  \n",
       "0       0.45      8.8     bad  \n",
       "1       0.49      9.5     bad  \n",
       "2       0.44     10.1     bad  \n",
       "3       0.40      9.9     bad  \n",
       "4       0.40      9.9     bad  "
      ]
     },
     "execution_count": 20,
     "metadata": {},
     "output_type": "execute_result"
    }
   ],
   "source": [
    "d2.head()"
   ]
  },
  {
   "cell_type": "code",
   "execution_count": 21,
   "metadata": {},
   "outputs": [
    {
     "data": {
      "text/plain": [
       "red                     0\n",
       "white                   0\n",
       "fixed acidity           0\n",
       "volatile acidity        0\n",
       "citric acid             0\n",
       "residual sugar          0\n",
       "chlorides               0\n",
       "free sulfur dioxide     0\n",
       "total sulfur dioxide    0\n",
       "density                 0\n",
       "pH                      0\n",
       "sulphates               0\n",
       "alcohol                 0\n",
       "quality                 0\n",
       "dtype: int64"
      ]
     },
     "execution_count": 21,
     "metadata": {},
     "output_type": "execute_result"
    }
   ],
   "source": [
    "d2.isnull().sum()"
   ]
  },
  {
   "cell_type": "code",
   "execution_count": 22,
   "metadata": {},
   "outputs": [],
   "source": [
    "from sklearn.preprocessing import LabelEncoder"
   ]
  },
  {
   "cell_type": "code",
   "execution_count": 23,
   "metadata": {},
   "outputs": [],
   "source": [
    "label_quality = LabelEncoder()"
   ]
  },
  {
   "cell_type": "code",
   "execution_count": 24,
   "metadata": {},
   "outputs": [
    {
     "name": "stderr",
     "output_type": "stream",
     "text": [
      "C:\\Users\\AAA\\anaconda3\\lib\\site-packages\\ipykernel_launcher.py:1: SettingWithCopyWarning: \n",
      "A value is trying to be set on a copy of a slice from a DataFrame.\n",
      "Try using .loc[row_indexer,col_indexer] = value instead\n",
      "\n",
      "See the caveats in the documentation: https://pandas.pydata.org/pandas-docs/stable/user_guide/indexing.html#returning-a-view-versus-a-copy\n",
      "  \"\"\"Entry point for launching an IPython kernel.\n"
     ]
    }
   ],
   "source": [
    "d2['quality'] = label_quality.fit_transform(d2['quality'])"
   ]
  },
  {
   "cell_type": "code",
   "execution_count": 25,
   "metadata": {},
   "outputs": [
    {
     "data": {
      "text/html": [
       "<div>\n",
       "<style scoped>\n",
       "    .dataframe tbody tr th:only-of-type {\n",
       "        vertical-align: middle;\n",
       "    }\n",
       "\n",
       "    .dataframe tbody tr th {\n",
       "        vertical-align: top;\n",
       "    }\n",
       "\n",
       "    .dataframe thead th {\n",
       "        text-align: right;\n",
       "    }\n",
       "</style>\n",
       "<table border=\"1\" class=\"dataframe\">\n",
       "  <thead>\n",
       "    <tr style=\"text-align: right;\">\n",
       "      <th></th>\n",
       "      <th>red</th>\n",
       "      <th>white</th>\n",
       "      <th>fixed acidity</th>\n",
       "      <th>volatile acidity</th>\n",
       "      <th>citric acid</th>\n",
       "      <th>residual sugar</th>\n",
       "      <th>chlorides</th>\n",
       "      <th>free sulfur dioxide</th>\n",
       "      <th>total sulfur dioxide</th>\n",
       "      <th>density</th>\n",
       "      <th>pH</th>\n",
       "      <th>sulphates</th>\n",
       "      <th>alcohol</th>\n",
       "      <th>quality</th>\n",
       "    </tr>\n",
       "  </thead>\n",
       "  <tbody>\n",
       "    <tr>\n",
       "      <th>0</th>\n",
       "      <td>0</td>\n",
       "      <td>1</td>\n",
       "      <td>7.0</td>\n",
       "      <td>0.27</td>\n",
       "      <td>0.36</td>\n",
       "      <td>20.7</td>\n",
       "      <td>0.045</td>\n",
       "      <td>45.0</td>\n",
       "      <td>170.0</td>\n",
       "      <td>1.0010</td>\n",
       "      <td>3.00</td>\n",
       "      <td>0.45</td>\n",
       "      <td>8.8</td>\n",
       "      <td>0</td>\n",
       "    </tr>\n",
       "    <tr>\n",
       "      <th>1</th>\n",
       "      <td>0</td>\n",
       "      <td>1</td>\n",
       "      <td>6.3</td>\n",
       "      <td>0.30</td>\n",
       "      <td>0.34</td>\n",
       "      <td>1.6</td>\n",
       "      <td>0.049</td>\n",
       "      <td>14.0</td>\n",
       "      <td>132.0</td>\n",
       "      <td>0.9940</td>\n",
       "      <td>3.30</td>\n",
       "      <td>0.49</td>\n",
       "      <td>9.5</td>\n",
       "      <td>0</td>\n",
       "    </tr>\n",
       "    <tr>\n",
       "      <th>2</th>\n",
       "      <td>0</td>\n",
       "      <td>1</td>\n",
       "      <td>8.1</td>\n",
       "      <td>0.28</td>\n",
       "      <td>0.40</td>\n",
       "      <td>6.9</td>\n",
       "      <td>0.050</td>\n",
       "      <td>30.0</td>\n",
       "      <td>97.0</td>\n",
       "      <td>0.9951</td>\n",
       "      <td>3.26</td>\n",
       "      <td>0.44</td>\n",
       "      <td>10.1</td>\n",
       "      <td>0</td>\n",
       "    </tr>\n",
       "    <tr>\n",
       "      <th>3</th>\n",
       "      <td>0</td>\n",
       "      <td>1</td>\n",
       "      <td>7.2</td>\n",
       "      <td>0.23</td>\n",
       "      <td>0.32</td>\n",
       "      <td>8.5</td>\n",
       "      <td>0.058</td>\n",
       "      <td>47.0</td>\n",
       "      <td>186.0</td>\n",
       "      <td>0.9956</td>\n",
       "      <td>3.19</td>\n",
       "      <td>0.40</td>\n",
       "      <td>9.9</td>\n",
       "      <td>0</td>\n",
       "    </tr>\n",
       "    <tr>\n",
       "      <th>4</th>\n",
       "      <td>0</td>\n",
       "      <td>1</td>\n",
       "      <td>7.2</td>\n",
       "      <td>0.23</td>\n",
       "      <td>0.32</td>\n",
       "      <td>8.5</td>\n",
       "      <td>0.058</td>\n",
       "      <td>47.0</td>\n",
       "      <td>186.0</td>\n",
       "      <td>0.9956</td>\n",
       "      <td>3.19</td>\n",
       "      <td>0.40</td>\n",
       "      <td>9.9</td>\n",
       "      <td>0</td>\n",
       "    </tr>\n",
       "  </tbody>\n",
       "</table>\n",
       "</div>"
      ],
      "text/plain": [
       "   red  white  fixed acidity  volatile acidity  citric acid  residual sugar  \\\n",
       "0    0      1            7.0              0.27         0.36            20.7   \n",
       "1    0      1            6.3              0.30         0.34             1.6   \n",
       "2    0      1            8.1              0.28         0.40             6.9   \n",
       "3    0      1            7.2              0.23         0.32             8.5   \n",
       "4    0      1            7.2              0.23         0.32             8.5   \n",
       "\n",
       "   chlorides  free sulfur dioxide  total sulfur dioxide  density    pH  \\\n",
       "0      0.045                 45.0                 170.0   1.0010  3.00   \n",
       "1      0.049                 14.0                 132.0   0.9940  3.30   \n",
       "2      0.050                 30.0                  97.0   0.9951  3.26   \n",
       "3      0.058                 47.0                 186.0   0.9956  3.19   \n",
       "4      0.058                 47.0                 186.0   0.9956  3.19   \n",
       "\n",
       "   sulphates  alcohol  quality  \n",
       "0       0.45      8.8        0  \n",
       "1       0.49      9.5        0  \n",
       "2       0.44     10.1        0  \n",
       "3       0.40      9.9        0  \n",
       "4       0.40      9.9        0  "
      ]
     },
     "execution_count": 25,
     "metadata": {},
     "output_type": "execute_result"
    }
   ],
   "source": [
    "d2.head()"
   ]
  },
  {
   "cell_type": "code",
   "execution_count": 26,
   "metadata": {},
   "outputs": [
    {
     "data": {
      "text/plain": [
       "Text(0, 0.5, 'Frequency')"
      ]
     },
     "execution_count": 26,
     "metadata": {},
     "output_type": "execute_result"
    },
    {
     "data": {
      "image/png": "[encoded data removed]",
      "text/plain": [
       "<Figure size 432x288 with 1 Axes>"
      ]
     },
     "metadata": {
      "needs_background": "light"
     },
     "output_type": "display_data"
    }
   ],
   "source": [
    "count_classes = pd.value_counts(d2['quality'], sort = True)\n",
    "\n",
    "count_classes.plot(kind = 'bar', rot=0)\n",
    "\n",
    "plt.title(\"Wine Quality Class Distribution\")\n",
    "\n",
    "plt.xlabel(\"Class\")\n",
    "\n",
    "plt.ylabel(\"Frequency\")"
   ]
  },
  {
   "cell_type": "markdown",
   "metadata": {},
   "source": [
    "### RandomOverSampler to handle imbalanced data"
   ]
  },
  {
   "cell_type": "code",
   "execution_count": 27,
   "metadata": {},
   "outputs": [],
   "source": [
    "from collections import Counter\n",
    "from imblearn.over_sampling import RandomOverSampler\n",
    "os =  RandomOverSampler(sampling_strategy=0.5)"
   ]
  },
  {
   "cell_type": "code",
   "execution_count": 28,
   "metadata": {},
   "outputs": [],
   "source": [
    "x2, y2 = os.fit_sample(d2.iloc[:,0:13], d2.iloc[:,-1])"
   ]
  },
  {
   "cell_type": "code",
   "execution_count": 29,
   "metadata": {},
   "outputs": [
    {
     "data": {
      "text/plain": [
       "((7788, 13), (7788,))"
      ]
     },
     "execution_count": 29,
     "metadata": {},
     "output_type": "execute_result"
    }
   ],
   "source": [
    "x2.shape, y2.shape"
   ]
  },
  {
   "cell_type": "code",
   "execution_count": 30,
   "metadata": {},
   "outputs": [
    {
     "name": "stdout",
     "output_type": "stream",
     "text": [
      "Original dataset shape Counter({0: 5192, 1: 1271})\n",
      "Resampled dataset shape Counter({0: 5192, 1: 2596})\n"
     ]
    }
   ],
   "source": [
    "print('Original dataset shape {}'.format(Counter(d2.iloc[:,-1])))\n",
    "print('Resampled dataset shape {}'.format(Counter(y2)))"
   ]
  },
  {
   "cell_type": "code",
   "execution_count": 31,
   "metadata": {},
   "outputs": [
    {
     "data": {
      "text/plain": [
       "Text(0, 0.5, 'Frequency')"
      ]
     },
     "execution_count": 31,
     "metadata": {},
     "output_type": "execute_result"
    },
    {
     "data": {
      "image/png": "[encoded data removed]",
      "text/plain": [
       "<Figure size 432x288 with 1 Axes>"
      ]
     },
     "metadata": {
      "needs_background": "light"
     },
     "output_type": "display_data"
    }
   ],
   "source": [
    "count_classes = pd.value_counts(y2, sort = True)\n",
    "\n",
    "count_classes.plot(kind = 'bar', rot=0)\n",
    "\n",
    "plt.title(\"Wine Quality Class Distribution\")\n",
    "\n",
    "plt.xlabel(\"Class\")\n",
    "\n",
    "plt.ylabel(\"Frequency\")"
   ]
  },
  {
   "cell_type": "code",
   "execution_count": 41,
   "metadata": {},
   "outputs": [
    {
     "data": {
      "text/html": [
       "<div>\n",
       "<style scoped>\n",
       "    .dataframe tbody tr th:only-of-type {\n",
       "        vertical-align: middle;\n",
       "    }\n",
       "\n",
       "    .dataframe tbody tr th {\n",
       "        vertical-align: top;\n",
       "    }\n",
       "\n",
       "    .dataframe thead th {\n",
       "        text-align: right;\n",
       "    }\n",
       "</style>\n",
       "<table border=\"1\" class=\"dataframe\">\n",
       "  <thead>\n",
       "    <tr style=\"text-align: right;\">\n",
       "      <th></th>\n",
       "      <th>red</th>\n",
       "      <th>white</th>\n",
       "      <th>fixed acidity</th>\n",
       "      <th>volatile acidity</th>\n",
       "      <th>citric acid</th>\n",
       "      <th>residual sugar</th>\n",
       "      <th>chlorides</th>\n",
       "      <th>free sulfur dioxide</th>\n",
       "      <th>total sulfur dioxide</th>\n",
       "      <th>density</th>\n",
       "      <th>pH</th>\n",
       "      <th>sulphates</th>\n",
       "      <th>alcohol</th>\n",
       "      <th>quality</th>\n",
       "    </tr>\n",
       "  </thead>\n",
       "  <tbody>\n",
       "    <tr>\n",
       "      <th>6664</th>\n",
       "      <td>0</td>\n",
       "      <td>1</td>\n",
       "      <td>7.1</td>\n",
       "      <td>0.44</td>\n",
       "      <td>0.23</td>\n",
       "      <td>5.80</td>\n",
       "      <td>0.035</td>\n",
       "      <td>24.0</td>\n",
       "      <td>100.0</td>\n",
       "      <td>0.99062</td>\n",
       "      <td>3.15</td>\n",
       "      <td>0.57</td>\n",
       "      <td>13.2</td>\n",
       "      <td>1</td>\n",
       "    </tr>\n",
       "    <tr>\n",
       "      <th>2078</th>\n",
       "      <td>0</td>\n",
       "      <td>1</td>\n",
       "      <td>6.2</td>\n",
       "      <td>0.34</td>\n",
       "      <td>0.30</td>\n",
       "      <td>11.10</td>\n",
       "      <td>0.047</td>\n",
       "      <td>28.0</td>\n",
       "      <td>237.0</td>\n",
       "      <td>0.99810</td>\n",
       "      <td>3.18</td>\n",
       "      <td>0.49</td>\n",
       "      <td>8.7</td>\n",
       "      <td>0</td>\n",
       "    </tr>\n",
       "    <tr>\n",
       "      <th>562</th>\n",
       "      <td>0</td>\n",
       "      <td>1</td>\n",
       "      <td>6.5</td>\n",
       "      <td>0.28</td>\n",
       "      <td>0.29</td>\n",
       "      <td>2.70</td>\n",
       "      <td>0.038</td>\n",
       "      <td>26.0</td>\n",
       "      <td>107.0</td>\n",
       "      <td>0.99120</td>\n",
       "      <td>3.32</td>\n",
       "      <td>0.41</td>\n",
       "      <td>11.6</td>\n",
       "      <td>1</td>\n",
       "    </tr>\n",
       "    <tr>\n",
       "      <th>2944</th>\n",
       "      <td>0</td>\n",
       "      <td>1</td>\n",
       "      <td>8.4</td>\n",
       "      <td>0.31</td>\n",
       "      <td>0.31</td>\n",
       "      <td>0.95</td>\n",
       "      <td>0.021</td>\n",
       "      <td>52.0</td>\n",
       "      <td>148.0</td>\n",
       "      <td>0.99038</td>\n",
       "      <td>2.93</td>\n",
       "      <td>0.32</td>\n",
       "      <td>11.5</td>\n",
       "      <td>0</td>\n",
       "    </tr>\n",
       "    <tr>\n",
       "      <th>2441</th>\n",
       "      <td>0</td>\n",
       "      <td>1</td>\n",
       "      <td>7.5</td>\n",
       "      <td>0.28</td>\n",
       "      <td>0.78</td>\n",
       "      <td>12.10</td>\n",
       "      <td>0.041</td>\n",
       "      <td>53.0</td>\n",
       "      <td>161.0</td>\n",
       "      <td>0.99838</td>\n",
       "      <td>2.98</td>\n",
       "      <td>0.44</td>\n",
       "      <td>8.7</td>\n",
       "      <td>0</td>\n",
       "    </tr>\n",
       "  </tbody>\n",
       "</table>\n",
       "</div>"
      ],
      "text/plain": [
       "      red  white  fixed acidity  volatile acidity  citric acid  \\\n",
       "6664    0      1            7.1              0.44         0.23   \n",
       "2078    0      1            6.2              0.34         0.30   \n",
       "562     0      1            6.5              0.28         0.29   \n",
       "2944    0      1            8.4              0.31         0.31   \n",
       "2441    0      1            7.5              0.28         0.78   \n",
       "\n",
       "      residual sugar  chlorides  free sulfur dioxide  total sulfur dioxide  \\\n",
       "6664            5.80      0.035                 24.0                 100.0   \n",
       "2078           11.10      0.047                 28.0                 237.0   \n",
       "562             2.70      0.038                 26.0                 107.0   \n",
       "2944            0.95      0.021                 52.0                 148.0   \n",
       "2441           12.10      0.041                 53.0                 161.0   \n",
       "\n",
       "      density    pH  sulphates  alcohol  quality  \n",
       "6664  0.99062  3.15       0.57     13.2        1  \n",
       "2078  0.99810  3.18       0.49      8.7        0  \n",
       "562   0.99120  3.32       0.41     11.6        1  \n",
       "2944  0.99038  2.93       0.32     11.5        0  \n",
       "2441  0.99838  2.98       0.44      8.7        0  "
      ]
     },
     "execution_count": 41,
     "metadata": {},
     "output_type": "execute_result"
    }
   ],
   "source": [
    "df = pd.concat([x2,y2], axis=1)\n",
    "df2 = df.sample(frac=1)\n",
    "df2.head()"
   ]
  },
  {
   "cell_type": "code",
   "execution_count": 42,
   "metadata": {},
   "outputs": [],
   "source": [
    "x_train = df2.iloc[:,:13].values\n",
    "y_train = df2.iloc[:,-1].values"
   ]
  },
  {
   "cell_type": "markdown",
   "metadata": {},
   "source": [
    "### Bayesian Optimization Working\n",
    "#### Bayesian optimization works by constructing a posterior distribution of functions (gaussian process) that best describes the function you want to optimize. As the number of observations grows, the posterior distribution improves, and the algorithm becomes more certain of which regions in parameter space are worth exploring and which are not, as seen in the picture below."
   ]
  },
  {
   "cell_type": "markdown",
   "metadata": {},
   "source": [
    "## Hyperparameter tuning of XGBoostingClassifier using Bayesian optimization"
   ]
  },
  {
   "cell_type": "code",
   "execution_count": 43,
   "metadata": {},
   "outputs": [],
   "source": [
    "from sklearn.metrics import f1_score"
   ]
  },
  {
   "cell_type": "code",
   "execution_count": 44,
   "metadata": {},
   "outputs": [],
   "source": [
    "def xgb_cv(n_estimators, max_depth, gamma, min_child_weight, subsample, data, target):\n",
    "    estimator = XGBClassifier(\n",
    "                n_estimators=n_estimators,\n",
    "                max_depth=max_depth,\n",
    "                gamma=gamma,\n",
    "                min_child_weight=min_child_weight,\n",
    "                subsample=subsample,\n",
    "                random_state=2\n",
    "    )\n",
    "    cval = cross_val_score(estimator, data, target, scoring='f1_micro', cv=5)\n",
    "    \n",
    "    return cval.mean()"
   ]
  },
  {
   "cell_type": "code",
   "execution_count": 45,
   "metadata": {},
   "outputs": [],
   "source": [
    "def optimize_xgb(data, target):\n",
    "    def xgb_crossval(n_estimators, max_depth, gamma, min_child_weight, subsample):\n",
    "        return xgb_cv(\n",
    "            n_estimators=int(n_estimators),\n",
    "            max_depth=int(max_depth),\n",
    "            gamma=gamma,\n",
    "            min_child_weight=min_child_weight,\n",
    "            subsample=subsample,\n",
    "            data=data,\n",
    "            target=target,\n",
    "        )\n",
    "    optimizer = BayesianOptimization(\n",
    "            f=xgb_crossval,\n",
    "            pbounds={\n",
    "                \"n_estimators\":(100,550),\n",
    "                \"max_depth\": (1,20),\n",
    "                \"gamma\":(0,10),\n",
    "                \"min_child_weight\":(0,10),\n",
    "                \"subsample\":(0.8,1.0)\n",
    "                },\n",
    "            random_state=1234,\n",
    "            verbose=2\n",
    "      )\n",
    "    optimizer.maximize(n_iter=15 , init_points=10)\n",
    "    \n",
    "    \n",
    "    print('Final Result:', optimizer.max)"
   ]
  },
  {
   "cell_type": "code",
   "execution_count": 48,
   "metadata": {},
   "outputs": [
    {
     "name": "stdout",
     "output_type": "stream",
     "text": [
      "\u001b[91m--- Optimizing XGBoost ---\u001b[0m\n",
      "|   iter    |  target   |   gamma   | max_depth | min_ch... | n_esti... | subsample |\n",
      "-------------------------------------------------------------------------------------\n",
      "| \u001b[0m 1       \u001b[0m | \u001b[0m 0.9226  \u001b[0m | \u001b[0m 1.915   \u001b[0m | \u001b[0m 12.82   \u001b[0m | \u001b[0m 4.377   \u001b[0m | \u001b[0m 453.4   \u001b[0m | \u001b[0m 0.956   \u001b[0m |\n",
      "| \u001b[0m 2       \u001b[0m | \u001b[0m 0.9061  \u001b[0m | \u001b[0m 2.726   \u001b[0m | \u001b[0m 6.253   \u001b[0m | \u001b[0m 8.019   \u001b[0m | \u001b[0m 531.2   \u001b[0m | \u001b[0m 0.9752  \u001b[0m |\n",
      "| \u001b[0m 3       \u001b[0m | \u001b[0m 0.9077  \u001b[0m | \u001b[0m 3.578   \u001b[0m | \u001b[0m 10.52   \u001b[0m | \u001b[0m 6.835   \u001b[0m | \u001b[0m 420.7   \u001b[0m | \u001b[0m 0.8741  \u001b[0m |\n",
      "| \u001b[0m 4       \u001b[0m | \u001b[0m 0.8989  \u001b[0m | \u001b[0m 5.612   \u001b[0m | \u001b[0m 10.56   \u001b[0m | \u001b[0m 0.1377  \u001b[0m | \u001b[0m 447.8   \u001b[0m | \u001b[0m 0.9765  \u001b[0m |\n",
      "| \u001b[0m 5       \u001b[0m | \u001b[0m 0.9131  \u001b[0m | \u001b[0m 3.649   \u001b[0m | \u001b[0m 12.69   \u001b[0m | \u001b[0m 0.7538  \u001b[0m | \u001b[0m 266.0   \u001b[0m | \u001b[0m 0.9866  \u001b[0m |\n",
      "| \u001b[0m 6       \u001b[0m | \u001b[0m 0.8778  \u001b[0m | \u001b[0m 6.514   \u001b[0m | \u001b[0m 8.547   \u001b[0m | \u001b[0m 7.887   \u001b[0m | \u001b[0m 242.6   \u001b[0m | \u001b[0m 0.9136  \u001b[0m |\n",
      "| \u001b[0m 7       \u001b[0m | \u001b[0m 0.8681  \u001b[0m | \u001b[0m 8.691   \u001b[0m | \u001b[0m 9.287   \u001b[0m | \u001b[0m 8.021   \u001b[0m | \u001b[0m 164.7   \u001b[0m | \u001b[0m 0.9409  \u001b[0m |\n",
      "| \u001b[0m 8       \u001b[0m | \u001b[0m 0.8539  \u001b[0m | \u001b[0m 7.046   \u001b[0m | \u001b[0m 5.157   \u001b[0m | \u001b[0m 9.249   \u001b[0m | \u001b[0m 299.0   \u001b[0m | \u001b[0m 0.9819  \u001b[0m |\n",
      "| \u001b[95m 9       \u001b[0m | \u001b[95m 0.924   \u001b[0m | \u001b[95m 0.5981  \u001b[0m | \u001b[95m 4.501   \u001b[0m | \u001b[95m 0.4736  \u001b[0m | \u001b[95m 403.7   \u001b[0m | \u001b[95m 0.9189  \u001b[0m |\n",
      "| \u001b[0m 10      \u001b[0m | \u001b[0m 0.7836  \u001b[0m | \u001b[0m 5.333   \u001b[0m | \u001b[0m 1.823   \u001b[0m | \u001b[0m 5.614   \u001b[0m | \u001b[0m 248.4   \u001b[0m | \u001b[0m 0.9006  \u001b[0m |\n",
      "| \u001b[0m 11      \u001b[0m | \u001b[0m 0.9104  \u001b[0m | \u001b[0m 3.184   \u001b[0m | \u001b[0m 11.71   \u001b[0m | \u001b[0m 0.5274  \u001b[0m | \u001b[0m 264.6   \u001b[0m | \u001b[0m 0.9759  \u001b[0m |\n",
      "| \u001b[0m 12      \u001b[0m | \u001b[0m 0.9037  \u001b[0m | \u001b[0m 4.32    \u001b[0m | \u001b[0m 9.477   \u001b[0m | \u001b[0m 5.598   \u001b[0m | \u001b[0m 408.5   \u001b[0m | \u001b[0m 0.8907  \u001b[0m |\n",
      "| \u001b[0m 13      \u001b[0m | \u001b[0m 0.7847  \u001b[0m | \u001b[0m 3.916   \u001b[0m | \u001b[0m 1.0     \u001b[0m | \u001b[0m 4.448   \u001b[0m | \u001b[0m 396.2   \u001b[0m | \u001b[0m 0.9501  \u001b[0m |\n",
      "| \u001b[0m 14      \u001b[0m | \u001b[0m 0.8523  \u001b[0m | \u001b[0m 1.986   \u001b[0m | \u001b[0m 2.933   \u001b[0m | \u001b[0m 1.497   \u001b[0m | \u001b[0m 410.0   \u001b[0m | \u001b[0m 0.8987  \u001b[0m |\n",
      "| \u001b[0m 15      \u001b[0m | \u001b[0m 0.9205  \u001b[0m | \u001b[0m 2.675   \u001b[0m | \u001b[0m 9.125   \u001b[0m | \u001b[0m 0.7901  \u001b[0m | \u001b[0m 404.2   \u001b[0m | \u001b[0m 0.8515  \u001b[0m |\n",
      "| \u001b[0m 16      \u001b[0m | \u001b[0m 0.9056  \u001b[0m | \u001b[0m 3.748   \u001b[0m | \u001b[0m 7.023   \u001b[0m | \u001b[0m 4.348   \u001b[0m | \u001b[0m 454.6   \u001b[0m | \u001b[0m 0.8051  \u001b[0m |\n",
      "| \u001b[0m 17      \u001b[0m | \u001b[0m 0.9218  \u001b[0m | \u001b[0m 1.365   \u001b[0m | \u001b[0m 10.9    \u001b[0m | \u001b[0m 8.744   \u001b[0m | \u001b[0m 448.9   \u001b[0m | \u001b[0m 0.8774  \u001b[0m |\n",
      "| \u001b[0m 18      \u001b[0m | \u001b[0m 0.8846  \u001b[0m | \u001b[0m 7.024   \u001b[0m | \u001b[0m 14.07   \u001b[0m | \u001b[0m 9.304   \u001b[0m | \u001b[0m 452.3   \u001b[0m | \u001b[0m 0.8     \u001b[0m |\n",
      "| \u001b[95m 19      \u001b[0m | \u001b[95m 0.9298  \u001b[0m | \u001b[95m 0.1304  \u001b[0m | \u001b[95m 17.68   \u001b[0m | \u001b[95m 3.853   \u001b[0m | \u001b[95m 447.7   \u001b[0m | \u001b[95m 0.9109  \u001b[0m |\n",
      "| \u001b[0m 20      \u001b[0m | \u001b[0m 0.9278  \u001b[0m | \u001b[0m 0.0     \u001b[0m | \u001b[0m 13.78   \u001b[0m | \u001b[0m 6.012   \u001b[0m | \u001b[0m 442.1   \u001b[0m | \u001b[0m 1.0     \u001b[0m |\n",
      "| \u001b[0m 21      \u001b[0m | \u001b[0m 0.8896  \u001b[0m | \u001b[0m 4.24    \u001b[0m | \u001b[0m 20.0    \u001b[0m | \u001b[0m 6.455   \u001b[0m | \u001b[0m 441.2   \u001b[0m | \u001b[0m 1.0     \u001b[0m |\n",
      "| \u001b[0m 22      \u001b[0m | \u001b[0m 0.9239  \u001b[0m | \u001b[0m 0.0     \u001b[0m | \u001b[0m 5.871   \u001b[0m | \u001b[0m 5.827   \u001b[0m | \u001b[0m 442.8   \u001b[0m | \u001b[0m 0.8     \u001b[0m |\n",
      "| \u001b[0m 23      \u001b[0m | \u001b[0m 0.9236  \u001b[0m | \u001b[0m 0.0     \u001b[0m | \u001b[0m 8.587   \u001b[0m | \u001b[0m 10.0    \u001b[0m | \u001b[0m 435.4   \u001b[0m | \u001b[0m 1.0     \u001b[0m |\n",
      "| \u001b[0m 24      \u001b[0m | \u001b[0m 0.9296  \u001b[0m | \u001b[0m 0.0     \u001b[0m | \u001b[0m 9.131   \u001b[0m | \u001b[0m 1.036   \u001b[0m | \u001b[0m 435.0   \u001b[0m | \u001b[0m 0.8664  \u001b[0m |\n",
      "| \u001b[0m 25      \u001b[0m | \u001b[0m 0.8582  \u001b[0m | \u001b[0m 6.876   \u001b[0m | \u001b[0m 4.653   \u001b[0m | \u001b[0m 5.434   \u001b[0m | \u001b[0m 432.2   \u001b[0m | \u001b[0m 0.8942  \u001b[0m |\n",
      "=====================================================================================\n",
      "Final Result: {'target': 0.9297625613919662, 'params': {'gamma': 0.13043009561708563, 'max_depth': 17.683588358362503, 'min_child_weight': 3.853055104111447, 'n_estimators': 447.6933434573901, 'subsample': 0.910877468734857}}\n"
     ]
    }
   ],
   "source": [
    "print(Colours.red(\"--- Optimizing XGBoost ---\"))\n",
    "optimize_xgb(x_train, y_train)"
   ]
  },
  {
   "cell_type": "markdown",
   "metadata": {},
   "source": [
    "## Hyperparameter tuning of ExtratreesClassifier using Bayesian optimization"
   ]
  },
  {
   "cell_type": "code",
   "execution_count": 52,
   "metadata": {},
   "outputs": [],
   "source": [
    "def etc_cv(n_estimators, min_samples_split, max_features, data, target):\n",
    "    estimator = ExtraTreesClassifier(\n",
    "            n_estimators=n_estimators,\n",
    "            min_samples_split=min_samples_split,\n",
    "            max_features=max_features,\n",
    "            random_state=2,\n",
    "            n_jobs=-1\n",
    "    )\n",
    "    cval = cross_val_score(estimator, data, target, scoring='f1_micro', cv=5)\n",
    "    \n",
    "    return cval.mean()"
   ]
  },
  {
   "cell_type": "code",
   "execution_count": 53,
   "metadata": {},
   "outputs": [],
   "source": [
    "def optimize_etc(data, target):\n",
    "    def etc_crossval(n_estimators, min_samples_split, max_features):\n",
    "        return etc_cv(\n",
    "                n_estimators=int(n_estimators),\n",
    "                min_samples_split=int(min_samples_split),\n",
    "                max_features=max(min(max_features, 0.999), 1e-3),\n",
    "                data=data,\n",
    "                target=target,\n",
    "                )\n",
    "    optimizer = BayesianOptimization(\n",
    "        f=etc_crossval,\n",
    "        pbounds={\n",
    "            \"n_estimators\":(100,500),\n",
    "            \"min_samples_split\":(2,25),\n",
    "            \"max_features\": (0.1,0.9)\n",
    "        },\n",
    "        random_state=42,\n",
    "        verbose=2\n",
    "    )\n",
    "    optimizer.maximize(n_iter=15, init_points=5)\n",
    "    \n",
    "    print(\"Final result:\", optimizer.max)"
   ]
  },
  {
   "cell_type": "code",
   "execution_count": 54,
   "metadata": {},
   "outputs": [
    {
     "name": "stdout",
     "output_type": "stream",
     "text": [
      "\u001b[93m--- Optimizing Extra Trees ---\u001b[0m\n",
      "|   iter    |  target   | max_fe... | min_sa... | n_esti... |\n",
      "-------------------------------------------------------------\n",
      "| \u001b[0m 1       \u001b[0m | \u001b[0m 0.8838  \u001b[0m | \u001b[0m 0.3996  \u001b[0m | \u001b[0m 23.87   \u001b[0m | \u001b[0m 392.8   \u001b[0m |\n",
      "| \u001b[95m 2       \u001b[0m | \u001b[95m 0.9407  \u001b[0m | \u001b[95m 0.5789  \u001b[0m | \u001b[95m 5.588   \u001b[0m | \u001b[95m 162.4   \u001b[0m |\n",
      "| \u001b[0m 3       \u001b[0m | \u001b[0m 0.8636  \u001b[0m | \u001b[0m 0.1465  \u001b[0m | \u001b[0m 21.92   \u001b[0m | \u001b[0m 340.4   \u001b[0m |\n",
      "| \u001b[95m 4       \u001b[0m | \u001b[95m 0.9435  \u001b[0m | \u001b[95m 0.6665  \u001b[0m | \u001b[95m 2.473   \u001b[0m | \u001b[95m 488.0   \u001b[0m |\n",
      "| \u001b[0m 5       \u001b[0m | \u001b[0m 0.9399  \u001b[0m | \u001b[0m 0.766   \u001b[0m | \u001b[0m 6.884   \u001b[0m | \u001b[0m 172.7   \u001b[0m |\n",
      "| \u001b[0m 6       \u001b[0m | \u001b[0m 0.8892  \u001b[0m | \u001b[0m 0.9     \u001b[0m | \u001b[0m 25.0    \u001b[0m | \u001b[0m 100.0   \u001b[0m |\n",
      "| \u001b[95m 7       \u001b[0m | \u001b[95m 0.9457  \u001b[0m | \u001b[95m 0.1462  \u001b[0m | \u001b[95m 4.607   \u001b[0m | \u001b[95m 161.5   \u001b[0m |\n",
      "| \u001b[95m 8       \u001b[0m | \u001b[95m 0.9467  \u001b[0m | \u001b[95m 0.1     \u001b[0m | \u001b[95m 2.0     \u001b[0m | \u001b[95m 145.5   \u001b[0m |\n",
      "| \u001b[95m 9       \u001b[0m | \u001b[95m 0.947   \u001b[0m | \u001b[95m 0.1     \u001b[0m | \u001b[95m 2.0     \u001b[0m | \u001b[95m 194.8   \u001b[0m |\n",
      "| \u001b[0m 10      \u001b[0m | \u001b[0m 0.8514  \u001b[0m | \u001b[0m 0.1     \u001b[0m | \u001b[0m 25.0    \u001b[0m | \u001b[0m 198.5   \u001b[0m |\n",
      "| \u001b[0m 11      \u001b[0m | \u001b[0m 0.8902  \u001b[0m | \u001b[0m 0.4995  \u001b[0m | \u001b[0m 21.94   \u001b[0m | \u001b[0m 496.8   \u001b[0m |\n",
      "| \u001b[0m 12      \u001b[0m | \u001b[0m 0.9423  \u001b[0m | \u001b[0m 0.6991  \u001b[0m | \u001b[0m 2.0     \u001b[0m | \u001b[0m 470.1   \u001b[0m |\n",
      "| \u001b[0m 13      \u001b[0m | \u001b[0m 0.9438  \u001b[0m | \u001b[0m 0.4655  \u001b[0m | \u001b[0m 2.317   \u001b[0m | \u001b[0m 447.5   \u001b[0m |\n",
      "| \u001b[0m 14      \u001b[0m | \u001b[0m 0.8722  \u001b[0m | \u001b[0m 0.1749  \u001b[0m | \u001b[0m 21.49   \u001b[0m | \u001b[0m 455.2   \u001b[0m |\n",
      "| \u001b[0m 15      \u001b[0m | \u001b[0m 0.9449  \u001b[0m | \u001b[0m 0.1754  \u001b[0m | \u001b[0m 2.0     \u001b[0m | \u001b[0m 430.5   \u001b[0m |\n",
      "| \u001b[0m 16      \u001b[0m | \u001b[0m 0.8631  \u001b[0m | \u001b[0m 0.1     \u001b[0m | \u001b[0m 21.19   \u001b[0m | \u001b[0m 141.7   \u001b[0m |\n",
      "| \u001b[0m 17      \u001b[0m | \u001b[0m 0.9436  \u001b[0m | \u001b[0m 0.4041  \u001b[0m | \u001b[0m 2.041   \u001b[0m | \u001b[0m 413.5   \u001b[0m |\n",
      "| \u001b[0m 18      \u001b[0m | \u001b[0m 0.9131  \u001b[0m | \u001b[0m 0.8634  \u001b[0m | \u001b[0m 17.01   \u001b[0m | \u001b[0m 422.0   \u001b[0m |\n",
      "| \u001b[0m 19      \u001b[0m | \u001b[0m 0.9427  \u001b[0m | \u001b[0m 0.5055  \u001b[0m | \u001b[0m 2.463   \u001b[0m | \u001b[0m 267.1   \u001b[0m |\n",
      "| \u001b[0m 20      \u001b[0m | \u001b[0m 0.8636  \u001b[0m | \u001b[0m 0.1135  \u001b[0m | \u001b[0m 20.35   \u001b[0m | \u001b[0m 271.3   \u001b[0m |\n",
      "=============================================================\n",
      "Final result: {'target': 0.9469690486378548, 'params': {'max_features': 0.1, 'min_samples_split': 2.0, 'n_estimators': 194.78017683906583}}\n"
     ]
    }
   ],
   "source": [
    "print(Colours.yellow(\"--- Optimizing Extra Trees ---\"))\n",
    "optimize_etc(x_train, y_train)"
   ]
  },
  {
   "cell_type": "code",
   "execution_count": 61,
   "metadata": {},
   "outputs": [],
   "source": [
    "etc = ExtraTreesClassifier(n_estimators=int(194.78017683906583),\n",
    "                         min_samples_split=int(2.0),\n",
    "                         max_features=0.1,\n",
    "                         n_jobs = -1,\n",
    "                         random_state = 42)"
   ]
  },
  {
   "cell_type": "markdown",
   "metadata": {},
   "source": [
    "## Hyperparameter tuning of RandomForestClassifier using Bayesian optimization"
   ]
  },
  {
   "cell_type": "code",
   "execution_count": 55,
   "metadata": {},
   "outputs": [],
   "source": [
    "def rfc_cv(n_estimators, min_samples_split, max_features, data, target):\n",
    "    estimator = RandomForestClassifier(\n",
    "            n_estimators=n_estimators,\n",
    "            min_samples_split=min_samples_split,\n",
    "            max_features=max_features,\n",
    "            random_state=42,\n",
    "            n_jobs=-1\n",
    "    )\n",
    "    cval = cross_val_score(estimator, data, target, scoring='f1_micro', cv=5)\n",
    "    \n",
    "    return cval.mean()"
   ]
  },
  {
   "cell_type": "code",
   "execution_count": 56,
   "metadata": {},
   "outputs": [],
   "source": [
    "def optimize_rfc(data, target):\n",
    "    def rfc_crossval(n_estimators, min_samples_split, max_features):\n",
    "        return rfc_cv(\n",
    "            n_estimators=int(n_estimators),\n",
    "            min_samples_split=int(min_samples_split),\n",
    "            max_features=max(min(max_features, 0.9), 1e-3),\n",
    "            data=data,\n",
    "            target=target,\n",
    "            )\n",
    "    optimizer = BayesianOptimization(\n",
    "        f=rfc_crossval,\n",
    "        pbounds={\n",
    "            \"n_estimators\":(100,700),\n",
    "            \"min_samples_split\":(2,25),\n",
    "            \"max_features\":(0.1,0.9),\n",
    "        },\n",
    "        random_state=1234,\n",
    "        verbose=2\n",
    "    )\n",
    "    optimizer.maximize(n_iter=15, init_points=5)\n",
    "    \n",
    "    print(\"Final result:\", optimizer.max)"
   ]
  },
  {
   "cell_type": "code",
   "execution_count": 57,
   "metadata": {},
   "outputs": [
    {
     "name": "stdout",
     "output_type": "stream",
     "text": [
      "\u001b[92m--- Optimizing Random Forest ---\u001b[0m\n",
      "|   iter    |  target   | max_fe... | min_sa... | n_esti... |\n",
      "-------------------------------------------------------------\n",
      "| \u001b[0m 1       \u001b[0m | \u001b[0m 0.9047  \u001b[0m | \u001b[0m 0.2532  \u001b[0m | \u001b[0m 16.31   \u001b[0m | \u001b[0m 362.6   \u001b[0m |\n",
      "| \u001b[0m 2       \u001b[0m | \u001b[0m 0.9041  \u001b[0m | \u001b[0m 0.7283  \u001b[0m | \u001b[0m 19.94   \u001b[0m | \u001b[0m 263.6   \u001b[0m |\n",
      "| \u001b[0m 3       \u001b[0m | \u001b[0m 0.8973  \u001b[0m | \u001b[0m 0.3212  \u001b[0m | \u001b[0m 20.44   \u001b[0m | \u001b[0m 674.9   \u001b[0m |\n",
      "| \u001b[95m 4       \u001b[0m | \u001b[95m 0.9212  \u001b[0m | \u001b[95m 0.8007  \u001b[0m | \u001b[95m 10.23   \u001b[0m | \u001b[95m 400.6   \u001b[0m |\n",
      "| \u001b[0m 5       \u001b[0m | \u001b[0m 0.9052  \u001b[0m | \u001b[0m 0.6468  \u001b[0m | \u001b[0m 18.39   \u001b[0m | \u001b[0m 322.2   \u001b[0m |\n",
      "| \u001b[0m 6       \u001b[0m | \u001b[0m 0.9201  \u001b[0m | \u001b[0m 0.7907  \u001b[0m | \u001b[0m 11.03   \u001b[0m | \u001b[0m 401.0   \u001b[0m |\n",
      "| \u001b[95m 7       \u001b[0m | \u001b[95m 0.9307  \u001b[0m | \u001b[95m 0.9     \u001b[0m | \u001b[95m 4.666   \u001b[0m | \u001b[95m 391.1   \u001b[0m |\n",
      "| \u001b[95m 8       \u001b[0m | \u001b[95m 0.9357  \u001b[0m | \u001b[95m 0.3031  \u001b[0m | \u001b[95m 2.374   \u001b[0m | \u001b[95m 380.1   \u001b[0m |\n",
      "| \u001b[0m 9       \u001b[0m | \u001b[0m 0.9291  \u001b[0m | \u001b[0m 0.483   \u001b[0m | \u001b[0m 6.885   \u001b[0m | \u001b[0m 100.0   \u001b[0m |\n",
      "| \u001b[0m 10      \u001b[0m | \u001b[0m 0.8948  \u001b[0m | \u001b[0m 0.813   \u001b[0m | \u001b[0m 23.54   \u001b[0m | \u001b[0m 119.1   \u001b[0m |\n",
      "| \u001b[0m 11      \u001b[0m | \u001b[0m 0.9348  \u001b[0m | \u001b[0m 0.2652  \u001b[0m | \u001b[0m 2.775   \u001b[0m | \u001b[0m 530.8   \u001b[0m |\n",
      "| \u001b[0m 12      \u001b[0m | \u001b[0m 0.9033  \u001b[0m | \u001b[0m 0.3593  \u001b[0m | \u001b[0m 18.31   \u001b[0m | \u001b[0m 541.0   \u001b[0m |\n",
      "| \u001b[0m 13      \u001b[0m | \u001b[0m 0.9327  \u001b[0m | \u001b[0m 0.6423  \u001b[0m | \u001b[0m 3.141   \u001b[0m | \u001b[0m 517.4   \u001b[0m |\n",
      "| \u001b[0m 14      \u001b[0m | \u001b[0m 0.9325  \u001b[0m | \u001b[0m 0.8423  \u001b[0m | \u001b[0m 2.05    \u001b[0m | \u001b[0m 495.6   \u001b[0m |\n",
      "| \u001b[0m 15      \u001b[0m | \u001b[0m 0.8833  \u001b[0m | \u001b[0m 0.1     \u001b[0m | \u001b[0m 20.8    \u001b[0m | \u001b[0m 499.1   \u001b[0m |\n",
      "| \u001b[0m 16      \u001b[0m | \u001b[0m 0.9316  \u001b[0m | \u001b[0m 0.9     \u001b[0m | \u001b[0m 2.0     \u001b[0m | \u001b[0m 480.7   \u001b[0m |\n",
      "| \u001b[0m 17      \u001b[0m | \u001b[0m 0.9313  \u001b[0m | \u001b[0m 0.9     \u001b[0m | \u001b[0m 2.0     \u001b[0m | \u001b[0m 461.9   \u001b[0m |\n",
      "| \u001b[0m 18      \u001b[0m | \u001b[0m 0.9011  \u001b[0m | \u001b[0m 0.3873  \u001b[0m | \u001b[0m 19.61   \u001b[0m | \u001b[0m 457.1   \u001b[0m |\n",
      "| \u001b[0m 19      \u001b[0m | \u001b[0m 0.9088  \u001b[0m | \u001b[0m 0.8778  \u001b[0m | \u001b[0m 16.09   \u001b[0m | \u001b[0m 384.0   \u001b[0m |\n",
      "| \u001b[95m 20      \u001b[0m | \u001b[95m 0.9394  \u001b[0m | \u001b[95m 0.1228  \u001b[0m | \u001b[95m 2.057   \u001b[0m | \u001b[95m 446.2   \u001b[0m |\n",
      "=============================================================\n",
      "Final result: {'target': 0.9393941642489135, 'params': {'max_features': 0.12279345517911909, 'min_samples_split': 2.057127002152813, 'n_estimators': 446.18597616438296}}\n"
     ]
    }
   ],
   "source": [
    "print(Colours.green(\"--- Optimizing Random Forest ---\"))\n",
    "optimize_rfc(x_train, y_train)"
   ]
  },
  {
   "cell_type": "markdown",
   "metadata": {},
   "source": [
    "## Hyperparameter tuning of ExtremeGradientBoosting and RandomForest Classifier using Bayesian optimization"
   ]
  },
  {
   "cell_type": "code",
   "execution_count": 58,
   "metadata": {},
   "outputs": [],
   "source": [
    "def xgb_cv(n_estimators, max_depth, gamma, min_child_weight, subsample, data, targets):\n",
    "    estimator = XGBRFClassifier(\n",
    "        n_estimators=n_estimators,\n",
    "        max_depth = max_depth,\n",
    "        gamma = gamma,\n",
    "        min_child_weight=min_child_weight,\n",
    "        subsample = subsample,\n",
    "        random_state = 2,\n",
    "    )\n",
    "    cval = cross_val_score(estimator, data, targets,\n",
    "                           scoring='f1_micro', cv=5)\n",
    "    return cval.mean()"
   ]
  },
  {
   "cell_type": "code",
   "execution_count": 59,
   "metadata": {},
   "outputs": [],
   "source": [
    "def optimize_xgb(data, targets):\n",
    "    def xgb_crossval(n_estimators, max_depth, gamma, min_child_weight, subsample):\n",
    "        return xgb_cv(\n",
    "            n_estimators=int(n_estimators),\n",
    "            max_depth = int(max_depth),\n",
    "            gamma = gamma,\n",
    "            min_child_weight=min_child_weight,\n",
    "            subsample=subsample,\n",
    "            data=data,\n",
    "            targets=targets,\n",
    "        )\n",
    "\n",
    "    optimizer = BayesianOptimization(\n",
    "        f=xgb_crossval,\n",
    "        pbounds={\n",
    "            \"n_estimators\": (100, 550),\n",
    "            \"max_depth\": (6,15),\n",
    "            \"gamma\": (0,10),\n",
    "            \"min_child_weight\": (0,10),\n",
    "            \"subsample\": (0.8,1.0)\n",
    "        },\n",
    "        random_state=1234,\n",
    "        verbose=2\n",
    "    )\n",
    "    optimizer.maximize(n_iter=15, init_points=5)\n",
    "\n",
    "    print(\"Final result:\", optimizer.max)"
   ]
  },
  {
   "cell_type": "code",
   "execution_count": 60,
   "metadata": {},
   "outputs": [
    {
     "name": "stdout",
     "output_type": "stream",
     "text": [
      "\u001b[91m--- Optimizing XGBoost RandomForest ---\u001b[0m\n",
      "|   iter    |  target   |   gamma   | max_depth | min_ch... | n_esti... | subsample |\n",
      "-------------------------------------------------------------------------------------\n",
      "| \u001b[0m 1       \u001b[0m | \u001b[0m 0.8549  \u001b[0m | \u001b[0m 1.915   \u001b[0m | \u001b[0m 11.6    \u001b[0m | \u001b[0m 4.377   \u001b[0m | \u001b[0m 453.4   \u001b[0m | \u001b[0m 0.956   \u001b[0m |\n",
      "| \u001b[0m 2       \u001b[0m | \u001b[0m 0.8227  \u001b[0m | \u001b[0m 2.726   \u001b[0m | \u001b[0m 8.488   \u001b[0m | \u001b[0m 8.019   \u001b[0m | \u001b[0m 531.2   \u001b[0m | \u001b[0m 0.9752  \u001b[0m |\n",
      "| \u001b[0m 3       \u001b[0m | \u001b[0m 0.8364  \u001b[0m | \u001b[0m 3.578   \u001b[0m | \u001b[0m 10.51   \u001b[0m | \u001b[0m 6.835   \u001b[0m | \u001b[0m 420.7   \u001b[0m | \u001b[0m 0.8741  \u001b[0m |\n",
      "| \u001b[95m 4       \u001b[0m | \u001b[95m 0.8839  \u001b[0m | \u001b[95m 5.612   \u001b[0m | \u001b[95m 10.53   \u001b[0m | \u001b[95m 0.1377  \u001b[0m | \u001b[95m 447.8   \u001b[0m | \u001b[95m 0.9765  \u001b[0m |\n",
      "| \u001b[95m 5       \u001b[0m | \u001b[95m 0.8918  \u001b[0m | \u001b[95m 3.649   \u001b[0m | \u001b[95m 11.54   \u001b[0m | \u001b[95m 0.7538  \u001b[0m | \u001b[95m 266.0   \u001b[0m | \u001b[95m 0.9866  \u001b[0m |\n",
      "| \u001b[0m 6       \u001b[0m | \u001b[0m 0.8252  \u001b[0m | \u001b[0m 5.153   \u001b[0m | \u001b[0m 7.633   \u001b[0m | \u001b[0m 3.77    \u001b[0m | \u001b[0m 134.2   \u001b[0m | \u001b[0m 0.8525  \u001b[0m |\n",
      "| \u001b[0m 7       \u001b[0m | \u001b[0m 0.8888  \u001b[0m | \u001b[0m 6.275   \u001b[0m | \u001b[0m 11.11   \u001b[0m | \u001b[0m 0.3784  \u001b[0m | \u001b[0m 448.7   \u001b[0m | \u001b[0m 0.9131  \u001b[0m |\n",
      "| \u001b[0m 8       \u001b[0m | \u001b[0m 0.8396  \u001b[0m | \u001b[0m 10.0    \u001b[0m | \u001b[0m 15.0    \u001b[0m | \u001b[0m 3.423   \u001b[0m | \u001b[0m 445.2   \u001b[0m | \u001b[0m 0.8     \u001b[0m |\n",
      "| \u001b[0m 9       \u001b[0m | \u001b[0m 0.8874  \u001b[0m | \u001b[0m 6.655   \u001b[0m | \u001b[0m 12.64   \u001b[0m | \u001b[0m 0.8993  \u001b[0m | \u001b[0m 269.4   \u001b[0m | \u001b[0m 0.9797  \u001b[0m |\n",
      "| \u001b[0m 10      \u001b[0m | \u001b[0m 0.8155  \u001b[0m | \u001b[0m 6.17    \u001b[0m | \u001b[0m 6.573   \u001b[0m | \u001b[0m 2.774   \u001b[0m | \u001b[0m 267.9   \u001b[0m | \u001b[0m 0.8699  \u001b[0m |\n",
      "| \u001b[95m 11      \u001b[0m | \u001b[95m 0.9228  \u001b[0m | \u001b[95m 2.466   \u001b[0m | \u001b[95m 13.91   \u001b[0m | \u001b[95m 0.213   \u001b[0m | \u001b[95m 269.9   \u001b[0m | \u001b[95m 0.9122  \u001b[0m |\n",
      "| \u001b[0m 12      \u001b[0m | \u001b[0m 0.8502  \u001b[0m | \u001b[0m 1.0     \u001b[0m | \u001b[0m 14.84   \u001b[0m | \u001b[0m 5.008   \u001b[0m | \u001b[0m 269.1   \u001b[0m | \u001b[0m 0.905   \u001b[0m |\n",
      "| \u001b[0m 13      \u001b[0m | \u001b[0m 0.9109  \u001b[0m | \u001b[0m 4.426   \u001b[0m | \u001b[0m 14.38   \u001b[0m | \u001b[0m 0.051   \u001b[0m | \u001b[0m 272.2   \u001b[0m | \u001b[0m 0.932   \u001b[0m |\n",
      "| \u001b[0m 14      \u001b[0m | \u001b[0m 0.9027  \u001b[0m | \u001b[0m 0.6376  \u001b[0m | \u001b[0m 13.11   \u001b[0m | \u001b[0m 1.274   \u001b[0m | \u001b[0m 275.9   \u001b[0m | \u001b[0m 0.9038  \u001b[0m |\n",
      "| \u001b[0m 15      \u001b[0m | \u001b[0m 0.8897  \u001b[0m | \u001b[0m 0.9448  \u001b[0m | \u001b[0m 10.32   \u001b[0m | \u001b[0m 0.8842  \u001b[0m | \u001b[0m 271.7   \u001b[0m | \u001b[0m 0.9393  \u001b[0m |\n",
      "| \u001b[0m 16      \u001b[0m | \u001b[0m 0.8903  \u001b[0m | \u001b[0m 4.334   \u001b[0m | \u001b[0m 13.05   \u001b[0m | \u001b[0m 1.411   \u001b[0m | \u001b[0m 280.8   \u001b[0m | \u001b[0m 0.8247  \u001b[0m |\n",
      "| \u001b[95m 17      \u001b[0m | \u001b[95m 0.9236  \u001b[0m | \u001b[95m 0.0     \u001b[0m | \u001b[95m 15.0    \u001b[0m | \u001b[95m 0.0     \u001b[0m | \u001b[95m 265.6   \u001b[0m | \u001b[95m 1.0     \u001b[0m |\n",
      "| \u001b[0m 18      \u001b[0m | \u001b[0m 0.9233  \u001b[0m | \u001b[0m 0.0     \u001b[0m | \u001b[0m 15.0    \u001b[0m | \u001b[0m 0.0     \u001b[0m | \u001b[0m 258.5   \u001b[0m | \u001b[0m 1.0     \u001b[0m |\n",
      "| \u001b[0m 19      \u001b[0m | \u001b[0m 0.9128  \u001b[0m | \u001b[0m 1.666   \u001b[0m | \u001b[0m 14.16   \u001b[0m | \u001b[0m 0.806   \u001b[0m | \u001b[0m 250.5   \u001b[0m | \u001b[0m 0.8328  \u001b[0m |\n",
      "| \u001b[0m 20      \u001b[0m | \u001b[0m 0.8928  \u001b[0m | \u001b[0m 7.468   \u001b[0m | \u001b[0m 15.0    \u001b[0m | \u001b[0m 0.0     \u001b[0m | \u001b[0m 256.2   \u001b[0m | \u001b[0m 1.0     \u001b[0m |\n",
      "=====================================================================================\n",
      "Final result: {'target': 0.923601722479044, 'params': {'gamma': 0.0, 'max_depth': 15.0, 'min_child_weight': 0.0, 'n_estimators': 265.62444878716207, 'subsample': 1.0}}\n"
     ]
    }
   ],
   "source": [
    "print(Colours.red(\"--- Optimizing XGBoost RandomForest ---\"))\n",
    "optimize_xgb(x_train, y_train)"
   ]
  },
  {
   "cell_type": "markdown",
   "metadata": {},
   "source": [
    "## So from the accuracies (f1_score) of each of the Ensembling Techniques the ExtraTreesClassifier gives the best accuracy that is the best f1_score value and hence its my final model \n",
    "\n",
    "\n",
    "## Now checking the model performance by plotting the Learning Curve\n",
    "### Metric Used : 'f1_micro' - Calculate metrics globally by counting the total true positives, false negatives and false positives \n",
    "\n",
    "###  'f1_micro' score reaches its best value at 1 and worst score at 0."
   ]
  },
  {
   "cell_type": "code",
   "execution_count": 62,
   "metadata": {},
   "outputs": [],
   "source": [
    "from sklearn.model_selection import learning_curve"
   ]
  },
  {
   "cell_type": "code",
   "execution_count": 63,
   "metadata": {},
   "outputs": [],
   "source": [
    "train_sizes, train_scores, valid_scores = learning_curve(\n",
    "etc , x_train, y_train, train_sizes=np.linspace(0.01, 1.0, 6), scoring='f1_micro', cv=5)"
   ]
  },
  {
   "cell_type": "code",
   "execution_count": 64,
   "metadata": {},
   "outputs": [
    {
     "name": "stdout",
     "output_type": "stream",
     "text": [
      "Mean training scores\n",
      "\n",
      " 62     -1.0\n",
      "1295   -1.0\n",
      "2529   -1.0\n",
      "3762   -1.0\n",
      "4996   -1.0\n",
      "6230   -1.0\n",
      "dtype: float64\n",
      "\n",
      " --------------------\n",
      "\n",
      "Mean valid scores\n",
      "\n",
      " 62     -0.709044\n",
      "1295   -0.832563\n",
      "2529   -0.876222\n",
      "3762   -0.906396\n",
      "4996   -0.927839\n",
      "6230   -0.944787\n",
      "dtype: float64\n"
     ]
    }
   ],
   "source": [
    "train_scores_mean = -train_scores.mean(axis = 1)\n",
    "valid_scores_mean = -valid_scores.mean(axis = 1)\n",
    "print('Mean training scores\\n\\n', pd.Series(train_scores_mean, index = train_sizes))\n",
    "print('\\n', '-' * 20) # separator\n",
    "print('\\nMean valid scores\\n\\n',pd.Series(valid_scores_mean, index = train_sizes))"
   ]
  },
  {
   "cell_type": "code",
   "execution_count": 65,
   "metadata": {},
   "outputs": [
    {
     "data": {
      "text/plain": [
       "<matplotlib.legend.Legend at 0x2060505ef08>"
      ]
     },
     "execution_count": 65,
     "metadata": {},
     "output_type": "execute_result"
    },
    {
     "data": {
      "image/png": "[encoded data removed]",
      "text/plain": [
       "<Figure size 576x396 with 1 Axes>"
      ]
     },
     "metadata": {},
     "output_type": "display_data"
    }
   ],
   "source": [
    "plt.style.use('seaborn')\n",
    "plt.plot(train_sizes, train_scores_mean, label = 'Training error')\n",
    "plt.plot(train_sizes, valid_scores_mean, label = 'Validation error')\n",
    "plt.ylabel('f1_micro', fontsize = 14)\n",
    "plt.xlabel('Training set size', fontsize = 14)\n",
    "plt.title('Learning curves for classification model', fontsize = 18, y = 1.03)\n",
    "plt.legend()"
   ]
  },
  {
   "cell_type": "markdown",
   "metadata": {},
   "source": [
    "## Training the Model and Predicting the values from the test set \n",
    "\n",
    "## For the evalution of the model accuracy ploting the confusion matrix"
   ]
  },
  {
   "cell_type": "code",
   "execution_count": 68,
   "metadata": {},
   "outputs": [],
   "source": [
    "x_train = df2.iloc[:6231,:13]\n",
    "y_train = df2.iloc[:6231, -1]\n",
    "x_test  = df2.iloc[6231:,:13]\n",
    "y_actual= df2.iloc[6231:,-1]"
   ]
  },
  {
   "cell_type": "code",
   "execution_count": 69,
   "metadata": {},
   "outputs": [],
   "source": [
    "clf = etc.fit(x_train,y_train)\n",
    "y_pred = clf.predict(x_test)"
   ]
  },
  {
   "cell_type": "code",
   "execution_count": 70,
   "metadata": {},
   "outputs": [],
   "source": [
    "from sklearn.metrics import confusion_matrix\n",
    "cm = confusion_matrix(y_actual, y_pred)"
   ]
  },
  {
   "cell_type": "code",
   "execution_count": 74,
   "metadata": {},
   "outputs": [
    {
     "data": {
      "text/plain": [
       "Text(34.0, 0.5, 'Truth')"
      ]
     },
     "execution_count": 74,
     "metadata": {},
     "output_type": "execute_result"
    },
    {
     "data": {
      "image/png": "[encoded data removed]",
      "text/plain": [
       "<Figure size 432x432 with 2 Axes>"
      ]
     },
     "metadata": {},
     "output_type": "display_data"
    }
   ],
   "source": [
    "plt.figure(figsize=(6,6))\n",
    "sns.heatmap(cm, annot=True)\n",
    "plt.xlabel('Predicted')\n",
    "plt.ylabel('Truth')"
   ]
  }
 ],
 "metadata": {
  "kernelspec": {
   "display_name": "Python 3",
   "language": "python",
   "name": "python3"
  },
  "language_info": {
   "codemirror_mode": {
    "name": "ipython",
    "version": 3
   },
   "file_extension": ".py",
   "mimetype": "text/x-python",
   "name": "python",
   "nbconvert_exporter": "python",
   "pygments_lexer": "ipython3",
   "version": "3.7.6"
  }
 },
 "nbformat": 4,
 "nbformat_minor": 2
}
