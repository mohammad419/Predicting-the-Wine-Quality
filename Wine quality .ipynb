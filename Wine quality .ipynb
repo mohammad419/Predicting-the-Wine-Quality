{
 "cells": [
  {
   "cell_type": "markdown",
   "metadata": {},
   "source": [
    "## Data Science Classification Project: Predicting The Quality of Wine\n",
    "\n",
    "### Loading Required Libraries"
   ]
  },
  {
   "cell_type": "code",
   "execution_count": 1,
   "metadata": {},
   "outputs": [],
   "source": [
    "import numpy as np\n",
    "import pandas as pd\n",
    "import seaborn as sns\n",
    "import matplotlib.pyplot as plt"
   ]
  },
  {
   "cell_type": "code",
   "execution_count": 2,
   "metadata": {},
   "outputs": [],
   "source": [
    "from sklearn.model_selection import cross_val_score\n",
    "from sklearn.metrics import log_loss\n",
    "from xgboost import XGBClassifier, XGBRFClassifier\n",
    "from sklearn.ensemble import ExtraTreesClassifier, RandomForestClassifier\n",
    "from lightgbm import LGBMClassifier\n",
    "from bayes_opt import BayesianOptimization\n",
    "from bayes_opt.util import Colours"
   ]
  },
  {
   "cell_type": "code",
   "execution_count": 3,
   "metadata": {},
   "outputs": [],
   "source": [
    "data = pd.read_csv(r'E:/Data_Sets/winequality.csv')"
   ]
  },
  {
   "cell_type": "code",
   "execution_count": 4,
   "metadata": {},
   "outputs": [
    {
     "data": {
      "text/html": [
       "<div>\n",
       "<style scoped>\n",
       "    .dataframe tbody tr th:only-of-type {\n",
       "        vertical-align: middle;\n",
       "    }\n",
       "\n",
       "    .dataframe tbody tr th {\n",
       "        vertical-align: top;\n",
       "    }\n",
       "\n",
       "    .dataframe thead th {\n",
       "        text-align: right;\n",
       "    }\n",
       "</style>\n",
       "<table border=\"1\" class=\"dataframe\">\n",
       "  <thead>\n",
       "    <tr style=\"text-align: right;\">\n",
       "      <th></th>\n",
       "      <th>type</th>\n",
       "      <th>fixed acidity</th>\n",
       "      <th>volatile acidity</th>\n",
       "      <th>citric acid</th>\n",
       "      <th>residual sugar</th>\n",
       "      <th>chlorides</th>\n",
       "      <th>free sulfur dioxide</th>\n",
       "      <th>total sulfur dioxide</th>\n",
       "      <th>density</th>\n",
       "      <th>pH</th>\n",
       "      <th>sulphates</th>\n",
       "      <th>alcohol</th>\n",
       "      <th>quality</th>\n",
       "    </tr>\n",
       "  </thead>\n",
       "  <tbody>\n",
       "    <tr>\n",
       "      <th>0</th>\n",
       "      <td>white</td>\n",
       "      <td>7.0</td>\n",
       "      <td>0.27</td>\n",
       "      <td>0.36</td>\n",
       "      <td>20.7</td>\n",
       "      <td>0.045</td>\n",
       "      <td>45.0</td>\n",
       "      <td>170.0</td>\n",
       "      <td>1.0010</td>\n",
       "      <td>3.00</td>\n",
       "      <td>0.45</td>\n",
       "      <td>8.8</td>\n",
       "      <td>6</td>\n",
       "    </tr>\n",
       "    <tr>\n",
       "      <th>1</th>\n",
       "      <td>white</td>\n",
       "      <td>6.3</td>\n",
       "      <td>0.30</td>\n",
       "      <td>0.34</td>\n",
       "      <td>1.6</td>\n",
       "      <td>0.049</td>\n",
       "      <td>14.0</td>\n",
       "      <td>132.0</td>\n",
       "      <td>0.9940</td>\n",
       "      <td>3.30</td>\n",
       "      <td>0.49</td>\n",
       "      <td>9.5</td>\n",
       "      <td>6</td>\n",
       "    </tr>\n",
       "    <tr>\n",
       "      <th>2</th>\n",
       "      <td>white</td>\n",
       "      <td>8.1</td>\n",
       "      <td>0.28</td>\n",
       "      <td>0.40</td>\n",
       "      <td>6.9</td>\n",
       "      <td>0.050</td>\n",
       "      <td>30.0</td>\n",
       "      <td>97.0</td>\n",
       "      <td>0.9951</td>\n",
       "      <td>3.26</td>\n",
       "      <td>0.44</td>\n",
       "      <td>10.1</td>\n",
       "      <td>6</td>\n",
       "    </tr>\n",
       "    <tr>\n",
       "      <th>3</th>\n",
       "      <td>white</td>\n",
       "      <td>7.2</td>\n",
       "      <td>0.23</td>\n",
       "      <td>0.32</td>\n",
       "      <td>8.5</td>\n",
       "      <td>0.058</td>\n",
       "      <td>47.0</td>\n",
       "      <td>186.0</td>\n",
       "      <td>0.9956</td>\n",
       "      <td>3.19</td>\n",
       "      <td>0.40</td>\n",
       "      <td>9.9</td>\n",
       "      <td>6</td>\n",
       "    </tr>\n",
       "    <tr>\n",
       "      <th>4</th>\n",
       "      <td>white</td>\n",
       "      <td>7.2</td>\n",
       "      <td>0.23</td>\n",
       "      <td>0.32</td>\n",
       "      <td>8.5</td>\n",
       "      <td>0.058</td>\n",
       "      <td>47.0</td>\n",
       "      <td>186.0</td>\n",
       "      <td>0.9956</td>\n",
       "      <td>3.19</td>\n",
       "      <td>0.40</td>\n",
       "      <td>9.9</td>\n",
       "      <td>6</td>\n",
       "    </tr>\n",
       "  </tbody>\n",
       "</table>\n",
       "</div>"
      ],
      "text/plain": [
       "    type  fixed acidity  volatile acidity  citric acid  residual sugar  \\\n",
       "0  white            7.0              0.27         0.36            20.7   \n",
       "1  white            6.3              0.30         0.34             1.6   \n",
       "2  white            8.1              0.28         0.40             6.9   \n",
       "3  white            7.2              0.23         0.32             8.5   \n",
       "4  white            7.2              0.23         0.32             8.5   \n",
       "\n",
       "   chlorides  free sulfur dioxide  total sulfur dioxide  density    pH  \\\n",
       "0      0.045                 45.0                 170.0   1.0010  3.00   \n",
       "1      0.049                 14.0                 132.0   0.9940  3.30   \n",
       "2      0.050                 30.0                  97.0   0.9951  3.26   \n",
       "3      0.058                 47.0                 186.0   0.9956  3.19   \n",
       "4      0.058                 47.0                 186.0   0.9956  3.19   \n",
       "\n",
       "   sulphates  alcohol  quality  \n",
       "0       0.45      8.8        6  \n",
       "1       0.49      9.5        6  \n",
       "2       0.44     10.1        6  \n",
       "3       0.40      9.9        6  \n",
       "4       0.40      9.9        6  "
      ]
     },
     "execution_count": 4,
     "metadata": {},
     "output_type": "execute_result"
    }
   ],
   "source": [
    "data.head()"
   ]
  },
  {
   "cell_type": "markdown",
   "metadata": {},
   "source": [
    "# Exploratory Data Analysis"
   ]
  },
  {
   "cell_type": "code",
   "execution_count": 5,
   "metadata": {},
   "outputs": [
    {
     "name": "stdout",
     "output_type": "stream",
     "text": [
      "<class 'pandas.core.frame.DataFrame'>\n",
      "RangeIndex: 6497 entries, 0 to 6496\n",
      "Data columns (total 13 columns):\n",
      " #   Column                Non-Null Count  Dtype  \n",
      "---  ------                --------------  -----  \n",
      " 0   type                  6497 non-null   object \n",
      " 1   fixed acidity         6487 non-null   float64\n",
      " 2   volatile acidity      6489 non-null   float64\n",
      " 3   citric acid           6494 non-null   float64\n",
      " 4   residual sugar        6495 non-null   float64\n",
      " 5   chlorides             6495 non-null   float64\n",
      " 6   free sulfur dioxide   6497 non-null   float64\n",
      " 7   total sulfur dioxide  6497 non-null   float64\n",
      " 8   density               6497 non-null   float64\n",
      " 9   pH                    6488 non-null   float64\n",
      " 10  sulphates             6493 non-null   float64\n",
      " 11  alcohol               6497 non-null   float64\n",
      " 12  quality               6497 non-null   int64  \n",
      "dtypes: float64(11), int64(1), object(1)\n",
      "memory usage: 660.0+ KB\n"
     ]
    }
   ],
   "source": [
    "data.info()"
   ]
  },
  {
   "cell_type": "code",
   "execution_count": 6,
   "metadata": {},
   "outputs": [
    {
     "data": {
      "text/plain": [
       "type                     0\n",
       "fixed acidity           10\n",
       "volatile acidity         8\n",
       "citric acid              3\n",
       "residual sugar           2\n",
       "chlorides                2\n",
       "free sulfur dioxide      0\n",
       "total sulfur dioxide     0\n",
       "density                  0\n",
       "pH                       9\n",
       "sulphates                4\n",
       "alcohol                  0\n",
       "quality                  0\n",
       "dtype: int64"
      ]
     },
     "execution_count": 6,
     "metadata": {},
     "output_type": "execute_result"
    }
   ],
   "source": [
    "data.isnull().sum()"
   ]
  },
  {
   "cell_type": "code",
   "execution_count": 7,
   "metadata": {},
   "outputs": [
    {
     "data": {
      "text/plain": [
       "array(['white', 'red'], dtype=object)"
      ]
     },
     "execution_count": 7,
     "metadata": {},
     "output_type": "execute_result"
    }
   ],
   "source": [
    "data['type'].unique()"
   ]
  },
  {
   "cell_type": "code",
   "execution_count": 8,
   "metadata": {},
   "outputs": [],
   "source": [
    "A = pd.get_dummies(data['type'])"
   ]
  },
  {
   "cell_type": "code",
   "execution_count": 9,
   "metadata": {},
   "outputs": [
    {
     "data": {
      "text/html": [
       "<div>\n",
       "<style scoped>\n",
       "    .dataframe tbody tr th:only-of-type {\n",
       "        vertical-align: middle;\n",
       "    }\n",
       "\n",
       "    .dataframe tbody tr th {\n",
       "        vertical-align: top;\n",
       "    }\n",
       "\n",
       "    .dataframe thead th {\n",
       "        text-align: right;\n",
       "    }\n",
       "</style>\n",
       "<table border=\"1\" class=\"dataframe\">\n",
       "  <thead>\n",
       "    <tr style=\"text-align: right;\">\n",
       "      <th></th>\n",
       "      <th>red</th>\n",
       "      <th>white</th>\n",
       "    </tr>\n",
       "  </thead>\n",
       "  <tbody>\n",
       "    <tr>\n",
       "      <th>0</th>\n",
       "      <td>0</td>\n",
       "      <td>1</td>\n",
       "    </tr>\n",
       "    <tr>\n",
       "      <th>1</th>\n",
       "      <td>0</td>\n",
       "      <td>1</td>\n",
       "    </tr>\n",
       "    <tr>\n",
       "      <th>2</th>\n",
       "      <td>0</td>\n",
       "      <td>1</td>\n",
       "    </tr>\n",
       "    <tr>\n",
       "      <th>3</th>\n",
       "      <td>0</td>\n",
       "      <td>1</td>\n",
       "    </tr>\n",
       "    <tr>\n",
       "      <th>4</th>\n",
       "      <td>0</td>\n",
       "      <td>1</td>\n",
       "    </tr>\n",
       "  </tbody>\n",
       "</table>\n",
       "</div>"
      ],
      "text/plain": [
       "   red  white\n",
       "0    0      1\n",
       "1    0      1\n",
       "2    0      1\n",
       "3    0      1\n",
       "4    0      1"
      ]
     },
     "execution_count": 9,
     "metadata": {},
     "output_type": "execute_result"
    }
   ],
   "source": [
    "A.head()"
   ]
  },
  {
   "cell_type": "code",
   "execution_count": 10,
   "metadata": {},
   "outputs": [],
   "source": [
    "d1 = pd.concat([A,data], axis=1)"
   ]
  },
  {
   "cell_type": "code",
   "execution_count": 11,
   "metadata": {},
   "outputs": [
    {
     "data": {
      "text/html": [
       "<div>\n",
       "<style scoped>\n",
       "    .dataframe tbody tr th:only-of-type {\n",
       "        vertical-align: middle;\n",
       "    }\n",
       "\n",
       "    .dataframe tbody tr th {\n",
       "        vertical-align: top;\n",
       "    }\n",
       "\n",
       "    .dataframe thead th {\n",
       "        text-align: right;\n",
       "    }\n",
       "</style>\n",
       "<table border=\"1\" class=\"dataframe\">\n",
       "  <thead>\n",
       "    <tr style=\"text-align: right;\">\n",
       "      <th></th>\n",
       "      <th>red</th>\n",
       "      <th>white</th>\n",
       "      <th>type</th>\n",
       "      <th>fixed acidity</th>\n",
       "      <th>volatile acidity</th>\n",
       "      <th>citric acid</th>\n",
       "      <th>residual sugar</th>\n",
       "      <th>chlorides</th>\n",
       "      <th>free sulfur dioxide</th>\n",
       "      <th>total sulfur dioxide</th>\n",
       "      <th>density</th>\n",
       "      <th>pH</th>\n",
       "      <th>sulphates</th>\n",
       "      <th>alcohol</th>\n",
       "      <th>quality</th>\n",
       "    </tr>\n",
       "  </thead>\n",
       "  <tbody>\n",
       "    <tr>\n",
       "      <th>0</th>\n",
       "      <td>0</td>\n",
       "      <td>1</td>\n",
       "      <td>white</td>\n",
       "      <td>7.0</td>\n",
       "      <td>0.27</td>\n",
       "      <td>0.36</td>\n",
       "      <td>20.7</td>\n",
       "      <td>0.045</td>\n",
       "      <td>45.0</td>\n",
       "      <td>170.0</td>\n",
       "      <td>1.0010</td>\n",
       "      <td>3.00</td>\n",
       "      <td>0.45</td>\n",
       "      <td>8.8</td>\n",
       "      <td>6</td>\n",
       "    </tr>\n",
       "    <tr>\n",
       "      <th>1</th>\n",
       "      <td>0</td>\n",
       "      <td>1</td>\n",
       "      <td>white</td>\n",
       "      <td>6.3</td>\n",
       "      <td>0.30</td>\n",
       "      <td>0.34</td>\n",
       "      <td>1.6</td>\n",
       "      <td>0.049</td>\n",
       "      <td>14.0</td>\n",
       "      <td>132.0</td>\n",
       "      <td>0.9940</td>\n",
       "      <td>3.30</td>\n",
       "      <td>0.49</td>\n",
       "      <td>9.5</td>\n",
       "      <td>6</td>\n",
       "    </tr>\n",
       "    <tr>\n",
       "      <th>2</th>\n",
       "      <td>0</td>\n",
       "      <td>1</td>\n",
       "      <td>white</td>\n",
       "      <td>8.1</td>\n",
       "      <td>0.28</td>\n",
       "      <td>0.40</td>\n",
       "      <td>6.9</td>\n",
       "      <td>0.050</td>\n",
       "      <td>30.0</td>\n",
       "      <td>97.0</td>\n",
       "      <td>0.9951</td>\n",
       "      <td>3.26</td>\n",
       "      <td>0.44</td>\n",
       "      <td>10.1</td>\n",
       "      <td>6</td>\n",
       "    </tr>\n",
       "    <tr>\n",
       "      <th>3</th>\n",
       "      <td>0</td>\n",
       "      <td>1</td>\n",
       "      <td>white</td>\n",
       "      <td>7.2</td>\n",
       "      <td>0.23</td>\n",
       "      <td>0.32</td>\n",
       "      <td>8.5</td>\n",
       "      <td>0.058</td>\n",
       "      <td>47.0</td>\n",
       "      <td>186.0</td>\n",
       "      <td>0.9956</td>\n",
       "      <td>3.19</td>\n",
       "      <td>0.40</td>\n",
       "      <td>9.9</td>\n",
       "      <td>6</td>\n",
       "    </tr>\n",
       "    <tr>\n",
       "      <th>4</th>\n",
       "      <td>0</td>\n",
       "      <td>1</td>\n",
       "      <td>white</td>\n",
       "      <td>7.2</td>\n",
       "      <td>0.23</td>\n",
       "      <td>0.32</td>\n",
       "      <td>8.5</td>\n",
       "      <td>0.058</td>\n",
       "      <td>47.0</td>\n",
       "      <td>186.0</td>\n",
       "      <td>0.9956</td>\n",
       "      <td>3.19</td>\n",
       "      <td>0.40</td>\n",
       "      <td>9.9</td>\n",
       "      <td>6</td>\n",
       "    </tr>\n",
       "  </tbody>\n",
       "</table>\n",
       "</div>"
      ],
      "text/plain": [
       "   red  white   type  fixed acidity  volatile acidity  citric acid  \\\n",
       "0    0      1  white            7.0              0.27         0.36   \n",
       "1    0      1  white            6.3              0.30         0.34   \n",
       "2    0      1  white            8.1              0.28         0.40   \n",
       "3    0      1  white            7.2              0.23         0.32   \n",
       "4    0      1  white            7.2              0.23         0.32   \n",
       "\n",
       "   residual sugar  chlorides  free sulfur dioxide  total sulfur dioxide  \\\n",
       "0            20.7      0.045                 45.0                 170.0   \n",
       "1             1.6      0.049                 14.0                 132.0   \n",
       "2             6.9      0.050                 30.0                  97.0   \n",
       "3             8.5      0.058                 47.0                 186.0   \n",
       "4             8.5      0.058                 47.0                 186.0   \n",
       "\n",
       "   density    pH  sulphates  alcohol  quality  \n",
       "0   1.0010  3.00       0.45      8.8        6  \n",
       "1   0.9940  3.30       0.49      9.5        6  \n",
       "2   0.9951  3.26       0.44     10.1        6  \n",
       "3   0.9956  3.19       0.40      9.9        6  \n",
       "4   0.9956  3.19       0.40      9.9        6  "
      ]
     },
     "execution_count": 11,
     "metadata": {},
     "output_type": "execute_result"
    }
   ],
   "source": [
    "d1.head()"
   ]
  },
  {
   "cell_type": "code",
   "execution_count": 12,
   "metadata": {},
   "outputs": [],
   "source": [
    "d1.drop(['type'], inplace=True, axis=1)"
   ]
  },
  {
   "cell_type": "code",
   "execution_count": 13,
   "metadata": {},
   "outputs": [
    {
     "data": {
      "text/html": [
       "<div>\n",
       "<style scoped>\n",
       "    .dataframe tbody tr th:only-of-type {\n",
       "        vertical-align: middle;\n",
       "    }\n",
       "\n",
       "    .dataframe tbody tr th {\n",
       "        vertical-align: top;\n",
       "    }\n",
       "\n",
       "    .dataframe thead th {\n",
       "        text-align: right;\n",
       "    }\n",
       "</style>\n",
       "<table border=\"1\" class=\"dataframe\">\n",
       "  <thead>\n",
       "    <tr style=\"text-align: right;\">\n",
       "      <th></th>\n",
       "      <th>red</th>\n",
       "      <th>white</th>\n",
       "      <th>fixed acidity</th>\n",
       "      <th>volatile acidity</th>\n",
       "      <th>citric acid</th>\n",
       "      <th>residual sugar</th>\n",
       "      <th>chlorides</th>\n",
       "      <th>free sulfur dioxide</th>\n",
       "      <th>total sulfur dioxide</th>\n",
       "      <th>density</th>\n",
       "      <th>pH</th>\n",
       "      <th>sulphates</th>\n",
       "      <th>alcohol</th>\n",
       "      <th>quality</th>\n",
       "    </tr>\n",
       "  </thead>\n",
       "  <tbody>\n",
       "    <tr>\n",
       "      <th>0</th>\n",
       "      <td>0</td>\n",
       "      <td>1</td>\n",
       "      <td>7.0</td>\n",
       "      <td>0.27</td>\n",
       "      <td>0.36</td>\n",
       "      <td>20.7</td>\n",
       "      <td>0.045</td>\n",
       "      <td>45.0</td>\n",
       "      <td>170.0</td>\n",
       "      <td>1.0010</td>\n",
       "      <td>3.00</td>\n",
       "      <td>0.45</td>\n",
       "      <td>8.8</td>\n",
       "      <td>6</td>\n",
       "    </tr>\n",
       "    <tr>\n",
       "      <th>1</th>\n",
       "      <td>0</td>\n",
       "      <td>1</td>\n",
       "      <td>6.3</td>\n",
       "      <td>0.30</td>\n",
       "      <td>0.34</td>\n",
       "      <td>1.6</td>\n",
       "      <td>0.049</td>\n",
       "      <td>14.0</td>\n",
       "      <td>132.0</td>\n",
       "      <td>0.9940</td>\n",
       "      <td>3.30</td>\n",
       "      <td>0.49</td>\n",
       "      <td>9.5</td>\n",
       "      <td>6</td>\n",
       "    </tr>\n",
       "    <tr>\n",
       "      <th>2</th>\n",
       "      <td>0</td>\n",
       "      <td>1</td>\n",
       "      <td>8.1</td>\n",
       "      <td>0.28</td>\n",
       "      <td>0.40</td>\n",
       "      <td>6.9</td>\n",
       "      <td>0.050</td>\n",
       "      <td>30.0</td>\n",
       "      <td>97.0</td>\n",
       "      <td>0.9951</td>\n",
       "      <td>3.26</td>\n",
       "      <td>0.44</td>\n",
       "      <td>10.1</td>\n",
       "      <td>6</td>\n",
       "    </tr>\n",
       "    <tr>\n",
       "      <th>3</th>\n",
       "      <td>0</td>\n",
       "      <td>1</td>\n",
       "      <td>7.2</td>\n",
       "      <td>0.23</td>\n",
       "      <td>0.32</td>\n",
       "      <td>8.5</td>\n",
       "      <td>0.058</td>\n",
       "      <td>47.0</td>\n",
       "      <td>186.0</td>\n",
       "      <td>0.9956</td>\n",
       "      <td>3.19</td>\n",
       "      <td>0.40</td>\n",
       "      <td>9.9</td>\n",
       "      <td>6</td>\n",
       "    </tr>\n",
       "    <tr>\n",
       "      <th>4</th>\n",
       "      <td>0</td>\n",
       "      <td>1</td>\n",
       "      <td>7.2</td>\n",
       "      <td>0.23</td>\n",
       "      <td>0.32</td>\n",
       "      <td>8.5</td>\n",
       "      <td>0.058</td>\n",
       "      <td>47.0</td>\n",
       "      <td>186.0</td>\n",
       "      <td>0.9956</td>\n",
       "      <td>3.19</td>\n",
       "      <td>0.40</td>\n",
       "      <td>9.9</td>\n",
       "      <td>6</td>\n",
       "    </tr>\n",
       "  </tbody>\n",
       "</table>\n",
       "</div>"
      ],
      "text/plain": [
       "   red  white  fixed acidity  volatile acidity  citric acid  residual sugar  \\\n",
       "0    0      1            7.0              0.27         0.36            20.7   \n",
       "1    0      1            6.3              0.30         0.34             1.6   \n",
       "2    0      1            8.1              0.28         0.40             6.9   \n",
       "3    0      1            7.2              0.23         0.32             8.5   \n",
       "4    0      1            7.2              0.23         0.32             8.5   \n",
       "\n",
       "   chlorides  free sulfur dioxide  total sulfur dioxide  density    pH  \\\n",
       "0      0.045                 45.0                 170.0   1.0010  3.00   \n",
       "1      0.049                 14.0                 132.0   0.9940  3.30   \n",
       "2      0.050                 30.0                  97.0   0.9951  3.26   \n",
       "3      0.058                 47.0                 186.0   0.9956  3.19   \n",
       "4      0.058                 47.0                 186.0   0.9956  3.19   \n",
       "\n",
       "   sulphates  alcohol  quality  \n",
       "0       0.45      8.8        6  \n",
       "1       0.49      9.5        6  \n",
       "2       0.44     10.1        6  \n",
       "3       0.40      9.9        6  \n",
       "4       0.40      9.9        6  "
      ]
     },
     "execution_count": 13,
     "metadata": {},
     "output_type": "execute_result"
    }
   ],
   "source": [
    "d1.head()"
   ]
  },
  {
   "cell_type": "code",
   "execution_count": 14,
   "metadata": {},
   "outputs": [
    {
     "data": {
      "text/plain": [
       "red                     0\n",
       "white                   0\n",
       "fixed acidity           0\n",
       "volatile acidity        0\n",
       "citric acid             0\n",
       "residual sugar          0\n",
       "chlorides               0\n",
       "free sulfur dioxide     0\n",
       "total sulfur dioxide    0\n",
       "density                 0\n",
       "pH                      0\n",
       "sulphates               0\n",
       "alcohol                 0\n",
       "quality                 0\n",
       "dtype: int64"
      ]
     },
     "execution_count": 14,
     "metadata": {},
     "output_type": "execute_result"
    }
   ],
   "source": [
    "d2 = d1.dropna()\n",
    "d2.isnull().sum()"
   ]
  },
  {
   "cell_type": "code",
   "execution_count": 15,
   "metadata": {},
   "outputs": [
    {
     "name": "stdout",
     "output_type": "stream",
     "text": [
      "<class 'pandas.core.frame.DataFrame'>\n",
      "Int64Index: 6463 entries, 0 to 6496\n",
      "Data columns (total 14 columns):\n",
      " #   Column                Non-Null Count  Dtype  \n",
      "---  ------                --------------  -----  \n",
      " 0   red                   6463 non-null   uint8  \n",
      " 1   white                 6463 non-null   uint8  \n",
      " 2   fixed acidity         6463 non-null   float64\n",
      " 3   volatile acidity      6463 non-null   float64\n",
      " 4   citric acid           6463 non-null   float64\n",
      " 5   residual sugar        6463 non-null   float64\n",
      " 6   chlorides             6463 non-null   float64\n",
      " 7   free sulfur dioxide   6463 non-null   float64\n",
      " 8   total sulfur dioxide  6463 non-null   float64\n",
      " 9   density               6463 non-null   float64\n",
      " 10  pH                    6463 non-null   float64\n",
      " 11  sulphates             6463 non-null   float64\n",
      " 12  alcohol               6463 non-null   float64\n",
      " 13  quality               6463 non-null   int64  \n",
      "dtypes: float64(11), int64(1), uint8(2)\n",
      "memory usage: 669.0 KB\n"
     ]
    }
   ],
   "source": [
    "d2.info()"
   ]
  },
  {
   "cell_type": "code",
   "execution_count": 16,
   "metadata": {},
   "outputs": [
    {
     "data": {
      "text/html": [
       "<div>\n",
       "<style scoped>\n",
       "    .dataframe tbody tr th:only-of-type {\n",
       "        vertical-align: middle;\n",
       "    }\n",
       "\n",
       "    .dataframe tbody tr th {\n",
       "        vertical-align: top;\n",
       "    }\n",
       "\n",
       "    .dataframe thead th {\n",
       "        text-align: right;\n",
       "    }\n",
       "</style>\n",
       "<table border=\"1\" class=\"dataframe\">\n",
       "  <thead>\n",
       "    <tr style=\"text-align: right;\">\n",
       "      <th></th>\n",
       "      <th>red</th>\n",
       "      <th>white</th>\n",
       "      <th>fixed acidity</th>\n",
       "      <th>volatile acidity</th>\n",
       "      <th>citric acid</th>\n",
       "      <th>residual sugar</th>\n",
       "      <th>chlorides</th>\n",
       "      <th>free sulfur dioxide</th>\n",
       "      <th>total sulfur dioxide</th>\n",
       "      <th>density</th>\n",
       "      <th>pH</th>\n",
       "      <th>sulphates</th>\n",
       "      <th>alcohol</th>\n",
       "      <th>quality</th>\n",
       "    </tr>\n",
       "  </thead>\n",
       "  <tbody>\n",
       "    <tr>\n",
       "      <th>count</th>\n",
       "      <td>6463.000000</td>\n",
       "      <td>6463.000000</td>\n",
       "      <td>6463.000000</td>\n",
       "      <td>6463.000000</td>\n",
       "      <td>6463.000000</td>\n",
       "      <td>6463.000000</td>\n",
       "      <td>6463.000000</td>\n",
       "      <td>6463.000000</td>\n",
       "      <td>6463.000000</td>\n",
       "      <td>6463.000000</td>\n",
       "      <td>6463.000000</td>\n",
       "      <td>6463.000000</td>\n",
       "      <td>6463.000000</td>\n",
       "      <td>6463.000000</td>\n",
       "    </tr>\n",
       "    <tr>\n",
       "      <th>mean</th>\n",
       "      <td>0.246480</td>\n",
       "      <td>0.753520</td>\n",
       "      <td>7.217755</td>\n",
       "      <td>0.339589</td>\n",
       "      <td>0.318758</td>\n",
       "      <td>5.443958</td>\n",
       "      <td>0.056056</td>\n",
       "      <td>30.516865</td>\n",
       "      <td>115.694492</td>\n",
       "      <td>0.994698</td>\n",
       "      <td>3.218332</td>\n",
       "      <td>0.531150</td>\n",
       "      <td>10.492825</td>\n",
       "      <td>5.818505</td>\n",
       "    </tr>\n",
       "    <tr>\n",
       "      <th>std</th>\n",
       "      <td>0.430995</td>\n",
       "      <td>0.430995</td>\n",
       "      <td>1.297913</td>\n",
       "      <td>0.164639</td>\n",
       "      <td>0.145252</td>\n",
       "      <td>4.756852</td>\n",
       "      <td>0.035076</td>\n",
       "      <td>17.758815</td>\n",
       "      <td>56.526736</td>\n",
       "      <td>0.003001</td>\n",
       "      <td>0.160650</td>\n",
       "      <td>0.148913</td>\n",
       "      <td>1.193128</td>\n",
       "      <td>0.873286</td>\n",
       "    </tr>\n",
       "    <tr>\n",
       "      <th>min</th>\n",
       "      <td>0.000000</td>\n",
       "      <td>0.000000</td>\n",
       "      <td>3.800000</td>\n",
       "      <td>0.080000</td>\n",
       "      <td>0.000000</td>\n",
       "      <td>0.600000</td>\n",
       "      <td>0.009000</td>\n",
       "      <td>1.000000</td>\n",
       "      <td>6.000000</td>\n",
       "      <td>0.987110</td>\n",
       "      <td>2.720000</td>\n",
       "      <td>0.220000</td>\n",
       "      <td>8.000000</td>\n",
       "      <td>3.000000</td>\n",
       "    </tr>\n",
       "    <tr>\n",
       "      <th>25%</th>\n",
       "      <td>0.000000</td>\n",
       "      <td>1.000000</td>\n",
       "      <td>6.400000</td>\n",
       "      <td>0.230000</td>\n",
       "      <td>0.250000</td>\n",
       "      <td>1.800000</td>\n",
       "      <td>0.038000</td>\n",
       "      <td>17.000000</td>\n",
       "      <td>77.000000</td>\n",
       "      <td>0.992330</td>\n",
       "      <td>3.110000</td>\n",
       "      <td>0.430000</td>\n",
       "      <td>9.500000</td>\n",
       "      <td>5.000000</td>\n",
       "    </tr>\n",
       "    <tr>\n",
       "      <th>50%</th>\n",
       "      <td>0.000000</td>\n",
       "      <td>1.000000</td>\n",
       "      <td>7.000000</td>\n",
       "      <td>0.290000</td>\n",
       "      <td>0.310000</td>\n",
       "      <td>3.000000</td>\n",
       "      <td>0.047000</td>\n",
       "      <td>29.000000</td>\n",
       "      <td>118.000000</td>\n",
       "      <td>0.994890</td>\n",
       "      <td>3.210000</td>\n",
       "      <td>0.510000</td>\n",
       "      <td>10.300000</td>\n",
       "      <td>6.000000</td>\n",
       "    </tr>\n",
       "    <tr>\n",
       "      <th>75%</th>\n",
       "      <td>0.000000</td>\n",
       "      <td>1.000000</td>\n",
       "      <td>7.700000</td>\n",
       "      <td>0.400000</td>\n",
       "      <td>0.390000</td>\n",
       "      <td>8.100000</td>\n",
       "      <td>0.065000</td>\n",
       "      <td>41.000000</td>\n",
       "      <td>156.000000</td>\n",
       "      <td>0.997000</td>\n",
       "      <td>3.320000</td>\n",
       "      <td>0.600000</td>\n",
       "      <td>11.300000</td>\n",
       "      <td>6.000000</td>\n",
       "    </tr>\n",
       "    <tr>\n",
       "      <th>max</th>\n",
       "      <td>1.000000</td>\n",
       "      <td>1.000000</td>\n",
       "      <td>15.900000</td>\n",
       "      <td>1.580000</td>\n",
       "      <td>1.660000</td>\n",
       "      <td>65.800000</td>\n",
       "      <td>0.611000</td>\n",
       "      <td>289.000000</td>\n",
       "      <td>440.000000</td>\n",
       "      <td>1.038980</td>\n",
       "      <td>4.010000</td>\n",
       "      <td>2.000000</td>\n",
       "      <td>14.900000</td>\n",
       "      <td>9.000000</td>\n",
       "    </tr>\n",
       "  </tbody>\n",
       "</table>\n",
       "</div>"
      ],
      "text/plain": [
       "               red        white  fixed acidity  volatile acidity  citric acid  \\\n",
       "count  6463.000000  6463.000000    6463.000000       6463.000000  6463.000000   \n",
       "mean      0.246480     0.753520       7.217755          0.339589     0.318758   \n",
       "std       0.430995     0.430995       1.297913          0.164639     0.145252   \n",
       "min       0.000000     0.000000       3.800000          0.080000     0.000000   \n",
       "25%       0.000000     1.000000       6.400000          0.230000     0.250000   \n",
       "50%       0.000000     1.000000       7.000000          0.290000     0.310000   \n",
       "75%       0.000000     1.000000       7.700000          0.400000     0.390000   \n",
       "max       1.000000     1.000000      15.900000          1.580000     1.660000   \n",
       "\n",
       "       residual sugar    chlorides  free sulfur dioxide  total sulfur dioxide  \\\n",
       "count     6463.000000  6463.000000          6463.000000           6463.000000   \n",
       "mean         5.443958     0.056056            30.516865            115.694492   \n",
       "std          4.756852     0.035076            17.758815             56.526736   \n",
       "min          0.600000     0.009000             1.000000              6.000000   \n",
       "25%          1.800000     0.038000            17.000000             77.000000   \n",
       "50%          3.000000     0.047000            29.000000            118.000000   \n",
       "75%          8.100000     0.065000            41.000000            156.000000   \n",
       "max         65.800000     0.611000           289.000000            440.000000   \n",
       "\n",
       "           density           pH    sulphates      alcohol      quality  \n",
       "count  6463.000000  6463.000000  6463.000000  6463.000000  6463.000000  \n",
       "mean      0.994698     3.218332     0.531150    10.492825     5.818505  \n",
       "std       0.003001     0.160650     0.148913     1.193128     0.873286  \n",
       "min       0.987110     2.720000     0.220000     8.000000     3.000000  \n",
       "25%       0.992330     3.110000     0.430000     9.500000     5.000000  \n",
       "50%       0.994890     3.210000     0.510000    10.300000     6.000000  \n",
       "75%       0.997000     3.320000     0.600000    11.300000     6.000000  \n",
       "max       1.038980     4.010000     2.000000    14.900000     9.000000  "
      ]
     },
     "execution_count": 16,
     "metadata": {},
     "output_type": "execute_result"
    }
   ],
   "source": [
    "d2.describe()"
   ]
  },
  {
   "cell_type": "code",
   "execution_count": 17,
   "metadata": {},
   "outputs": [
    {
     "data": {
      "text/plain": [
       "Text(0, 0.5, 'Frequency')"
      ]
     },
     "execution_count": 17,
     "metadata": {},
     "output_type": "execute_result"
    },
    {
     "data": {
      "image/png": "[encoded data removed]",
      "text/plain": [
       "<Figure size 432x288 with 1 Axes>"
      ]
     },
     "metadata": {
      "needs_background": "light"
     },
     "output_type": "display_data"
    }
   ],
   "source": [
    "count_classes = pd.value_counts(d2['quality'], sort = True)\n",
    "\n",
    "count_classes.plot(kind = 'bar', rot=0)\n",
    "\n",
    "plt.title(\"Wine Quality Class Distribution\")\n",
    "\n",
    "plt.xlabel(\"Class\")\n",
    "\n",
    "plt.ylabel(\"Frequency\")"
   ]
  },
  {
   "cell_type": "markdown",
   "metadata": {},
   "source": [
    "# Feature Engineering"
   ]
  },
  {
   "cell_type": "code",
   "execution_count": 19,
   "metadata": {},
   "outputs": [
    {
     "data": {
      "text/plain": [
       "array([6, 5, 7, 8, 4, 3, 9], dtype=int64)"
      ]
     },
     "execution_count": 19,
     "metadata": {},
     "output_type": "execute_result"
    }
   ],
   "source": [
    "d2['quality'].unique()"
   ]
  },
  {
   "cell_type": "code",
   "execution_count": 20,
   "metadata": {},
   "outputs": [
    {
     "name": "stderr",
     "output_type": "stream",
     "text": [
      "C:\\Users\\AAA\\anaconda3\\lib\\site-packages\\ipykernel_launcher.py:5: SettingWithCopyWarning: \n",
      "A value is trying to be set on a copy of a slice from a DataFrame.\n",
      "Try using .loc[row_indexer,col_indexer] = value instead\n",
      "\n",
      "See the caveats in the documentation: https://pandas.pydata.org/pandas-docs/stable/user_guide/indexing.html#returning-a-view-versus-a-copy\n",
      "  \"\"\"\n"
     ]
    }
   ],
   "source": [
    "#Making binary classificaion for the response variable.\n",
    "#Dividing wine as good and bad by giving the limit for the quality\n",
    "bins = (2, 6, 9)\n",
    "group_names = ['bad', 'good']\n",
    "d2['quality'] = pd.cut(d2['quality'], bins = bins, labels = group_names)"
   ]
  },
  {
   "cell_type": "code",
   "execution_count": 21,
   "metadata": {},
   "outputs": [
    {
     "data": {
      "text/html": [
       "<div>\n",
       "<style scoped>\n",
       "    .dataframe tbody tr th:only-of-type {\n",
       "        vertical-align: middle;\n",
       "    }\n",
       "\n",
       "    .dataframe tbody tr th {\n",
       "        vertical-align: top;\n",
       "    }\n",
       "\n",
       "    .dataframe thead th {\n",
       "        text-align: right;\n",
       "    }\n",
       "</style>\n",
       "<table border=\"1\" class=\"dataframe\">\n",
       "  <thead>\n",
       "    <tr style=\"text-align: right;\">\n",
       "      <th></th>\n",
       "      <th>red</th>\n",
       "      <th>white</th>\n",
       "      <th>fixed acidity</th>\n",
       "      <th>volatile acidity</th>\n",
       "      <th>citric acid</th>\n",
       "      <th>residual sugar</th>\n",
       "      <th>chlorides</th>\n",
       "      <th>free sulfur dioxide</th>\n",
       "      <th>total sulfur dioxide</th>\n",
       "      <th>density</th>\n",
       "      <th>pH</th>\n",
       "      <th>sulphates</th>\n",
       "      <th>alcohol</th>\n",
       "      <th>quality</th>\n",
       "    </tr>\n",
       "  </thead>\n",
       "  <tbody>\n",
       "    <tr>\n",
       "      <th>0</th>\n",
       "      <td>0</td>\n",
       "      <td>1</td>\n",
       "      <td>7.0</td>\n",
       "      <td>0.27</td>\n",
       "      <td>0.36</td>\n",
       "      <td>20.7</td>\n",
       "      <td>0.045</td>\n",
       "      <td>45.0</td>\n",
       "      <td>170.0</td>\n",
       "      <td>1.0010</td>\n",
       "      <td>3.00</td>\n",
       "      <td>0.45</td>\n",
       "      <td>8.8</td>\n",
       "      <td>bad</td>\n",
       "    </tr>\n",
       "    <tr>\n",
       "      <th>1</th>\n",
       "      <td>0</td>\n",
       "      <td>1</td>\n",
       "      <td>6.3</td>\n",
       "      <td>0.30</td>\n",
       "      <td>0.34</td>\n",
       "      <td>1.6</td>\n",
       "      <td>0.049</td>\n",
       "      <td>14.0</td>\n",
       "      <td>132.0</td>\n",
       "      <td>0.9940</td>\n",
       "      <td>3.30</td>\n",
       "      <td>0.49</td>\n",
       "      <td>9.5</td>\n",
       "      <td>bad</td>\n",
       "    </tr>\n",
       "    <tr>\n",
       "      <th>2</th>\n",
       "      <td>0</td>\n",
       "      <td>1</td>\n",
       "      <td>8.1</td>\n",
       "      <td>0.28</td>\n",
       "      <td>0.40</td>\n",
       "      <td>6.9</td>\n",
       "      <td>0.050</td>\n",
       "      <td>30.0</td>\n",
       "      <td>97.0</td>\n",
       "      <td>0.9951</td>\n",
       "      <td>3.26</td>\n",
       "      <td>0.44</td>\n",
       "      <td>10.1</td>\n",
       "      <td>bad</td>\n",
       "    </tr>\n",
       "    <tr>\n",
       "      <th>3</th>\n",
       "      <td>0</td>\n",
       "      <td>1</td>\n",
       "      <td>7.2</td>\n",
       "      <td>0.23</td>\n",
       "      <td>0.32</td>\n",
       "      <td>8.5</td>\n",
       "      <td>0.058</td>\n",
       "      <td>47.0</td>\n",
       "      <td>186.0</td>\n",
       "      <td>0.9956</td>\n",
       "      <td>3.19</td>\n",
       "      <td>0.40</td>\n",
       "      <td>9.9</td>\n",
       "      <td>bad</td>\n",
       "    </tr>\n",
       "    <tr>\n",
       "      <th>4</th>\n",
       "      <td>0</td>\n",
       "      <td>1</td>\n",
       "      <td>7.2</td>\n",
       "      <td>0.23</td>\n",
       "      <td>0.32</td>\n",
       "      <td>8.5</td>\n",
       "      <td>0.058</td>\n",
       "      <td>47.0</td>\n",
       "      <td>186.0</td>\n",
       "      <td>0.9956</td>\n",
       "      <td>3.19</td>\n",
       "      <td>0.40</td>\n",
       "      <td>9.9</td>\n",
       "      <td>bad</td>\n",
       "    </tr>\n",
       "  </tbody>\n",
       "</table>\n",
       "</div>"
      ],
      "text/plain": [
       "   red  white  fixed acidity  volatile acidity  citric acid  residual sugar  \\\n",
       "0    0      1            7.0              0.27         0.36            20.7   \n",
       "1    0      1            6.3              0.30         0.34             1.6   \n",
       "2    0      1            8.1              0.28         0.40             6.9   \n",
       "3    0      1            7.2              0.23         0.32             8.5   \n",
       "4    0      1            7.2              0.23         0.32             8.5   \n",
       "\n",
       "   chlorides  free sulfur dioxide  total sulfur dioxide  density    pH  \\\n",
       "0      0.045                 45.0                 170.0   1.0010  3.00   \n",
       "1      0.049                 14.0                 132.0   0.9940  3.30   \n",
       "2      0.050                 30.0                  97.0   0.9951  3.26   \n",
       "3      0.058                 47.0                 186.0   0.9956  3.19   \n",
       "4      0.058                 47.0                 186.0   0.9956  3.19   \n",
       "\n",
       "   sulphates  alcohol quality  \n",
       "0       0.45      8.8     bad  \n",
       "1       0.49      9.5     bad  \n",
       "2       0.44     10.1     bad  \n",
       "3       0.40      9.9     bad  \n",
       "4       0.40      9.9     bad  "
      ]
     },
     "execution_count": 21,
     "metadata": {},
     "output_type": "execute_result"
    }
   ],
   "source": [
    "d2.head()"
   ]
  },
  {
   "cell_type": "code",
   "execution_count": 22,
   "metadata": {},
   "outputs": [
    {
     "data": {
      "text/plain": [
       "red                     0\n",
       "white                   0\n",
       "fixed acidity           0\n",
       "volatile acidity        0\n",
       "citric acid             0\n",
       "residual sugar          0\n",
       "chlorides               0\n",
       "free sulfur dioxide     0\n",
       "total sulfur dioxide    0\n",
       "density                 0\n",
       "pH                      0\n",
       "sulphates               0\n",
       "alcohol                 0\n",
       "quality                 0\n",
       "dtype: int64"
      ]
     },
     "execution_count": 22,
     "metadata": {},
     "output_type": "execute_result"
    }
   ],
   "source": [
    "d2.isnull().sum()"
   ]
  },
  {
   "cell_type": "code",
   "execution_count": 23,
   "metadata": {},
   "outputs": [],
   "source": [
    "from sklearn.preprocessing import LabelEncoder"
   ]
  },
  {
   "cell_type": "code",
   "execution_count": 24,
   "metadata": {},
   "outputs": [],
   "source": [
    "label_quality = LabelEncoder()"
   ]
  },
  {
   "cell_type": "code",
   "execution_count": 25,
   "metadata": {},
   "outputs": [
    {
     "name": "stderr",
     "output_type": "stream",
     "text": [
      "C:\\Users\\AAA\\anaconda3\\lib\\site-packages\\ipykernel_launcher.py:1: SettingWithCopyWarning: \n",
      "A value is trying to be set on a copy of a slice from a DataFrame.\n",
      "Try using .loc[row_indexer,col_indexer] = value instead\n",
      "\n",
      "See the caveats in the documentation: https://pandas.pydata.org/pandas-docs/stable/user_guide/indexing.html#returning-a-view-versus-a-copy\n",
      "  \"\"\"Entry point for launching an IPython kernel.\n"
     ]
    }
   ],
   "source": [
    "d2['quality'] = label_quality.fit_transform(d2['quality'])"
   ]
  },
  {
   "cell_type": "code",
   "execution_count": 26,
   "metadata": {},
   "outputs": [
    {
     "data": {
      "text/html": [
       "<div>\n",
       "<style scoped>\n",
       "    .dataframe tbody tr th:only-of-type {\n",
       "        vertical-align: middle;\n",
       "    }\n",
       "\n",
       "    .dataframe tbody tr th {\n",
       "        vertical-align: top;\n",
       "    }\n",
       "\n",
       "    .dataframe thead th {\n",
       "        text-align: right;\n",
       "    }\n",
       "</style>\n",
       "<table border=\"1\" class=\"dataframe\">\n",
       "  <thead>\n",
       "    <tr style=\"text-align: right;\">\n",
       "      <th></th>\n",
       "      <th>red</th>\n",
       "      <th>white</th>\n",
       "      <th>fixed acidity</th>\n",
       "      <th>volatile acidity</th>\n",
       "      <th>citric acid</th>\n",
       "      <th>residual sugar</th>\n",
       "      <th>chlorides</th>\n",
       "      <th>free sulfur dioxide</th>\n",
       "      <th>total sulfur dioxide</th>\n",
       "      <th>density</th>\n",
       "      <th>pH</th>\n",
       "      <th>sulphates</th>\n",
       "      <th>alcohol</th>\n",
       "      <th>quality</th>\n",
       "    </tr>\n",
       "  </thead>\n",
       "  <tbody>\n",
       "    <tr>\n",
       "      <th>0</th>\n",
       "      <td>0</td>\n",
       "      <td>1</td>\n",
       "      <td>7.0</td>\n",
       "      <td>0.27</td>\n",
       "      <td>0.36</td>\n",
       "      <td>20.7</td>\n",
       "      <td>0.045</td>\n",
       "      <td>45.0</td>\n",
       "      <td>170.0</td>\n",
       "      <td>1.0010</td>\n",
       "      <td>3.00</td>\n",
       "      <td>0.45</td>\n",
       "      <td>8.8</td>\n",
       "      <td>0</td>\n",
       "    </tr>\n",
       "    <tr>\n",
       "      <th>1</th>\n",
       "      <td>0</td>\n",
       "      <td>1</td>\n",
       "      <td>6.3</td>\n",
       "      <td>0.30</td>\n",
       "      <td>0.34</td>\n",
       "      <td>1.6</td>\n",
       "      <td>0.049</td>\n",
       "      <td>14.0</td>\n",
       "      <td>132.0</td>\n",
       "      <td>0.9940</td>\n",
       "      <td>3.30</td>\n",
       "      <td>0.49</td>\n",
       "      <td>9.5</td>\n",
       "      <td>0</td>\n",
       "    </tr>\n",
       "    <tr>\n",
       "      <th>2</th>\n",
       "      <td>0</td>\n",
       "      <td>1</td>\n",
       "      <td>8.1</td>\n",
       "      <td>0.28</td>\n",
       "      <td>0.40</td>\n",
       "      <td>6.9</td>\n",
       "      <td>0.050</td>\n",
       "      <td>30.0</td>\n",
       "      <td>97.0</td>\n",
       "      <td>0.9951</td>\n",
       "      <td>3.26</td>\n",
       "      <td>0.44</td>\n",
       "      <td>10.1</td>\n",
       "      <td>0</td>\n",
       "    </tr>\n",
       "    <tr>\n",
       "      <th>3</th>\n",
       "      <td>0</td>\n",
       "      <td>1</td>\n",
       "      <td>7.2</td>\n",
       "      <td>0.23</td>\n",
       "      <td>0.32</td>\n",
       "      <td>8.5</td>\n",
       "      <td>0.058</td>\n",
       "      <td>47.0</td>\n",
       "      <td>186.0</td>\n",
       "      <td>0.9956</td>\n",
       "      <td>3.19</td>\n",
       "      <td>0.40</td>\n",
       "      <td>9.9</td>\n",
       "      <td>0</td>\n",
       "    </tr>\n",
       "    <tr>\n",
       "      <th>4</th>\n",
       "      <td>0</td>\n",
       "      <td>1</td>\n",
       "      <td>7.2</td>\n",
       "      <td>0.23</td>\n",
       "      <td>0.32</td>\n",
       "      <td>8.5</td>\n",
       "      <td>0.058</td>\n",
       "      <td>47.0</td>\n",
       "      <td>186.0</td>\n",
       "      <td>0.9956</td>\n",
       "      <td>3.19</td>\n",
       "      <td>0.40</td>\n",
       "      <td>9.9</td>\n",
       "      <td>0</td>\n",
       "    </tr>\n",
       "  </tbody>\n",
       "</table>\n",
       "</div>"
      ],
      "text/plain": [
       "   red  white  fixed acidity  volatile acidity  citric acid  residual sugar  \\\n",
       "0    0      1            7.0              0.27         0.36            20.7   \n",
       "1    0      1            6.3              0.30         0.34             1.6   \n",
       "2    0      1            8.1              0.28         0.40             6.9   \n",
       "3    0      1            7.2              0.23         0.32             8.5   \n",
       "4    0      1            7.2              0.23         0.32             8.5   \n",
       "\n",
       "   chlorides  free sulfur dioxide  total sulfur dioxide  density    pH  \\\n",
       "0      0.045                 45.0                 170.0   1.0010  3.00   \n",
       "1      0.049                 14.0                 132.0   0.9940  3.30   \n",
       "2      0.050                 30.0                  97.0   0.9951  3.26   \n",
       "3      0.058                 47.0                 186.0   0.9956  3.19   \n",
       "4      0.058                 47.0                 186.0   0.9956  3.19   \n",
       "\n",
       "   sulphates  alcohol  quality  \n",
       "0       0.45      8.8        0  \n",
       "1       0.49      9.5        0  \n",
       "2       0.44     10.1        0  \n",
       "3       0.40      9.9        0  \n",
       "4       0.40      9.9        0  "
      ]
     },
     "execution_count": 26,
     "metadata": {},
     "output_type": "execute_result"
    }
   ],
   "source": [
    "d2.head()"
   ]
  },
  {
   "cell_type": "code",
   "execution_count": 27,
   "metadata": {},
   "outputs": [
    {
     "data": {
      "text/plain": [
       "Text(0, 0.5, 'Frequency')"
      ]
     },
     "execution_count": 27,
     "metadata": {},
     "output_type": "execute_result"
    },
    {
     "data": {
      "image/png": "[encoded data removed]",
      "text/plain": [
       "<Figure size 432x288 with 1 Axes>"
      ]
     },
     "metadata": {
      "needs_background": "light"
     },
     "output_type": "display_data"
    }
   ],
   "source": [
    "count_classes = pd.value_counts(d2['quality'], sort = True)\n",
    "\n",
    "count_classes.plot(kind = 'bar', rot=0)\n",
    "\n",
    "plt.title(\"Wine Quality Class Distribution\")\n",
    "\n",
    "plt.xlabel(\"Class\")\n",
    "\n",
    "plt.ylabel(\"Frequency\")"
   ]
  },
  {
   "cell_type": "markdown",
   "metadata": {},
   "source": [
    "### RandomOverSampler to handle imbalanced data"
   ]
  },
  {
   "cell_type": "code",
   "execution_count": 38,
   "metadata": {},
   "outputs": [],
   "source": [
    "from collections import Counter\n",
    "from imblearn.over_sampling import RandomOverSampler\n",
    "os =  RandomOverSampler(sampling_strategy=0.7)"
   ]
  },
  {
   "cell_type": "code",
   "execution_count": 39,
   "metadata": {},
   "outputs": [],
   "source": [
    "x2, y2 = os.fit_sample(d2.iloc[:,0:13], d2.iloc[:,-1])"
   ]
  },
  {
   "cell_type": "code",
   "execution_count": 40,
   "metadata": {},
   "outputs": [
    {
     "data": {
      "text/plain": [
       "((8826, 13), (8826,))"
      ]
     },
     "execution_count": 40,
     "metadata": {},
     "output_type": "execute_result"
    }
   ],
   "source": [
    "x2.shape, y2.shape"
   ]
  },
  {
   "cell_type": "code",
   "execution_count": 41,
   "metadata": {},
   "outputs": [
    {
     "name": "stdout",
     "output_type": "stream",
     "text": [
      "Original dataset shape Counter({0: 5192, 1: 1271})\n",
      "Resampled dataset shape Counter({0: 5192, 1: 3634})\n"
     ]
    }
   ],
   "source": [
    "print('Original dataset shape {}'.format(Counter(d2.iloc[:,-1])))\n",
    "print('Resampled dataset shape {}'.format(Counter(y2)))"
   ]
  },
  {
   "cell_type": "code",
   "execution_count": 42,
   "metadata": {},
   "outputs": [
    {
     "data": {
      "text/plain": [
       "Text(0, 0.5, 'Frequency')"
      ]
     },
     "execution_count": 42,
     "metadata": {},
     "output_type": "execute_result"
    },
    {
     "data": {
      "image/png": "[encoded data removed]",
      "text/plain": [
       "<Figure size 432x288 with 1 Axes>"
      ]
     },
     "metadata": {
      "needs_background": "light"
     },
     "output_type": "display_data"
    }
   ],
   "source": [
    "count_classes = pd.value_counts(y2, sort = True)\n",
    "\n",
    "count_classes.plot(kind = 'bar', rot=0)\n",
    "\n",
    "plt.title(\"Wine Quality Class Distribution\")\n",
    "\n",
    "plt.xlabel(\"Class\")\n",
    "\n",
    "plt.ylabel(\"Frequency\")"
   ]
  },
  {
   "cell_type": "code",
   "execution_count": 43,
   "metadata": {},
   "outputs": [],
   "source": [
    "x_train = x2.values\n",
    "y_train = y2.values"
   ]
  },
  {
   "cell_type": "markdown",
   "metadata": {},
   "source": [
    "### Bayesian Optimization Working\n",
    "#### Bayesian optimization works by constructing a posterior distribution of functions (gaussian process) that best describes the function you want to optimize. As the number of observations grows, the posterior distribution improves, and the algorithm becomes more certain of which regions in parameter space are worth exploring and which are not, as seen in the picture below."
   ]
  },
  {
   "cell_type": "markdown",
   "metadata": {},
   "source": [
    "## Hyperparameter tuning of XGBoostingClassifier using Bayesian optimization"
   ]
  },
  {
   "cell_type": "code",
   "execution_count": 46,
   "metadata": {},
   "outputs": [],
   "source": [
    "from sklearn.metrics import f1_score"
   ]
  },
  {
   "cell_type": "code",
   "execution_count": 50,
   "metadata": {},
   "outputs": [],
   "source": [
    "def xgb_cv(n_estimators, max_depth, gamma, min_child_weight, subsample, data, target):\n",
    "    estimator = XGBClassifier(\n",
    "                n_estimators=n_estimators,\n",
    "                max_depth=max_depth,\n",
    "                gamma=gamma,\n",
    "                min_child_weight=min_child_weight,\n",
    "                subsample=subsample,\n",
    "                random_state=2\n",
    "    )\n",
    "    cval = cross_val_score(estimator, data, target, scoring='f1', cv=5)\n",
    "    \n",
    "    return cval.mean()"
   ]
  },
  {
   "cell_type": "code",
   "execution_count": 51,
   "metadata": {},
   "outputs": [],
   "source": [
    "def optimize_xgb(data, target):\n",
    "    def xgb_crossval(n_estimators, max_depth, gamma, min_child_weight, subsample):\n",
    "        return xgb_cv(\n",
    "            n_estimators=int(n_estimators),\n",
    "            max_depth=int(max_depth),\n",
    "            gamma=gamma,\n",
    "            min_child_weight=min_child_weight,\n",
    "            subsample=subsample,\n",
    "            data=data,\n",
    "            target=target,\n",
    "        )\n",
    "    optimizer = BayesianOptimization(\n",
    "            f=xgb_crossval,\n",
    "            pbounds={\n",
    "                \"n_estimators\":(100,550),\n",
    "                \"max_depth\": (1,20),\n",
    "                \"gamma\":(0,10),\n",
    "                \"min_child_weight\":(0,10),\n",
    "                \"subsample\":(0.8,1.0)\n",
    "                },\n",
    "            random_state=1234,\n",
    "            verbose=2\n",
    "      )\n",
    "    optimizer.maximize(n_iter=15 , init_points=10)\n",
    "    \n",
    "    \n",
    "    print('Final Result:', optimizer.max)"
   ]
  },
  {
   "cell_type": "code",
   "execution_count": 52,
   "metadata": {},
   "outputs": [
    {
     "name": "stdout",
     "output_type": "stream",
     "text": [
      "\u001b[91m--- Optimizing XGBoost ---\u001b[0m\n",
      "|   iter    |  target   |   gamma   | max_depth | min_ch... | n_esti... | subsample |\n",
      "-------------------------------------------------------------------------------------\n",
      "| \u001b[0m 1       \u001b[0m | \u001b[0m 0.8573  \u001b[0m | \u001b[0m 1.915   \u001b[0m | \u001b[0m 12.82   \u001b[0m | \u001b[0m 4.377   \u001b[0m | \u001b[0m 453.4   \u001b[0m | \u001b[0m 0.956   \u001b[0m |\n",
      "| \u001b[0m 2       \u001b[0m | \u001b[0m 0.8409  \u001b[0m | \u001b[0m 2.726   \u001b[0m | \u001b[0m 6.253   \u001b[0m | \u001b[0m 8.019   \u001b[0m | \u001b[0m 531.2   \u001b[0m | \u001b[0m 0.9752  \u001b[0m |\n",
      "| \u001b[0m 3       \u001b[0m | \u001b[0m 0.8422  \u001b[0m | \u001b[0m 3.578   \u001b[0m | \u001b[0m 10.52   \u001b[0m | \u001b[0m 6.835   \u001b[0m | \u001b[0m 420.7   \u001b[0m | \u001b[0m 0.8741  \u001b[0m |\n",
      "| \u001b[0m 4       \u001b[0m | \u001b[0m 0.8383  \u001b[0m | \u001b[0m 5.612   \u001b[0m | \u001b[0m 10.56   \u001b[0m | \u001b[0m 0.1377  \u001b[0m | \u001b[0m 447.8   \u001b[0m | \u001b[0m 0.9765  \u001b[0m |\n",
      "| \u001b[0m 5       \u001b[0m | \u001b[0m 0.8465  \u001b[0m | \u001b[0m 3.649   \u001b[0m | \u001b[0m 12.69   \u001b[0m | \u001b[0m 0.7538  \u001b[0m | \u001b[0m 266.0   \u001b[0m | \u001b[0m 0.9866  \u001b[0m |\n",
      "| \u001b[0m 6       \u001b[0m | \u001b[0m 0.8131  \u001b[0m | \u001b[0m 6.514   \u001b[0m | \u001b[0m 8.547   \u001b[0m | \u001b[0m 7.887   \u001b[0m | \u001b[0m 242.6   \u001b[0m | \u001b[0m 0.9136  \u001b[0m |\n",
      "| \u001b[0m 7       \u001b[0m | \u001b[0m 0.7985  \u001b[0m | \u001b[0m 8.691   \u001b[0m | \u001b[0m 9.287   \u001b[0m | \u001b[0m 8.021   \u001b[0m | \u001b[0m 164.7   \u001b[0m | \u001b[0m 0.9409  \u001b[0m |\n",
      "| \u001b[0m 8       \u001b[0m | \u001b[0m 0.7836  \u001b[0m | \u001b[0m 7.046   \u001b[0m | \u001b[0m 5.157   \u001b[0m | \u001b[0m 9.249   \u001b[0m | \u001b[0m 299.0   \u001b[0m | \u001b[0m 0.9819  \u001b[0m |\n",
      "| \u001b[95m 9       \u001b[0m | \u001b[95m 0.8602  \u001b[0m | \u001b[95m 0.5981  \u001b[0m | \u001b[95m 4.501   \u001b[0m | \u001b[95m 0.4736  \u001b[0m | \u001b[95m 403.7   \u001b[0m | \u001b[95m 0.9189  \u001b[0m |\n",
      "| \u001b[0m 10      \u001b[0m | \u001b[0m 0.6825  \u001b[0m | \u001b[0m 5.333   \u001b[0m | \u001b[0m 1.823   \u001b[0m | \u001b[0m 5.614   \u001b[0m | \u001b[0m 248.4   \u001b[0m | \u001b[0m 0.9006  \u001b[0m |\n",
      "| \u001b[0m 11      \u001b[0m | \u001b[0m 0.8542  \u001b[0m | \u001b[0m 3.184   \u001b[0m | \u001b[0m 11.71   \u001b[0m | \u001b[0m 0.5274  \u001b[0m | \u001b[0m 264.6   \u001b[0m | \u001b[0m 0.9759  \u001b[0m |\n",
      "| \u001b[0m 12      \u001b[0m | \u001b[0m 0.8457  \u001b[0m | \u001b[0m 2.554   \u001b[0m | \u001b[0m 7.802   \u001b[0m | \u001b[0m 3.442   \u001b[0m | \u001b[0m 410.7   \u001b[0m | \u001b[0m 0.8963  \u001b[0m |\n",
      "| \u001b[0m 13      \u001b[0m | \u001b[0m 0.7962  \u001b[0m | \u001b[0m 6.356   \u001b[0m | \u001b[0m 4.758   \u001b[0m | \u001b[0m 6.999   \u001b[0m | \u001b[0m 400.8   \u001b[0m | \u001b[0m 0.9289  \u001b[0m |\n",
      "| \u001b[0m 14      \u001b[0m | \u001b[0m 0.8321  \u001b[0m | \u001b[0m 5.301   \u001b[0m | \u001b[0m 18.8    \u001b[0m | \u001b[0m 7.521   \u001b[0m | \u001b[0m 449.8   \u001b[0m | \u001b[0m 0.8456  \u001b[0m |\n",
      "| \u001b[0m 15      \u001b[0m | \u001b[0m 0.8195  \u001b[0m | \u001b[0m 7.674   \u001b[0m | \u001b[0m 11.93   \u001b[0m | \u001b[0m 1.516   \u001b[0m | \u001b[0m 458.9   \u001b[0m | \u001b[0m 0.8789  \u001b[0m |\n",
      "| \u001b[0m 16      \u001b[0m | \u001b[0m 0.6932  \u001b[0m | \u001b[0m 0.0     \u001b[0m | \u001b[0m 1.0     \u001b[0m | \u001b[0m 0.0     \u001b[0m | \u001b[0m 410.3   \u001b[0m | \u001b[0m 1.0     \u001b[0m |\n",
      "| \u001b[95m 17      \u001b[0m | \u001b[95m 0.8613  \u001b[0m | \u001b[95m 1.467   \u001b[0m | \u001b[95m 8.331   \u001b[0m | \u001b[95m 1.813   \u001b[0m | \u001b[95m 405.0   \u001b[0m | \u001b[95m 0.8624  \u001b[0m |\n",
      "| \u001b[95m 18      \u001b[0m | \u001b[95m 0.8625  \u001b[0m | \u001b[95m 0.4735  \u001b[0m | \u001b[95m 5.499   \u001b[0m | \u001b[95m 2.106   \u001b[0m | \u001b[95m 399.5   \u001b[0m | \u001b[95m 0.9888  \u001b[0m |\n",
      "| \u001b[0m 19      \u001b[0m | \u001b[0m 0.8559  \u001b[0m | \u001b[0m 2.049   \u001b[0m | \u001b[0m 14.13   \u001b[0m | \u001b[0m 4.502   \u001b[0m | \u001b[0m 409.3   \u001b[0m | \u001b[0m 0.8787  \u001b[0m |\n",
      "| \u001b[0m 20      \u001b[0m | \u001b[0m 0.8144  \u001b[0m | \u001b[0m 7.936   \u001b[0m | \u001b[0m 12.5    \u001b[0m | \u001b[0m 4.58    \u001b[0m | \u001b[0m 413.3   \u001b[0m | \u001b[0m 0.8     \u001b[0m |\n",
      "| \u001b[95m 21      \u001b[0m | \u001b[95m 0.8697  \u001b[0m | \u001b[95m 0.02051 \u001b[0m | \u001b[95m 12.09   \u001b[0m | \u001b[95m 0.378   \u001b[0m | \u001b[95m 399.7   \u001b[0m | \u001b[95m 0.8813  \u001b[0m |\n",
      "| \u001b[95m 22      \u001b[0m | \u001b[95m 0.8765  \u001b[0m | \u001b[95m 0.0     \u001b[0m | \u001b[95m 16.83   \u001b[0m | \u001b[95m 0.0     \u001b[0m | \u001b[95m 404.5   \u001b[0m | \u001b[95m 1.0     \u001b[0m |\n",
      "| \u001b[0m 23      \u001b[0m | \u001b[0m 0.8579  \u001b[0m | \u001b[0m 1.895   \u001b[0m | \u001b[0m 18.96   \u001b[0m | \u001b[0m 4.866   \u001b[0m | \u001b[0m 400.2   \u001b[0m | \u001b[0m 0.8009  \u001b[0m |\n",
      "| \u001b[0m 24      \u001b[0m | \u001b[0m 0.8251  \u001b[0m | \u001b[0m 8.314   \u001b[0m | \u001b[0m 18.38   \u001b[0m | \u001b[0m 1.576   \u001b[0m | \u001b[0m 401.8   \u001b[0m | \u001b[0m 0.8936  \u001b[0m |\n",
      "| \u001b[0m 25      \u001b[0m | \u001b[0m 0.8662  \u001b[0m | \u001b[0m 0.7986  \u001b[0m | \u001b[0m 19.0    \u001b[0m | \u001b[0m 0.1897  \u001b[0m | \u001b[0m 395.1   \u001b[0m | \u001b[0m 0.9596  \u001b[0m |\n",
      "=====================================================================================\n",
      "Final Result: {'target': 0.8765147052012864, 'params': {'gamma': 0.0, 'max_depth': 16.83384398373697, 'min_child_weight': 0.0, 'n_estimators': 404.4667633044778, 'subsample': 1.0}}\n"
     ]
    }
   ],
   "source": [
    "print(Colours.red(\"--- Optimizing XGBoost ---\"))\n",
    "optimize_xgb(x_train, y_train)"
   ]
  },
  {
   "cell_type": "markdown",
   "metadata": {},
   "source": [
    "## Hyperparameter tuning of ExtratreesClassifier using Bayesian optimization"
   ]
  },
  {
   "cell_type": "code",
   "execution_count": 56,
   "metadata": {},
   "outputs": [],
   "source": [
    "def etc_cv(n_estimators, min_samples_split, max_features, data, target):\n",
    "    estimator = ExtraTreesClassifier(\n",
    "            n_estimators=n_estimators,\n",
    "            min_samples_split=min_samples_split,\n",
    "            max_features=max_features,\n",
    "            random_state=2,\n",
    "            n_jobs=-1\n",
    "    )\n",
    "    cval = cross_val_score(estimator, data, target, scoring='f1', cv=5)\n",
    "    \n",
    "    return cval.mean()"
   ]
  },
  {
   "cell_type": "code",
   "execution_count": 57,
   "metadata": {},
   "outputs": [],
   "source": [
    "def optimize_etc(data, target):\n",
    "    def etc_crossval(n_estimators, min_samples_split, max_features):\n",
    "        return etc_cv(\n",
    "                n_estimators=int(n_estimators),\n",
    "                min_samples_split=int(min_samples_split),\n",
    "                max_features=max(min(max_features, 0.999), 1e-3),\n",
    "                data=data,\n",
    "                target=target,\n",
    "                )\n",
    "    optimizer = BayesianOptimization(\n",
    "        f=etc_crossval,\n",
    "        pbounds={\n",
    "            \"n_estimators\":(100,500),\n",
    "            \"min_samples_split\":(2,25),\n",
    "            \"max_features\": (0.1,0.9)\n",
    "        },\n",
    "        random_state=42,\n",
    "        verbose=2\n",
    "    )\n",
    "    optimizer.maximize(n_iter=15, init_points=5)\n",
    "    \n",
    "    print(\"Final result:\", optimizer.max)"
   ]
  },
  {
   "cell_type": "code",
   "execution_count": 58,
   "metadata": {},
   "outputs": [
    {
     "name": "stdout",
     "output_type": "stream",
     "text": [
      "\u001b[93m--- Optimizing Extra Trees ---\u001b[0m\n",
      "|   iter    |  target   | max_fe... | min_sa... | n_esti... |\n",
      "-------------------------------------------------------------\n",
      "| \u001b[0m 1       \u001b[0m | \u001b[0m 0.8232  \u001b[0m | \u001b[0m 0.3996  \u001b[0m | \u001b[0m 23.87   \u001b[0m | \u001b[0m 392.8   \u001b[0m |\n",
      "| \u001b[95m 2       \u001b[0m | \u001b[95m 0.8996  \u001b[0m | \u001b[95m 0.5789  \u001b[0m | \u001b[95m 5.588   \u001b[0m | \u001b[95m 162.4   \u001b[0m |\n",
      "| \u001b[0m 3       \u001b[0m | \u001b[0m 0.7977  \u001b[0m | \u001b[0m 0.1465  \u001b[0m | \u001b[0m 21.92   \u001b[0m | \u001b[0m 340.4   \u001b[0m |\n",
      "| \u001b[95m 4       \u001b[0m | \u001b[95m 0.9014  \u001b[0m | \u001b[95m 0.6665  \u001b[0m | \u001b[95m 2.473   \u001b[0m | \u001b[95m 488.0   \u001b[0m |\n",
      "| \u001b[0m 5       \u001b[0m | \u001b[0m 0.8987  \u001b[0m | \u001b[0m 0.766   \u001b[0m | \u001b[0m 6.884   \u001b[0m | \u001b[0m 172.7   \u001b[0m |\n",
      "| \u001b[0m 6       \u001b[0m | \u001b[0m 0.8256  \u001b[0m | \u001b[0m 0.9     \u001b[0m | \u001b[0m 25.0    \u001b[0m | \u001b[0m 100.0   \u001b[0m |\n",
      "| \u001b[95m 7       \u001b[0m | \u001b[95m 0.912   \u001b[0m | \u001b[95m 0.1462  \u001b[0m | \u001b[95m 4.607   \u001b[0m | \u001b[95m 161.5   \u001b[0m |\n",
      "| \u001b[0m 8       \u001b[0m | \u001b[0m 0.9104  \u001b[0m | \u001b[0m 0.1     \u001b[0m | \u001b[0m 2.0     \u001b[0m | \u001b[0m 153.9   \u001b[0m |\n",
      "| \u001b[0m 9       \u001b[0m | \u001b[0m 0.9113  \u001b[0m | \u001b[0m 0.1     \u001b[0m | \u001b[0m 2.0     \u001b[0m | \u001b[0m 184.1   \u001b[0m |\n",
      "| \u001b[0m 10      \u001b[0m | \u001b[0m 0.8656  \u001b[0m | \u001b[0m 0.5457  \u001b[0m | \u001b[0m 13.34   \u001b[0m | \u001b[0m 186.4   \u001b[0m |\n",
      "| \u001b[95m 11      \u001b[0m | \u001b[95m 0.9153  \u001b[0m | \u001b[95m 0.1     \u001b[0m | \u001b[95m 3.266   \u001b[0m | \u001b[95m 475.1   \u001b[0m |\n",
      "| \u001b[0m 12      \u001b[0m | \u001b[0m 0.8699  \u001b[0m | \u001b[0m 0.8846  \u001b[0m | \u001b[0m 13.91   \u001b[0m | \u001b[0m 479.3   \u001b[0m |\n",
      "| \u001b[0m 13      \u001b[0m | \u001b[0m 0.9038  \u001b[0m | \u001b[0m 0.4731  \u001b[0m | \u001b[0m 2.352   \u001b[0m | \u001b[0m 465.1   \u001b[0m |\n",
      "| \u001b[0m 14      \u001b[0m | \u001b[0m 0.8651  \u001b[0m | \u001b[0m 0.7031  \u001b[0m | \u001b[0m 14.11   \u001b[0m | \u001b[0m 455.8   \u001b[0m |\n",
      "| \u001b[0m 15      \u001b[0m | \u001b[0m 0.8999  \u001b[0m | \u001b[0m 0.6331  \u001b[0m | \u001b[0m 2.086   \u001b[0m | \u001b[0m 197.6   \u001b[0m |\n",
      "| \u001b[0m 16      \u001b[0m | \u001b[0m 0.8993  \u001b[0m | \u001b[0m 0.604   \u001b[0m | \u001b[0m 2.458   \u001b[0m | \u001b[0m 211.3   \u001b[0m |\n",
      "| \u001b[0m 17      \u001b[0m | \u001b[0m 0.8621  \u001b[0m | \u001b[0m 0.7568  \u001b[0m | \u001b[0m 15.66   \u001b[0m | \u001b[0m 209.9   \u001b[0m |\n",
      "| \u001b[0m 18      \u001b[0m | \u001b[0m 0.8482  \u001b[0m | \u001b[0m 0.1     \u001b[0m | \u001b[0m 12.96   \u001b[0m | \u001b[0m 149.5   \u001b[0m |\n",
      "| \u001b[0m 19      \u001b[0m | \u001b[0m 0.9015  \u001b[0m | \u001b[0m 0.5674  \u001b[0m | \u001b[0m 3.839   \u001b[0m | \u001b[0m 499.9   \u001b[0m |\n",
      "| \u001b[0m 20      \u001b[0m | \u001b[0m 0.8221  \u001b[0m | \u001b[0m 0.1429  \u001b[0m | \u001b[0m 16.34   \u001b[0m | \u001b[0m 499.2   \u001b[0m |\n",
      "=============================================================\n",
      "Final result: {'target': 0.9152679449532949, 'params': {'max_features': 0.1, 'min_samples_split': 3.2663596937936488, 'n_estimators': 475.0636813997198}}\n"
     ]
    }
   ],
   "source": [
    "print(Colours.yellow(\"--- Optimizing Extra Trees ---\"))\n",
    "optimize_etc(x_train, y_train)"
   ]
  },
  {
   "cell_type": "code",
   "execution_count": 70,
   "metadata": {},
   "outputs": [],
   "source": [
    "etc = ExtraTreesClassifier(n_estimators=int(475.0636813997198),\n",
    "                         min_samples_split=int(3.2663596937936488),\n",
    "                         max_features=0.1,\n",
    "                         n_jobs = -1,\n",
    "                         random_state = 42)"
   ]
  },
  {
   "cell_type": "markdown",
   "metadata": {},
   "source": [
    "## Hyperparameter tuning of RandomForestClassifier using Bayesian optimization"
   ]
  },
  {
   "cell_type": "code",
   "execution_count": 61,
   "metadata": {},
   "outputs": [],
   "source": [
    "def rfc_cv(n_estimators, min_samples_split, max_features, data, target):\n",
    "    estimator = RandomForestClassifier(\n",
    "            n_estimators=n_estimators,\n",
    "            min_samples_split=min_samples_split,\n",
    "            max_features=max_features,\n",
    "            random_state=42,\n",
    "            n_jobs=-1\n",
    "    )\n",
    "    cval = cross_val_score(estimator, data, target, scoring='f1', cv=5)\n",
    "    \n",
    "    return cval.mean()"
   ]
  },
  {
   "cell_type": "code",
   "execution_count": 62,
   "metadata": {},
   "outputs": [],
   "source": [
    "def optimize_rfc(data, target):\n",
    "    def rfc_crossval(n_estimators, min_samples_split, max_features):\n",
    "        return rfc_cv(\n",
    "            n_estimators=int(n_estimators),\n",
    "            min_samples_split=int(min_samples_split),\n",
    "            max_features=max(min(max_features, 0.9), 1e-3),\n",
    "            data=data,\n",
    "            target=target,\n",
    "            )\n",
    "    optimizer = BayesianOptimization(\n",
    "        f=rfc_crossval,\n",
    "        pbounds={\n",
    "            \"n_estimators\":(100,700),\n",
    "            \"min_samples_split\":(2,25),\n",
    "            \"max_features\":(0.1,0.9),\n",
    "        },\n",
    "        random_state=1234,\n",
    "        verbose=2\n",
    "    )\n",
    "    optimizer.maximize(n_iter=15, init_points=5)\n",
    "    \n",
    "    print(\"Final result:\", optimizer.max)"
   ]
  },
  {
   "cell_type": "code",
   "execution_count": 63,
   "metadata": {},
   "outputs": [
    {
     "name": "stdout",
     "output_type": "stream",
     "text": [
      "\u001b[92m--- Optimizing Random Forest ---\u001b[0m\n",
      "|   iter    |  target   | max_fe... | min_sa... | n_esti... |\n",
      "-------------------------------------------------------------\n",
      "| \u001b[0m 1       \u001b[0m | \u001b[0m 0.8463  \u001b[0m | \u001b[0m 0.2532  \u001b[0m | \u001b[0m 16.31   \u001b[0m | \u001b[0m 362.6   \u001b[0m |\n",
      "| \u001b[0m 2       \u001b[0m | \u001b[0m 0.8407  \u001b[0m | \u001b[0m 0.7283  \u001b[0m | \u001b[0m 19.94   \u001b[0m | \u001b[0m 263.6   \u001b[0m |\n",
      "| \u001b[0m 3       \u001b[0m | \u001b[0m 0.8348  \u001b[0m | \u001b[0m 0.3212  \u001b[0m | \u001b[0m 20.44   \u001b[0m | \u001b[0m 674.9   \u001b[0m |\n",
      "| \u001b[95m 4       \u001b[0m | \u001b[95m 0.861   \u001b[0m | \u001b[95m 0.8007  \u001b[0m | \u001b[95m 10.23   \u001b[0m | \u001b[95m 400.6   \u001b[0m |\n",
      "| \u001b[0m 5       \u001b[0m | \u001b[0m 0.8438  \u001b[0m | \u001b[0m 0.6468  \u001b[0m | \u001b[0m 18.39   \u001b[0m | \u001b[0m 322.2   \u001b[0m |\n",
      "| \u001b[95m 6       \u001b[0m | \u001b[95m 0.868   \u001b[0m | \u001b[95m 0.1826  \u001b[0m | \u001b[95m 9.312   \u001b[0m | \u001b[95m 420.7   \u001b[0m |\n",
      "| \u001b[0m 7       \u001b[0m | \u001b[0m 0.8661  \u001b[0m | \u001b[0m 0.6755  \u001b[0m | \u001b[0m 8.511   \u001b[0m | \u001b[0m 420.1   \u001b[0m |\n",
      "| \u001b[0m 8       \u001b[0m | \u001b[0m 0.8368  \u001b[0m | \u001b[0m 0.5235  \u001b[0m | \u001b[0m 20.44   \u001b[0m | \u001b[0m 420.6   \u001b[0m |\n",
      "| \u001b[95m 9       \u001b[0m | \u001b[95m 0.8686  \u001b[0m | \u001b[95m 0.4853  \u001b[0m | \u001b[95m 8.441   \u001b[0m | \u001b[95m 425.9   \u001b[0m |\n",
      "| \u001b[95m 10      \u001b[0m | \u001b[95m 0.8849  \u001b[0m | \u001b[95m 0.2411  \u001b[0m | \u001b[95m 2.522   \u001b[0m | \u001b[95m 432.8   \u001b[0m |\n",
      "| \u001b[0m 11      \u001b[0m | \u001b[0m 0.8701  \u001b[0m | \u001b[0m 0.8725  \u001b[0m | \u001b[0m 5.262   \u001b[0m | \u001b[0m 438.3   \u001b[0m |\n",
      "| \u001b[0m 12      \u001b[0m | \u001b[0m 0.8842  \u001b[0m | \u001b[0m 0.3026  \u001b[0m | \u001b[0m 2.061   \u001b[0m | \u001b[0m 428.2   \u001b[0m |\n",
      "| \u001b[95m 13      \u001b[0m | \u001b[95m 0.8927  \u001b[0m | \u001b[95m 0.1238  \u001b[0m | \u001b[95m 2.001   \u001b[0m | \u001b[95m 460.3   \u001b[0m |\n",
      "| \u001b[0m 14      \u001b[0m | \u001b[0m 0.8852  \u001b[0m | \u001b[0m 0.2271  \u001b[0m | \u001b[0m 2.073   \u001b[0m | \u001b[0m 468.9   \u001b[0m |\n",
      "| \u001b[0m 15      \u001b[0m | \u001b[0m 0.8604  \u001b[0m | \u001b[0m 0.1     \u001b[0m | \u001b[0m 11.67   \u001b[0m | \u001b[0m 462.1   \u001b[0m |\n",
      "| \u001b[0m 16      \u001b[0m | \u001b[0m 0.8922  \u001b[0m | \u001b[0m 0.1244  \u001b[0m | \u001b[0m 2.069   \u001b[0m | \u001b[0m 451.8   \u001b[0m |\n",
      "| \u001b[0m 17      \u001b[0m | \u001b[0m 0.8711  \u001b[0m | \u001b[0m 0.9     \u001b[0m | \u001b[0m 2.0     \u001b[0m | \u001b[0m 483.8   \u001b[0m |\n",
      "| \u001b[0m 18      \u001b[0m | \u001b[0m 0.8705  \u001b[0m | \u001b[0m 0.872   \u001b[0m | \u001b[0m 3.065   \u001b[0m | \u001b[0m 507.6   \u001b[0m |\n",
      "| \u001b[0m 19      \u001b[0m | \u001b[0m 0.8278  \u001b[0m | \u001b[0m 0.1503  \u001b[0m | \u001b[0m 20.63   \u001b[0m | \u001b[0m 499.3   \u001b[0m |\n",
      "| \u001b[0m 20      \u001b[0m | \u001b[0m 0.8723  \u001b[0m | \u001b[0m 0.9     \u001b[0m | \u001b[0m 2.0     \u001b[0m | \u001b[0m 526.2   \u001b[0m |\n",
      "=============================================================\n",
      "Final result: {'target': 0.8927461139962904, 'params': {'max_features': 0.12384969399701724, 'min_samples_split': 2.0014507487523696, 'n_estimators': 460.33471180973487}}\n"
     ]
    }
   ],
   "source": [
    "print(Colours.green(\"--- Optimizing Random Forest ---\"))\n",
    "optimize_rfc(x_train, y_train)"
   ]
  },
  {
   "cell_type": "markdown",
   "metadata": {},
   "source": [
    "## Hyperparameter tuning of LightGradientBoostClassifier using Bayesian optimization"
   ]
  },
  {
   "cell_type": "code",
   "execution_count": 64,
   "metadata": {},
   "outputs": [],
   "source": [
    "def lgb_cv(n_estimators, num_leaves, min_child_samples, subsample, data, target):\n",
    "    estimator = LGBMClassifier(\n",
    "        n_estimators=n_estimators,\n",
    "        num_leaves=num_leaves,\n",
    "        min_child_samples=min_child_samples,\n",
    "        subsample=subsample,\n",
    "        random_state=2\n",
    "    )\n",
    "    cval = cross_val_score(estimator, data, target, scoring='f1', cv=5)\n",
    "    \n",
    "    return cval.mean()"
   ]
  },
  {
   "cell_type": "code",
   "execution_count": 65,
   "metadata": {},
   "outputs": [],
   "source": [
    "def optimize_lgb(data, target):\n",
    "    def lgb_crossval(n_estimators, num_leaves, min_child_samples, subsample):\n",
    "        return lgb_cv(\n",
    "            n_estimators=int(n_estimators),\n",
    "            num_leaves= int(num_leaves),\n",
    "            min_child_samples=int(min_child_samples),\n",
    "            subsample=subsample,\n",
    "            data=data,\n",
    "            target=target,\n",
    "        )\n",
    "    \n",
    "    optimizer = BayesianOptimization(\n",
    "        f=lgb_crossval,\n",
    "        pbounds={\n",
    "            \"n_estimators\":(100,550),\n",
    "            \"num_leaves\":(30,90),\n",
    "            \"min_child_samples\":(5,30),\n",
    "            \"subsample\":(0.6,1.0)\n",
    "        },\n",
    "        random_state=1234,\n",
    "        verbose=2\n",
    "    )\n",
    "    optimizer.maximize(n_iter=15, init_points=5)\n",
    "    \n",
    "    print(\"Final result:\", optimizer.max)"
   ]
  },
  {
   "cell_type": "code",
   "execution_count": 66,
   "metadata": {},
   "outputs": [
    {
     "name": "stdout",
     "output_type": "stream",
     "text": [
      "\u001b[94m--- Optimizing Light GBM ---\u001b[0m\n",
      "|   iter    |  target   | min_ch... | n_esti... | num_le... | subsample |\n",
      "-------------------------------------------------------------------------\n",
      "| \u001b[0m 1       \u001b[0m | \u001b[0m 0.8777  \u001b[0m | \u001b[0m 9.788   \u001b[0m | \u001b[0m 379.9   \u001b[0m | \u001b[0m 56.26   \u001b[0m | \u001b[0m 0.9141  \u001b[0m |\n",
      "| \u001b[0m 2       \u001b[0m | \u001b[0m 0.8659  \u001b[0m | \u001b[0m 24.5    \u001b[0m | \u001b[0m 222.7   \u001b[0m | \u001b[0m 46.59   \u001b[0m | \u001b[0m 0.9207  \u001b[0m |\n",
      "| \u001b[0m 3       \u001b[0m | \u001b[0m 0.8729  \u001b[0m | \u001b[0m 28.95   \u001b[0m | \u001b[0m 494.2   \u001b[0m | \u001b[0m 51.47   \u001b[0m | \u001b[0m 0.8004  \u001b[0m |\n",
      "| \u001b[0m 4       \u001b[0m | \u001b[0m 0.8752  \u001b[0m | \u001b[0m 22.09   \u001b[0m | \u001b[0m 420.7   \u001b[0m | \u001b[0m 52.22   \u001b[0m | \u001b[0m 0.8245  \u001b[0m |\n",
      "| \u001b[0m 5       \u001b[0m | \u001b[0m 0.8628  \u001b[0m | \u001b[0m 17.58   \u001b[0m | \u001b[0m 106.2   \u001b[0m | \u001b[0m 76.37   \u001b[0m | \u001b[0m 0.9531  \u001b[0m |\n",
      "| \u001b[0m 6       \u001b[0m | \u001b[0m 0.8753  \u001b[0m | \u001b[0m 30.0    \u001b[0m | \u001b[0m 338.7   \u001b[0m | \u001b[0m 90.0    \u001b[0m | \u001b[0m 0.6     \u001b[0m |\n",
      "| \u001b[0m 7       \u001b[0m | \u001b[0m 0.8757  \u001b[0m | \u001b[0m 10.39   \u001b[0m | \u001b[0m 377.0   \u001b[0m | \u001b[0m 56.95   \u001b[0m | \u001b[0m 0.7809  \u001b[0m |\n",
      "| \u001b[0m 8       \u001b[0m | \u001b[0m 0.8777  \u001b[0m | \u001b[0m 9.072   \u001b[0m | \u001b[0m 392.8   \u001b[0m | \u001b[0m 56.69   \u001b[0m | \u001b[0m 0.9668  \u001b[0m |\n",
      "| \u001b[0m 9       \u001b[0m | \u001b[0m 0.8735  \u001b[0m | \u001b[0m 6.016   \u001b[0m | \u001b[0m 384.4   \u001b[0m | \u001b[0m 42.04   \u001b[0m | \u001b[0m 0.6216  \u001b[0m |\n",
      "| \u001b[0m 10      \u001b[0m | \u001b[0m 0.8729  \u001b[0m | \u001b[0m 23.38   \u001b[0m | \u001b[0m 389.8   \u001b[0m | \u001b[0m 56.91   \u001b[0m | \u001b[0m 0.9322  \u001b[0m |\n",
      "| \u001b[95m 11      \u001b[0m | \u001b[95m 0.8797  \u001b[0m | \u001b[95m 7.949   \u001b[0m | \u001b[95m 389.7   \u001b[0m | \u001b[95m 70.35   \u001b[0m | \u001b[95m 0.8328  \u001b[0m |\n",
      "| \u001b[95m 12      \u001b[0m | \u001b[95m 0.8797  \u001b[0m | \u001b[95m 5.426   \u001b[0m | \u001b[95m 403.5   \u001b[0m | \u001b[95m 76.44   \u001b[0m | \u001b[95m 0.7164  \u001b[0m |\n",
      "| \u001b[0m 13      \u001b[0m | \u001b[0m 0.8791  \u001b[0m | \u001b[0m 5.957   \u001b[0m | \u001b[0m 392.7   \u001b[0m | \u001b[0m 89.42   \u001b[0m | \u001b[0m 1.0     \u001b[0m |\n",
      "| \u001b[95m 14      \u001b[0m | \u001b[95m 0.8803  \u001b[0m | \u001b[95m 20.55   \u001b[0m | \u001b[95m 406.1   \u001b[0m | \u001b[95m 86.85   \u001b[0m | \u001b[95m 0.8013  \u001b[0m |\n",
      "| \u001b[95m 15      \u001b[0m | \u001b[95m 0.8823  \u001b[0m | \u001b[95m 8.417   \u001b[0m | \u001b[95m 421.3   \u001b[0m | \u001b[95m 89.36   \u001b[0m | \u001b[95m 0.6353  \u001b[0m |\n",
      "| \u001b[0m 16      \u001b[0m | \u001b[0m 0.8792  \u001b[0m | \u001b[0m 25.05   \u001b[0m | \u001b[0m 428.6   \u001b[0m | \u001b[0m 90.0    \u001b[0m | \u001b[0m 1.0     \u001b[0m |\n",
      "| \u001b[0m 17      \u001b[0m | \u001b[0m 0.8811  \u001b[0m | \u001b[0m 5.0     \u001b[0m | \u001b[0m 438.9   \u001b[0m | \u001b[0m 83.22   \u001b[0m | \u001b[0m 1.0     \u001b[0m |\n",
      "| \u001b[0m 18      \u001b[0m | \u001b[0m 0.8798  \u001b[0m | \u001b[0m 13.08   \u001b[0m | \u001b[0m 460.0   \u001b[0m | \u001b[0m 90.0    \u001b[0m | \u001b[0m 0.7032  \u001b[0m |\n",
      "| \u001b[0m 19      \u001b[0m | \u001b[0m 0.8785  \u001b[0m | \u001b[0m 5.324   \u001b[0m | \u001b[0m 454.6   \u001b[0m | \u001b[0m 62.96   \u001b[0m | \u001b[0m 0.834   \u001b[0m |\n",
      "| \u001b[0m 20      \u001b[0m | \u001b[0m 0.8797  \u001b[0m | \u001b[0m 25.5    \u001b[0m | \u001b[0m 429.1   \u001b[0m | \u001b[0m 89.58   \u001b[0m | \u001b[0m 0.9423  \u001b[0m |\n",
      "=========================================================================\n",
      "Final result: {'target': 0.8823051785339592, 'params': {'min_child_samples': 8.4174848597802, 'n_estimators': 421.30180892005114, 'num_leaves': 89.36134381515042, 'subsample': 0.635277034388599}}\n"
     ]
    }
   ],
   "source": [
    "print(Colours.blue(\"--- Optimizing Light GBM ---\"))\n",
    "optimize_lgb(x_train, y_train)"
   ]
  },
  {
   "cell_type": "markdown",
   "metadata": {},
   "source": [
    "## Hyperparameter tuning of ExtremeGradientBoosting and RandomForest Classifier using Bayesian optimization"
   ]
  },
  {
   "cell_type": "code",
   "execution_count": 67,
   "metadata": {},
   "outputs": [],
   "source": [
    "def xgb_cv(n_estimators, max_depth, gamma, min_child_weight, subsample, data, targets):\n",
    "    estimator = XGBRFClassifier(\n",
    "        n_estimators=n_estimators,\n",
    "        max_depth = max_depth,\n",
    "        gamma = gamma,\n",
    "        min_child_weight=min_child_weight,\n",
    "        subsample = subsample,\n",
    "        random_state = 2,\n",
    "    )\n",
    "    cval = cross_val_score(estimator, data, targets,\n",
    "                           scoring='f1', cv=5)\n",
    "    return cval.mean()"
   ]
  },
  {
   "cell_type": "code",
   "execution_count": 68,
   "metadata": {},
   "outputs": [],
   "source": [
    "def optimize_xgb(data, targets):\n",
    "    def xgb_crossval(n_estimators, max_depth, gamma, min_child_weight, subsample):\n",
    "        return xgb_cv(\n",
    "            n_estimators=int(n_estimators),\n",
    "            max_depth = int(max_depth),\n",
    "            gamma = gamma,\n",
    "            min_child_weight=min_child_weight,\n",
    "            subsample=subsample,\n",
    "            data=data,\n",
    "            targets=targets,\n",
    "        )\n",
    "\n",
    "    optimizer = BayesianOptimization(\n",
    "        f=xgb_crossval,\n",
    "        pbounds={\n",
    "            \"n_estimators\": (100, 550),\n",
    "            \"max_depth\": (6,15),\n",
    "            \"gamma\": (0,10),\n",
    "            \"min_child_weight\": (0,10),\n",
    "            \"subsample\": (0.8,1.0)\n",
    "        },\n",
    "        random_state=1234,\n",
    "        verbose=2\n",
    "    )\n",
    "    optimizer.maximize(n_iter=15, init_points=5)\n",
    "\n",
    "    print(\"Final result:\", optimizer.max)"
   ]
  },
  {
   "cell_type": "code",
   "execution_count": 69,
   "metadata": {},
   "outputs": [
    {
     "name": "stdout",
     "output_type": "stream",
     "text": [
      "\u001b[91m--- Optimizing XGBoost RandomForest ---\u001b[0m\n",
      "|   iter    |  target   |   gamma   | max_depth | min_ch... | n_esti... | subsample |\n",
      "-------------------------------------------------------------------------------------\n",
      "| \u001b[0m 1       \u001b[0m | \u001b[0m 0.7756  \u001b[0m | \u001b[0m 1.915   \u001b[0m | \u001b[0m 11.6    \u001b[0m | \u001b[0m 4.377   \u001b[0m | \u001b[0m 453.4   \u001b[0m | \u001b[0m 0.956   \u001b[0m |\n",
      "| \u001b[0m 2       \u001b[0m | \u001b[0m 0.7381  \u001b[0m | \u001b[0m 2.726   \u001b[0m | \u001b[0m 8.488   \u001b[0m | \u001b[0m 8.019   \u001b[0m | \u001b[0m 531.2   \u001b[0m | \u001b[0m 0.9752  \u001b[0m |\n",
      "| \u001b[0m 3       \u001b[0m | \u001b[0m 0.7472  \u001b[0m | \u001b[0m 3.578   \u001b[0m | \u001b[0m 10.51   \u001b[0m | \u001b[0m 6.835   \u001b[0m | \u001b[0m 420.7   \u001b[0m | \u001b[0m 0.8741  \u001b[0m |\n",
      "| \u001b[95m 4       \u001b[0m | \u001b[95m 0.8207  \u001b[0m | \u001b[95m 5.612   \u001b[0m | \u001b[95m 10.53   \u001b[0m | \u001b[95m 0.1377  \u001b[0m | \u001b[95m 447.8   \u001b[0m | \u001b[95m 0.9765  \u001b[0m |\n",
      "| \u001b[95m 5       \u001b[0m | \u001b[95m 0.826   \u001b[0m | \u001b[95m 3.649   \u001b[0m | \u001b[95m 11.54   \u001b[0m | \u001b[95m 0.7538  \u001b[0m | \u001b[95m 266.0   \u001b[0m | \u001b[95m 0.9866  \u001b[0m |\n",
      "| \u001b[0m 6       \u001b[0m | \u001b[0m 0.7397  \u001b[0m | \u001b[0m 5.153   \u001b[0m | \u001b[0m 7.633   \u001b[0m | \u001b[0m 3.77    \u001b[0m | \u001b[0m 134.2   \u001b[0m | \u001b[0m 0.8525  \u001b[0m |\n",
      "| \u001b[95m 7       \u001b[0m | \u001b[95m 0.827   \u001b[0m | \u001b[95m 6.275   \u001b[0m | \u001b[95m 11.11   \u001b[0m | \u001b[95m 0.3784  \u001b[0m | \u001b[95m 448.7   \u001b[0m | \u001b[95m 0.9131  \u001b[0m |\n",
      "| \u001b[0m 8       \u001b[0m | \u001b[0m 0.795   \u001b[0m | \u001b[0m 10.0    \u001b[0m | \u001b[0m 15.0    \u001b[0m | \u001b[0m 0.0     \u001b[0m | \u001b[0m 445.3   \u001b[0m | \u001b[0m 0.8     \u001b[0m |\n",
      "| \u001b[0m 9       \u001b[0m | \u001b[0m 0.7261  \u001b[0m | \u001b[0m 10.0    \u001b[0m | \u001b[0m 6.783   \u001b[0m | \u001b[0m 0.0     \u001b[0m | \u001b[0m 451.3   \u001b[0m | \u001b[0m 0.8     \u001b[0m |\n",
      "| \u001b[95m 10      \u001b[0m | \u001b[95m 0.8498  \u001b[0m | \u001b[95m 4.915   \u001b[0m | \u001b[95m 14.36   \u001b[0m | \u001b[95m 0.0     \u001b[0m | \u001b[95m 448.2   \u001b[0m | \u001b[95m 0.8856  \u001b[0m |\n",
      "| \u001b[95m 11      \u001b[0m | \u001b[95m 0.8715  \u001b[0m | \u001b[95m 0.5343  \u001b[0m | \u001b[95m 15.0    \u001b[0m | \u001b[95m 0.0     \u001b[0m | \u001b[95m 445.6   \u001b[0m | \u001b[95m 0.8     \u001b[0m |\n",
      "| \u001b[95m 12      \u001b[0m | \u001b[95m 0.8717  \u001b[0m | \u001b[95m 0.0     \u001b[0m | \u001b[95m 15.0    \u001b[0m | \u001b[95m 0.0     \u001b[0m | \u001b[95m 440.5   \u001b[0m | \u001b[95m 0.8     \u001b[0m |\n",
      "| \u001b[0m 13      \u001b[0m | \u001b[0m 0.757   \u001b[0m | \u001b[0m 0.0     \u001b[0m | \u001b[0m 15.0    \u001b[0m | \u001b[0m 5.886   \u001b[0m | \u001b[0m 442.3   \u001b[0m | \u001b[0m 0.8     \u001b[0m |\n",
      "| \u001b[0m 14      \u001b[0m | \u001b[0m 0.8335  \u001b[0m | \u001b[0m 0.3559  \u001b[0m | \u001b[0m 10.51   \u001b[0m | \u001b[0m 0.2774  \u001b[0m | \u001b[0m 440.3   \u001b[0m | \u001b[0m 0.8303  \u001b[0m |\n",
      "| \u001b[0m 15      \u001b[0m | \u001b[0m 0.8517  \u001b[0m | \u001b[0m 4.081   \u001b[0m | \u001b[0m 13.43   \u001b[0m | \u001b[0m 0.4403  \u001b[0m | \u001b[0m 436.7   \u001b[0m | \u001b[0m 0.9305  \u001b[0m |\n",
      "| \u001b[0m 16      \u001b[0m | \u001b[0m 0.8152  \u001b[0m | \u001b[0m 9.244   \u001b[0m | \u001b[0m 15.0    \u001b[0m | \u001b[0m 0.0     \u001b[0m | \u001b[0m 432.1   \u001b[0m | \u001b[0m 1.0     \u001b[0m |\n",
      "| \u001b[95m 17      \u001b[0m | \u001b[95m 0.8744  \u001b[0m | \u001b[95m 0.0     \u001b[0m | \u001b[95m 15.0    \u001b[0m | \u001b[95m 0.0     \u001b[0m | \u001b[95m 434.2   \u001b[0m | \u001b[95m 0.993   \u001b[0m |\n",
      "| \u001b[0m 18      \u001b[0m | \u001b[0m 0.8156  \u001b[0m | \u001b[0m 0.0     \u001b[0m | \u001b[0m 9.486   \u001b[0m | \u001b[0m 0.0     \u001b[0m | \u001b[0m 431.7   \u001b[0m | \u001b[0m 1.0     \u001b[0m |\n",
      "| \u001b[0m 19      \u001b[0m | \u001b[0m 0.7853  \u001b[0m | \u001b[0m 0.9615  \u001b[0m | \u001b[0m 13.33   \u001b[0m | \u001b[0m 4.242   \u001b[0m | \u001b[0m 256.5   \u001b[0m | \u001b[0m 0.9667  \u001b[0m |\n",
      "| \u001b[0m 20      \u001b[0m | \u001b[0m 0.7824  \u001b[0m | \u001b[0m 9.014   \u001b[0m | \u001b[0m 9.766   \u001b[0m | \u001b[0m 0.0     \u001b[0m | \u001b[0m 273.8   \u001b[0m | \u001b[0m 1.0     \u001b[0m |\n",
      "=====================================================================================\n",
      "Final result: {'target': 0.8744378797014665, 'params': {'gamma': 0.0, 'max_depth': 15.0, 'min_child_weight': 0.0, 'n_estimators': 434.16675734243404, 'subsample': 0.9930407891160435}}\n"
     ]
    }
   ],
   "source": [
    "print(Colours.red(\"--- Optimizing XGBoost RandomForest ---\"))\n",
    "optimize_xgb(x_train, y_train)"
   ]
  },
  {
   "cell_type": "markdown",
   "metadata": {},
   "source": [
    "## So from the accuracies (f1_score) of each of the Ensembling Techniques the ExtraTreesClassifier gives the best accuracy that is the best f1_score value and hence its my final model \n",
    "\n",
    "\n",
    "## Now checking the model performance by plotting the Learning Curve\n",
    "### Metric Used : 'f1_micro' - Calculate metrics globally by counting the total true positives, false negatives and false positives \n",
    "\n",
    "###  'f1_micro' score reaches its best value at 1 and worst score at 0."
   ]
  },
  {
   "cell_type": "code",
   "execution_count": 71,
   "metadata": {},
   "outputs": [],
   "source": [
    "from sklearn.model_selection import learning_curve"
   ]
  },
  {
   "cell_type": "code",
   "execution_count": 73,
   "metadata": {},
   "outputs": [],
   "source": [
    "train_sizes, train_scores, valid_scores = learning_curve(\n",
    "etc , x_train, y_train, train_sizes=np.linspace(0.01, 1.0, 6), scoring='f1_micro', cv=5)"
   ]
  },
  {
   "cell_type": "code",
   "execution_count": 74,
   "metadata": {},
   "outputs": [
    {
     "name": "stdout",
     "output_type": "stream",
     "text": [
      "Mean training scores\n",
      "\n",
      " 70     -1.0\n",
      "1468   -1.0\n",
      "2866   -1.0\n",
      "4264   -1.0\n",
      "5662   -1.0\n",
      "7060   -1.0\n",
      "dtype: float64\n",
      "\n",
      " --------------------\n",
      "\n",
      "Mean valid scores\n",
      "\n",
      " 70     -0.632908\n",
      "1468   -0.717554\n",
      "2866   -0.740783\n",
      "4264   -0.784522\n",
      "5662   -0.885341\n",
      "7060   -0.923630\n",
      "dtype: float64\n"
     ]
    }
   ],
   "source": [
    "train_scores_mean = -train_scores.mean(axis = 1)\n",
    "valid_scores_mean = -valid_scores.mean(axis = 1)\n",
    "print('Mean training scores\\n\\n', pd.Series(train_scores_mean, index = train_sizes))\n",
    "print('\\n', '-' * 20) # separator\n",
    "print('\\nMean valid scores\\n\\n',pd.Series(valid_scores_mean, index = train_sizes))"
   ]
  },
  {
   "cell_type": "code",
   "execution_count": 75,
   "metadata": {},
   "outputs": [
    {
     "data": {
      "text/plain": [
       "<matplotlib.legend.Legend at 0x2360a789848>"
      ]
     },
     "execution_count": 75,
     "metadata": {},
     "output_type": "execute_result"
    },
    {
     "data": {
      "image/png": "[encoded data removed]",
      "text/plain": [
       "<Figure size 576x396 with 1 Axes>"
      ]
     },
     "metadata": {},
     "output_type": "display_data"
    }
   ],
   "source": [
    "plt.style.use('seaborn')\n",
    "plt.plot(train_sizes, train_scores_mean, label = 'Training error')\n",
    "plt.plot(train_sizes, valid_scores_mean, label = 'Validation error')\n",
    "plt.ylabel('f1_micro', fontsize = 14)\n",
    "plt.xlabel('Training set size', fontsize = 14)\n",
    "plt.title('Learning curves for classification model', fontsize = 18, y = 1.03)\n",
    "plt.legend()"
   ]
  }
 ],
 "metadata": {
  "kernelspec": {
   "display_name": "Python 3",
   "language": "python",
   "name": "python3"
  },
  "language_info": {
   "codemirror_mode": {
    "name": "ipython",
    "version": 3
   },
   "file_extension": ".py",
   "mimetype": "text/x-python",
   "name": "python",
   "nbconvert_exporter": "python",
   "pygments_lexer": "ipython3",
   "version": "3.7.6"
  }
 },
 "nbformat": 4,
 "nbformat_minor": 2
}
